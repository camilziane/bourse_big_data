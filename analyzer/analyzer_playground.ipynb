{
 "cells": [
  {
   "cell_type": "code",
   "execution_count": 1,
   "metadata": {},
   "outputs": [],
   "source": [
    "%load_ext autoreload\n",
    "%autoreload 2"
   ]
  },
  {
   "cell_type": "code",
   "execution_count": 2,
   "metadata": {},
   "outputs": [
    {
     "name": "stdout",
     "output_type": "stream",
     "text": [
      "Logs of timescaledb_model go to /tmp/bourse.log\n"
     ]
    }
   ],
   "source": [
    "import pandas as pd\n",
    "import numpy as np\n",
    "import sklearn\n",
    "import timescaledb_model as tsdb\n",
    "from analyze import get_files_infos_df, store_file"
   ]
  },
  {
   "cell_type": "code",
   "execution_count": null,
   "metadata": {},
   "outputs": [],
   "source": [
    "# files_infos_df = get_files_infos_df()\n",
    "# files_infos_df.to_pickle('files_infos_df.pkl')"
   ]
  },
  {
   "cell_type": "markdown",
   "metadata": {},
   "source": [
    "## Files Dataframe - Filtering\n",
    "1 hour for each Last day of Each month"
   ]
  },
  {
   "cell_type": "code",
   "execution_count": 3,
   "metadata": {},
   "outputs": [],
   "source": [
    "files_infos_df = get_files_infos_df(\"./files_infos.pkl\")"
   ]
  },
  {
   "cell_type": "code",
   "execution_count": null,
   "metadata": {},
   "outputs": [],
   "source": [
    "files_infos_df[\"year_month\"] = files_infos_df.index.to_period(\"M\")\n",
    "files_infos_df[\"date\"] = files_infos_df.index.date\n",
    "dates_to_take = files_infos_df.groupby([files_infos_df[\"year_month\"], files_infos_df[\"prefix\"]]).last()[\"date\"]\n",
    "file_infos_df_filtered = files_infos_df[files_infos_df[\"date\"].isin(dates_to_take)]\n",
    "file_infos_df_filtered[\"hour\"] = file_infos_df_filtered.index.hour\n",
    "file_infos_df_filtered = file_infos_df_filtered.groupby([file_infos_df_filtered[\"date\"], file_infos_df_filtered[\"hour\"], file_infos_df_filtered[\"prefix\"]]).first().reset_index()"
   ]
  },
  {
   "cell_type": "markdown",
   "metadata": {},
   "source": [
    "## PEA PME - Symbol NF handling"
   ]
  },
  {
   "cell_type": "code",
   "execution_count": 5,
   "metadata": {},
   "outputs": [],
   "source": [
    "df =store_file(files_infos_df[files_infos_df[\"prefix\"] == \"peapme\"][\"path\"].iloc[0])"
   ]
  },
  {
   "cell_type": "code",
   "execution_count": 6,
   "metadata": {},
   "outputs": [],
   "source": [
    "df[\"prefix\"] = df[\"symbol\"].apply(lambda x: x[0:3])"
   ]
  },
  {
   "cell_type": "code",
   "execution_count": 7,
   "metadata": {},
   "outputs": [],
   "source": [
    "map_prefix_to_symbol = {\n",
    "    \"1rP\": lambda x: x[3:8],\n",
    "    \"1rA\": lambda x: x[3:8],\n",
    "    \"1rE\": lambda x: x[4:9],\n",
    "    \"FF1\": lambda x: x.split(\"_\")[1],\n",
    "}\n",
    "\n",
    "df[\"symbol_nf\"] = df.apply(\n",
    "    lambda x: map_prefix_to_symbol.get(x[\"prefix\"], lambda x: np.nan)(x[\"symbol\"]),\n",
    "    axis=1,\n",
    ")"
   ]
  }
 ],
 "metadata": {
  "kernelspec": {
   "display_name": "big_data_bourse",
   "language": "python",
   "name": "python3"
  },
  "language_info": {
   "codemirror_mode": {
    "name": "ipython",
    "version": 3
   },
   "file_extension": ".py",
   "mimetype": "text/x-python",
   "name": "python",
   "nbconvert_exporter": "python",
   "pygments_lexer": "ipython3",
   "version": "3.10.12"
  }
 },
 "nbformat": 4,
 "nbformat_minor": 2
}
