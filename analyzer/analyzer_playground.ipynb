{
 "cells": [
  {
   "cell_type": "code",
   "execution_count": 2,
   "metadata": {},
   "outputs": [],
   "source": [
    "%load_ext autoreload\n",
    "%autoreload 2"
   ]
  },
  {
   "cell_type": "code",
   "execution_count": 3,
   "metadata": {},
   "outputs": [
    {
     "name": "stdout",
     "output_type": "stream",
     "text": [
      "Logs of timescaledb_model go to /tmp/bourse.log\n"
     ]
    }
   ],
   "source": [
    "import pandas as pd\n",
    "import numpy as np\n",
    "import sklearn\n",
    "import timescaledb_model as tsdb\n",
    "from analyze import get_files_infos_df, store_file\n",
    "from tqdm import tqdm \n",
    "from utils import multi_read_df_from_paths"
   ]
  },
  {
   "cell_type": "code",
   "execution_count": 33,
   "metadata": {},
   "outputs": [],
   "source": [
    "# files_infos_df = get_files_infos_df()\n",
    "# files_infos_df.to_pickle('files_infos.pkl')"
   ]
  },
  {
   "cell_type": "markdown",
   "metadata": {},
   "source": [
    "## Files Dataframe - Filtering\n",
    "1 hour for each Last day of Each month"
   ]
  },
  {
   "cell_type": "code",
   "execution_count": 34,
   "metadata": {},
   "outputs": [],
   "source": [
    "files_infos_df = get_files_infos_df(\"./files_infos.pkl\")"
   ]
  },
  {
   "cell_type": "code",
   "execution_count": 35,
   "metadata": {},
   "outputs": [],
   "source": [
    "np.random.seed(42)\n",
    "dates_to_take = files_infos_df.groupby([files_infos_df[\"year_month\"]]).apply(lambda x :x.sample(n=1)).reset_index(drop=True)[\"date\"]\n",
    "file_infos_df_filtered = files_infos_df[files_infos_df[\"date\"].isin(dates_to_take)]"
   ]
  },
  {
   "cell_type": "code",
   "execution_count": 36,
   "metadata": {},
   "outputs": [],
   "source": [
    "file_infos_df_filtered[\"hour\"] = file_infos_df_filtered.index.hour\n",
    "file_infos_df_filtered = file_infos_df_filtered.groupby([file_infos_df_filtered[\"date\"], file_infos_df_filtered[\"hour\"], file_infos_df_filtered[\"market\"]]).first().reset_index()"
   ]
  },
  {
   "cell_type": "code",
   "execution_count": 8,
   "metadata": {},
   "outputs": [
    {
     "name": "stderr",
     "output_type": "stream",
     "text": [
      "100%|██████████| 1944/1944 [00:06<00:00, 307.15it/s]\n"
     ]
    }
   ],
   "source": [
    "# dfs = multi_read_df_from_paths(list(file_infos_df_filtered[\"path\"]))"
   ]
  },
  {
   "cell_type": "markdown",
   "metadata": {},
   "source": [
    "## PEA PME - Symbol NF handling"
   ]
  },
  {
   "cell_type": "markdown",
   "metadata": {},
   "source": [
    "### Check if every files from PEA PME have the same prefixes"
   ]
  },
  {
   "cell_type": "code",
   "execution_count": 140,
   "metadata": {},
   "outputs": [
    {
     "name": "stdout",
     "output_type": "stream",
     "text": [
      "Logs of timescaledb_model go to /tmp/bourse.log\n"
     ]
    },
    {
     "name": "stderr",
     "output_type": "stream",
     "text": [
      " 20%|█▉        | 63/317 [00:00<00:00, 589.57it/s]"
     ]
    },
    {
     "name": "stderr",
     "output_type": "stream",
     "text": [
      "100%|██████████| 317/317 [00:00<00:00, 324.93it/s]\n"
     ]
    }
   ],
   "source": [
    "dfs = multi_read_df_from_paths(list(file_infos_df_filtered[file_infos_df_filtered[\"market\"] == \"peapme\"] [\"path\"]))"
   ]
  },
  {
   "cell_type": "code",
   "execution_count": 141,
   "metadata": {},
   "outputs": [],
   "source": [
    "def get_prefix(df: pd.DataFrame, prefix_function = lambda x : x[0:3]) -> set:\n",
    "    df[\"prefix\"] = df[\"symbol\"].apply(prefix_function)\n",
    "    return set(df[\"prefix\"].unique())\n"
   ]
  },
  {
   "cell_type": "code",
   "execution_count": 142,
   "metadata": {},
   "outputs": [],
   "source": [
    "# prefixes = set()\n",
    "# for i, df in enumerate(dfs):\n",
    "#     current_prefixes = get_prefix(df)\n",
    "#     if not current_prefixes.issubset(prefixes):\n",
    "#         prefixes = prefixes.union(current_prefixes)\n",
    "#         # print(current_prefixes, i)\n",
    "# prefixes"
   ]
  },
  {
   "cell_type": "code",
   "execution_count": 161,
   "metadata": {},
   "outputs": [],
   "source": [
    "map_prefix_to_symbol_nf = {\n",
    "    \"1rP\": lambda x: x[3:].split(\"_\")[0] if len(x) != 15 else np.nan,\n",
    "    \"1rA\": lambda x: x[3:],\n",
    "    \"1rE\": lambda x: x[4:],\n",
    "    \"FF1\": lambda x: x.split(\"_\")[1][0:],\n",
    "}"
   ]
  },
  {
   "cell_type": "code",
   "execution_count": 168,
   "metadata": {},
   "outputs": [],
   "source": [
    "def filter_df(df: pd.DataFrame) -> pd.DataFrame:\n",
    "    #TODO\n",
    "    return df\n",
    "def add_symbol_nf_column(df: pd.DataFrame, map_prefix_to_symbol_nf: dict) -> pd.DataFrame:\n",
    "    df[\"prefix\"] = df[\"symbol\"].apply(lambda x: x[0:3])\n",
    "    df[\"symbol_nf\"] = df.apply(\n",
    "        lambda x: map_prefix_to_symbol_nf.get(x[\"prefix\"], lambda _: x[\"symbol\"])(x[\"symbol\"]),\n",
    "        axis=1,\n",
    "    )\n",
    "    return df"
   ]
  },
  {
   "cell_type": "code",
   "execution_count": 172,
   "metadata": {},
   "outputs": [],
   "source": [
    "df = filter_df(dfs[0])\n",
    "df = add_symbol_nf_column(df, map_prefix_to_symbol_nf)\n",
    "symbol_nfs = set(df[\"symbol_nf\"].unique())"
   ]
  },
  {
   "cell_type": "code",
   "execution_count": 170,
   "metadata": {},
   "outputs": [
    {
     "data": {
      "text/html": [
       "<div>\n",
       "<style scoped>\n",
       "    .dataframe tbody tr th:only-of-type {\n",
       "        vertical-align: middle;\n",
       "    }\n",
       "\n",
       "    .dataframe tbody tr th {\n",
       "        vertical-align: top;\n",
       "    }\n",
       "\n",
       "    .dataframe thead th {\n",
       "        text-align: right;\n",
       "    }\n",
       "</style>\n",
       "<table border=\"1\" class=\"dataframe\">\n",
       "  <thead>\n",
       "    <tr style=\"text-align: right;\">\n",
       "      <th></th>\n",
       "      <th>last</th>\n",
       "      <th>volume</th>\n",
       "      <th>symbol</th>\n",
       "      <th>name</th>\n",
       "      <th>prefix</th>\n",
       "      <th>symbol_nf</th>\n",
       "      <th>len</th>\n",
       "    </tr>\n",
       "    <tr>\n",
       "      <th>symbol</th>\n",
       "      <th></th>\n",
       "      <th></th>\n",
       "      <th></th>\n",
       "      <th></th>\n",
       "      <th></th>\n",
       "      <th></th>\n",
       "      <th></th>\n",
       "    </tr>\n",
       "  </thead>\n",
       "  <tbody>\n",
       "    <tr>\n",
       "      <th>1rPALGAUXX</th>\n",
       "      <td>0.115(c)</td>\n",
       "      <td>0</td>\n",
       "      <td>1rPALGAUXX</td>\n",
       "      <td>GAUSSIN</td>\n",
       "      <td>1rP</td>\n",
       "      <td>ALGAUXX</td>\n",
       "      <td>7</td>\n",
       "    </tr>\n",
       "    <tr>\n",
       "      <th>1rEPALMIL</th>\n",
       "      <td>19.000</td>\n",
       "      <td>42</td>\n",
       "      <td>1rEPALMIL</td>\n",
       "      <td>1000MERCIS</td>\n",
       "      <td>1rE</td>\n",
       "      <td>ALMIL</td>\n",
       "      <td>5</td>\n",
       "    </tr>\n",
       "    <tr>\n",
       "      <th>1rPMLCLI</th>\n",
       "      <td>2.060(c)</td>\n",
       "      <td>0</td>\n",
       "      <td>1rPMLCLI</td>\n",
       "      <td>MAISON CLIO</td>\n",
       "      <td>1rP</td>\n",
       "      <td>MLCLI</td>\n",
       "      <td>5</td>\n",
       "    </tr>\n",
       "    <tr>\n",
       "      <th>1rPMEDCL</th>\n",
       "      <td>10.850</td>\n",
       "      <td>4395</td>\n",
       "      <td>1rPMEDCL</td>\n",
       "      <td>MEDINCELL REG</td>\n",
       "      <td>1rP</td>\n",
       "      <td>MEDCL</td>\n",
       "      <td>5</td>\n",
       "    </tr>\n",
       "    <tr>\n",
       "      <th>1rPALMED</th>\n",
       "      <td>6.900(c)</td>\n",
       "      <td>0</td>\n",
       "      <td>1rPALMED</td>\n",
       "      <td>MEDICREA INTERN.</td>\n",
       "      <td>1rP</td>\n",
       "      <td>ALMED</td>\n",
       "      <td>5</td>\n",
       "    </tr>\n",
       "    <tr>\n",
       "      <th>...</th>\n",
       "      <td>...</td>\n",
       "      <td>...</td>\n",
       "      <td>...</td>\n",
       "      <td>...</td>\n",
       "      <td>...</td>\n",
       "      <td>...</td>\n",
       "      <td>...</td>\n",
       "    </tr>\n",
       "    <tr>\n",
       "      <th>1rPIPH</th>\n",
       "      <td>3.740</td>\n",
       "      <td>229788</td>\n",
       "      <td>1rPIPH</td>\n",
       "      <td>INNATE PHARMA</td>\n",
       "      <td>1rP</td>\n",
       "      <td>IPH</td>\n",
       "      <td>3</td>\n",
       "    </tr>\n",
       "    <tr>\n",
       "      <th>1rPGV</th>\n",
       "      <td>0.787</td>\n",
       "      <td>24769</td>\n",
       "      <td>1rPGV</td>\n",
       "      <td>GENOMIC VISION</td>\n",
       "      <td>1rP</td>\n",
       "      <td>GV</td>\n",
       "      <td>2</td>\n",
       "    </tr>\n",
       "    <tr>\n",
       "      <th>1rPSX</th>\n",
       "      <td>4.100</td>\n",
       "      <td>1</td>\n",
       "      <td>1rPSX</td>\n",
       "      <td>CS GROUP</td>\n",
       "      <td>1rP</td>\n",
       "      <td>SX</td>\n",
       "      <td>2</td>\n",
       "    </tr>\n",
       "    <tr>\n",
       "      <th>1rPAB</th>\n",
       "      <td>18.580</td>\n",
       "      <td>7454</td>\n",
       "      <td>1rPAB</td>\n",
       "      <td>AB SCIENCE</td>\n",
       "      <td>1rP</td>\n",
       "      <td>AB</td>\n",
       "      <td>2</td>\n",
       "    </tr>\n",
       "    <tr>\n",
       "      <th>1rPHF</th>\n",
       "      <td>5.280</td>\n",
       "      <td>88</td>\n",
       "      <td>1rPHF</td>\n",
       "      <td>HF COMPANY</td>\n",
       "      <td>1rP</td>\n",
       "      <td>HF</td>\n",
       "      <td>2</td>\n",
       "    </tr>\n",
       "  </tbody>\n",
       "</table>\n",
       "<p>510 rows × 7 columns</p>\n",
       "</div>"
      ],
      "text/plain": [
       "                last  volume      symbol              name prefix symbol_nf  \\\n",
       "symbol                                                                        \n",
       "1rPALGAUXX  0.115(c)       0  1rPALGAUXX           GAUSSIN    1rP   ALGAUXX   \n",
       "1rEPALMIL     19.000      42   1rEPALMIL        1000MERCIS    1rE     ALMIL   \n",
       "1rPMLCLI    2.060(c)       0    1rPMLCLI       MAISON CLIO    1rP     MLCLI   \n",
       "1rPMEDCL      10.850    4395    1rPMEDCL     MEDINCELL REG    1rP     MEDCL   \n",
       "1rPALMED    6.900(c)       0    1rPALMED  MEDICREA INTERN.    1rP     ALMED   \n",
       "...              ...     ...         ...               ...    ...       ...   \n",
       "1rPIPH         3.740  229788      1rPIPH     INNATE PHARMA    1rP       IPH   \n",
       "1rPGV          0.787   24769       1rPGV    GENOMIC VISION    1rP        GV   \n",
       "1rPSX          4.100       1       1rPSX          CS GROUP    1rP        SX   \n",
       "1rPAB         18.580    7454       1rPAB        AB SCIENCE    1rP        AB   \n",
       "1rPHF          5.280      88       1rPHF        HF COMPANY    1rP        HF   \n",
       "\n",
       "            len  \n",
       "symbol           \n",
       "1rPALGAUXX    7  \n",
       "1rEPALMIL     5  \n",
       "1rPMLCLI      5  \n",
       "1rPMEDCL      5  \n",
       "1rPALMED      5  \n",
       "...         ...  \n",
       "1rPIPH        3  \n",
       "1rPGV         2  \n",
       "1rPSX         2  \n",
       "1rPAB         2  \n",
       "1rPHF         2  \n",
       "\n",
       "[510 rows x 7 columns]"
      ]
     },
     "execution_count": 170,
     "metadata": {},
     "output_type": "execute_result"
    }
   ],
   "source": [
    "df[\"len\"] = df[\"symbol_nf\"].apply(len)\n",
    "df.sort_values(\"len\", ascending=False)"
   ]
  },
  {
   "cell_type": "markdown",
   "metadata": {},
   "source": [
    "## CompA - Symbol NF handling"
   ]
  },
  {
   "cell_type": "code",
   "execution_count": null,
   "metadata": {},
   "outputs": [],
   "source": []
  }
 ],
 "metadata": {
  "kernelspec": {
   "display_name": "big_data_bourse",
   "language": "python",
   "name": "python3"
  },
  "language_info": {
   "codemirror_mode": {
    "name": "ipython",
    "version": 3
   },
   "file_extension": ".py",
   "mimetype": "text/x-python",
   "name": "python",
   "nbconvert_exporter": "python",
   "pygments_lexer": "ipython3",
   "version": "3.10.12"
  }
 },
 "nbformat": 4,
 "nbformat_minor": 2
}
