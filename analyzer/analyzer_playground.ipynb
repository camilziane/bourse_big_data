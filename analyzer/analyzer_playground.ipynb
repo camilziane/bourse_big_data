{
 "cells": [
  {
   "cell_type": "code",
   "execution_count": 1,
   "metadata": {},
   "outputs": [],
   "source": [
    "%load_ext autoreload\n",
    "%autoreload 2"
   ]
  },
  {
   "cell_type": "code",
   "execution_count": 2,
   "metadata": {},
   "outputs": [],
   "source": [
    "import pandas as pd\n",
    "import numpy as np\n",
    "import timescaledb_model as tsdb\n",
    "from analyze import get_files_infos_df, read_file, get_files_infos_windows_df\n",
    "from tqdm import tqdm \n",
    "from utils import multi_read_df_from_paths\n",
    "from constant import DATA_PATH, IS_DOCKER\n",
    "import os"
   ]
  },
  {
   "cell_type": "code",
   "execution_count": 3,
   "metadata": {},
   "outputs": [],
   "source": [
    "files_info_path = os.path.join(DATA_PATH, 'files_infos.pkl')\n",
    "# files_infos_df = get_files_infos_df()\n",
    "# files_infos_df = get_files_infos_windows_df()  # for windows\n",
    "# files_infos_df.to_pickle(files_info_path)"
   ]
  },
  {
   "cell_type": "code",
   "execution_count": 4,
   "metadata": {},
   "outputs": [],
   "source": [
    "files_infos_df = get_files_infos_df(files_info_path)\n",
    "# files_infos_df = get_files_infos_windows_df(files_info_path) #for windows"
   ]
  },
  {
   "cell_type": "code",
   "execution_count": 5,
   "metadata": {},
   "outputs": [
    {
     "name": "stderr",
     "output_type": "stream",
     "text": [
      "/var/folders/lb/9z4xr9hd1013w3_cbsw1p6600000gn/T/ipykernel_66023/2876105170.py:2: DeprecationWarning: DataFrameGroupBy.apply operated on the grouping columns. This behavior is deprecated, and in a future version of pandas the grouping columns will be excluded from the operation. Either pass `include_groups=False` to exclude the groupings or explicitly select the grouping columns after groupby to silence this warning.\n",
      "  dates_to_take = files_infos_df.groupby([files_infos_df[\"year_month\"]]).apply(lambda x :x.sample(n=1)).reset_index(drop=True)[\"date\"]\n",
      "/var/folders/lb/9z4xr9hd1013w3_cbsw1p6600000gn/T/ipykernel_66023/2876105170.py:4: SettingWithCopyWarning: \n",
      "A value is trying to be set on a copy of a slice from a DataFrame.\n",
      "Try using .loc[row_indexer,col_indexer] = value instead\n",
      "\n",
      "See the caveats in the documentation: https://pandas.pydata.org/pandas-docs/stable/user_guide/indexing.html#returning-a-view-versus-a-copy\n",
      "  file_infos_df_filtered[\"hour\"] = file_infos_df_filtered.index.hour\n"
     ]
    }
   ],
   "source": [
    "np.random.seed(10)\n",
    "dates_to_take = files_infos_df.groupby([files_infos_df[\"year_month\"]]).apply(lambda x :x.sample(n=1)).reset_index(drop=True)[\"date\"]\n",
    "file_infos_df_filtered = files_infos_df[files_infos_df[\"date\"].isin(dates_to_take)]\n",
    "file_infos_df_filtered[\"hour\"] = file_infos_df_filtered.index.hour\n",
    "file_infos_df_filtered = file_infos_df_filtered.groupby([file_infos_df_filtered[\"date\"], file_infos_df_filtered[\"hour\"], file_infos_df_filtered[\"market\"]]).first().reset_index()"
   ]
  },
  {
   "cell_type": "markdown",
   "metadata": {},
   "source": [
    "## DB"
   ]
  },
  {
   "cell_type": "code",
   "execution_count": 108,
   "metadata": {},
   "outputs": [
    {
     "name": "stdout",
     "output_type": "stream",
     "text": [
      "Logs of timescaledb_model go to ../data/bourse.log\n"
     ]
    }
   ],
   "source": [
    "import timescaledb_model as tsdb\n",
    "db = (\n",
    "    tsdb.TimescaleStockMarketModel(\"bourse\", \"ricou\", \"db\", \"monmdp\")\n",
    "    if IS_DOCKER\n",
    "    else tsdb.TimescaleStockMarketModel(\"bourse\", \"ricou\", \"localhost\", \"monmdp\")\n",
    ")"
   ]
  },
  {
   "cell_type": "markdown",
   "metadata": {},
   "source": [
    "# Utils"
   ]
  },
  {
   "cell_type": "code",
   "execution_count": 7,
   "metadata": {},
   "outputs": [],
   "source": [
    "import re\n",
    "\n",
    "def is_possible_ticker_with_number(symbol):\n",
    "    return bool(re.match(r'^[A-Z0-9\\-]{1,10}$', symbol))\n",
    "\n",
    "def detection_intrus(df: pd.DataFrame):\n",
    "    return df[(df[\"ticker\"].apply(is_possible_ticker_with_number) == False)]"
   ]
  },
  {
   "cell_type": "code",
   "execution_count": 8,
   "metadata": {},
   "outputs": [],
   "source": [
    "def get_prefix(df: pd.DataFrame, prefix_function = lambda x : x[0:3]) -> set:\n",
    "    df[\"prefix\"] = df[\"symbol\"].apply(prefix_function)\n",
    "    return set(df[\"prefix\"].unique())"
   ]
  },
  {
   "cell_type": "code",
   "execution_count": 9,
   "metadata": {},
   "outputs": [],
   "source": [
    "map_prefix_to_symbol_nf = {\n",
    "    \"1rP\": lambda x: x[3:].split(\"_\")[0] if len(x) != 15 else np.nan,  # EuroNext Pars\n",
    "    \"1rA\": lambda x: x[3:],  # EuroNext Amsterdam\n",
    "    \"1rE\": lambda x: x[4:],  # EuroNext Paris\n",
    "    \"FF1\": lambda x: x.split(\"_\")[1][0:],  # EuroNext Brussels\n",
    "}\n",
    "\n",
    "\n",
    "def update_ticker_column(\n",
    "    df: pd.DataFrame,\n",
    ") -> pd.DataFrame:\n",
    "    df[\"ticker\"] = df.apply(\n",
    "        lambda x: map_prefix_to_symbol_nf.get(x[\"prefix\"], lambda _: x[\"symbol\"])(\n",
    "            x[\"symbol\"]\n",
    "        ),\n",
    "        axis=1,\n",
    "    )\n",
    "    return df\n",
    "\n",
    "def update_mid_column(\n",
    "    df: pd.DataFrame,\n",
    "    prefix_to_market_id: dict,\n",
    "    default_mid: int,\n",
    ") -> pd.DataFrame:\n",
    "    df[\"mid\"] = df.apply(\n",
    "        lambda x: prefix_to_market_id.get(x[\"prefix\"],default_mid),\n",
    "        axis=1,\n",
    "    )\n",
    "    return df"
   ]
  },
  {
   "cell_type": "code",
   "execution_count": 111,
   "metadata": {},
   "outputs": [],
   "source": [
    "def dfs_to_companie(\n",
    "    dfs: list[pd.DataFrame], prefix_to_market_id: dict, default_mid: int, is_pea: bool = False\n",
    ") -> pd.DataFrame:\n",
    "    df_all_days = pd.concat(dfs)\n",
    "    df_all_days_grouped = (\n",
    "        df_all_days.reset_index(drop=True).groupby([\"symbol\", \"name\"]).last()\n",
    "    )\n",
    "    df_all_days_grouped[\"name\"] = df_all_days_grouped.index.get_level_values(1)\n",
    "    df_companies = df_all_days_grouped.groupby(\n",
    "        df_all_days_grouped.index.get_level_values(0)\n",
    "    ).last()\n",
    "    df_companies = df_companies.reset_index()[[\"symbol\", \"name\", \"timestamp\"]]\n",
    "    df_companies[\"prefix\"] = df_companies[\"symbol\"].apply(lambda x: x[0:3])\n",
    "    df_companies = update_ticker_column(df_companies)\n",
    "    df_companies = update_mid_column(df_companies, prefix_to_market_id, default_mid=default_mid)\n",
    "    df_companies = df_companies.drop(columns=[\"prefix\"])\n",
    "    df_companies[\"pea\"] = is_pea\n",
    "    return df_companies"
   ]
  },
  {
   "cell_type": "markdown",
   "metadata": {},
   "source": [
    "## Amsterdam - Companies handling"
   ]
  },
  {
   "cell_type": "code",
   "execution_count": 16,
   "metadata": {},
   "outputs": [
    {
     "name": "stderr",
     "output_type": "stream",
     "text": [
      "  0%|          | 0/540 [00:00<?, ?it/s]"
     ]
    },
    {
     "name": "stderr",
     "output_type": "stream",
     "text": [
      "100%|██████████| 540/540 [00:12<00:00, 44.93it/s]\n"
     ]
    }
   ],
   "source": [
    "dfs_amsterdam = multi_read_df_from_paths(list(file_infos_df_filtered[file_infos_df_filtered[\"market\"] == \"amsterdam\"] [\"path\"]))"
   ]
  },
  {
   "cell_type": "code",
   "execution_count": 118,
   "metadata": {},
   "outputs": [],
   "source": [
    "amsterdam_companies = dfs_to_companie(dfs_amsterdam, db.prefix_to_market_id, default_mid=db.nasdaq_market_id) "
   ]
  },
  {
   "cell_type": "code",
   "execution_count": 119,
   "metadata": {},
   "outputs": [
    {
     "data": {
      "text/html": [
       "<div>\n",
       "<style scoped>\n",
       "    .dataframe tbody tr th:only-of-type {\n",
       "        vertical-align: middle;\n",
       "    }\n",
       "\n",
       "    .dataframe tbody tr th {\n",
       "        vertical-align: top;\n",
       "    }\n",
       "\n",
       "    .dataframe thead th {\n",
       "        text-align: right;\n",
       "    }\n",
       "</style>\n",
       "<table border=\"1\" class=\"dataframe\">\n",
       "  <thead>\n",
       "    <tr style=\"text-align: right;\">\n",
       "      <th></th>\n",
       "      <th>symbol</th>\n",
       "      <th>name</th>\n",
       "      <th>timestamp</th>\n",
       "      <th>ticker</th>\n",
       "      <th>mid</th>\n",
       "      <th>pea</th>\n",
       "    </tr>\n",
       "  </thead>\n",
       "  <tbody>\n",
       "    <tr>\n",
       "      <th>0</th>\n",
       "      <td>124718367</td>\n",
       "      <td>ASTRAZENECA FIN CVR</td>\n",
       "      <td>2023-03-16 17:02:01</td>\n",
       "      <td>124718367</td>\n",
       "      <td>14</td>\n",
       "      <td>False</td>\n",
       "    </tr>\n",
       "    <tr>\n",
       "      <th>1</th>\n",
       "      <td>AABA</td>\n",
       "      <td>ALTABA</td>\n",
       "      <td>2019-10-28 17:02:02</td>\n",
       "      <td>AABA</td>\n",
       "      <td>14</td>\n",
       "      <td>False</td>\n",
       "    </tr>\n",
       "    <tr>\n",
       "      <th>2</th>\n",
       "      <td>AACG</td>\n",
       "      <td>ATA CRTV GLB SP ADR</td>\n",
       "      <td>2023-12-21 17:02:02</td>\n",
       "      <td>AACG</td>\n",
       "      <td>14</td>\n",
       "      <td>False</td>\n",
       "    </tr>\n",
       "    <tr>\n",
       "      <th>3</th>\n",
       "      <td>AACI</td>\n",
       "      <td>ARMADA ACQN I</td>\n",
       "      <td>2023-12-21 17:02:02</td>\n",
       "      <td>AACI</td>\n",
       "      <td>14</td>\n",
       "      <td>False</td>\n",
       "    </tr>\n",
       "    <tr>\n",
       "      <th>4</th>\n",
       "      <td>AACIU</td>\n",
       "      <td>ARMADA ACQN I UTS</td>\n",
       "      <td>2023-12-21 17:02:02</td>\n",
       "      <td>AACIU</td>\n",
       "      <td>14</td>\n",
       "      <td>False</td>\n",
       "    </tr>\n",
       "    <tr>\n",
       "      <th>...</th>\n",
       "      <td>...</td>\n",
       "      <td>...</td>\n",
       "      <td>...</td>\n",
       "      <td>...</td>\n",
       "      <td>...</td>\n",
       "      <td>...</td>\n",
       "    </tr>\n",
       "    <tr>\n",
       "      <th>6684</th>\n",
       "      <td>ZWRKU</td>\n",
       "      <td>Z-WORK ACQN UTS 26</td>\n",
       "      <td>2022-12-20 17:02:01</td>\n",
       "      <td>ZWRKU</td>\n",
       "      <td>14</td>\n",
       "      <td>False</td>\n",
       "    </tr>\n",
       "    <tr>\n",
       "      <th>6685</th>\n",
       "      <td>ZY</td>\n",
       "      <td>ZYMERGEN</td>\n",
       "      <td>2022-11-18 17:02:02</td>\n",
       "      <td>ZY</td>\n",
       "      <td>14</td>\n",
       "      <td>False</td>\n",
       "    </tr>\n",
       "    <tr>\n",
       "      <th>6686</th>\n",
       "      <td>ZYME</td>\n",
       "      <td>ZYMEWORKS</td>\n",
       "      <td>2023-12-21 17:02:02</td>\n",
       "      <td>ZYME</td>\n",
       "      <td>14</td>\n",
       "      <td>False</td>\n",
       "    </tr>\n",
       "    <tr>\n",
       "      <th>6687</th>\n",
       "      <td>ZYNE</td>\n",
       "      <td>ZYNERBA PHARMA</td>\n",
       "      <td>2023-10-30 17:02:01</td>\n",
       "      <td>ZYNE</td>\n",
       "      <td>14</td>\n",
       "      <td>False</td>\n",
       "    </tr>\n",
       "    <tr>\n",
       "      <th>6688</th>\n",
       "      <td>ZYXI</td>\n",
       "      <td>ZYNEX</td>\n",
       "      <td>2023-12-21 17:02:02</td>\n",
       "      <td>ZYXI</td>\n",
       "      <td>14</td>\n",
       "      <td>False</td>\n",
       "    </tr>\n",
       "  </tbody>\n",
       "</table>\n",
       "<p>6689 rows × 6 columns</p>\n",
       "</div>"
      ],
      "text/plain": [
       "         symbol                 name           timestamp     ticker  mid  \\\n",
       "0     124718367  ASTRAZENECA FIN CVR 2023-03-16 17:02:01  124718367   14   \n",
       "1          AABA               ALTABA 2019-10-28 17:02:02       AABA   14   \n",
       "2          AACG  ATA CRTV GLB SP ADR 2023-12-21 17:02:02       AACG   14   \n",
       "3          AACI        ARMADA ACQN I 2023-12-21 17:02:02       AACI   14   \n",
       "4         AACIU    ARMADA ACQN I UTS 2023-12-21 17:02:02      AACIU   14   \n",
       "...         ...                  ...                 ...        ...  ...   \n",
       "6684      ZWRKU   Z-WORK ACQN UTS 26 2022-12-20 17:02:01      ZWRKU   14   \n",
       "6685         ZY             ZYMERGEN 2022-11-18 17:02:02         ZY   14   \n",
       "6686       ZYME            ZYMEWORKS 2023-12-21 17:02:02       ZYME   14   \n",
       "6687       ZYNE       ZYNERBA PHARMA 2023-10-30 17:02:01       ZYNE   14   \n",
       "6688       ZYXI                ZYNEX 2023-12-21 17:02:02       ZYXI   14   \n",
       "\n",
       "        pea  \n",
       "0     False  \n",
       "1     False  \n",
       "2     False  \n",
       "3     False  \n",
       "4     False  \n",
       "...     ...  \n",
       "6684  False  \n",
       "6685  False  \n",
       "6686  False  \n",
       "6687  False  \n",
       "6688  False  \n",
       "\n",
       "[6689 rows x 6 columns]"
      ]
     },
     "execution_count": 119,
     "metadata": {},
     "output_type": "execute_result"
    }
   ],
   "source": [
    "amsterdam_companies"
   ]
  },
  {
   "cell_type": "code",
   "execution_count": 156,
   "metadata": {},
   "outputs": [],
   "source": [
    "# detection_intrus(amsterdam_companies)"
   ]
  },
  {
   "cell_type": "markdown",
   "metadata": {},
   "source": [
    "## CompA - Companies handling"
   ]
  },
  {
   "cell_type": "code",
   "execution_count": 20,
   "metadata": {},
   "outputs": [
    {
     "name": "stderr",
     "output_type": "stream",
     "text": [
      "100%|██████████| 540/540 [00:03<00:00, 152.72it/s]\n"
     ]
    }
   ],
   "source": [
    "dfs_compA = multi_read_df_from_paths(list(file_infos_df_filtered[file_infos_df_filtered[\"market\"] == \"compA\"] [\"path\"]))"
   ]
  },
  {
   "cell_type": "code",
   "execution_count": 116,
   "metadata": {},
   "outputs": [],
   "source": [
    "compA_companies = dfs_to_companie(dfs_compA, prefix_to_market_id=db.prefix_to_market_id ,default_mid=db.prefix_to_market_id[\"1rP\"])"
   ]
  },
  {
   "cell_type": "code",
   "execution_count": 117,
   "metadata": {},
   "outputs": [
    {
     "data": {
      "text/html": [
       "<div>\n",
       "<style scoped>\n",
       "    .dataframe tbody tr th:only-of-type {\n",
       "        vertical-align: middle;\n",
       "    }\n",
       "\n",
       "    .dataframe tbody tr th {\n",
       "        vertical-align: top;\n",
       "    }\n",
       "\n",
       "    .dataframe thead th {\n",
       "        text-align: right;\n",
       "    }\n",
       "</style>\n",
       "<table border=\"1\" class=\"dataframe\">\n",
       "  <thead>\n",
       "    <tr style=\"text-align: right;\">\n",
       "      <th></th>\n",
       "      <th>symbol</th>\n",
       "      <th>name</th>\n",
       "      <th>timestamp</th>\n",
       "      <th>ticker</th>\n",
       "      <th>mid</th>\n",
       "      <th>pea</th>\n",
       "    </tr>\n",
       "  </thead>\n",
       "  <tbody>\n",
       "    <tr>\n",
       "      <th>0</th>\n",
       "      <td>1rAAF</td>\n",
       "      <td>AIR FRANCE - KLM</td>\n",
       "      <td>2023-12-21 17:02:02</td>\n",
       "      <td>AF</td>\n",
       "      <td>11</td>\n",
       "      <td>False</td>\n",
       "    </tr>\n",
       "    <tr>\n",
       "      <th>1</th>\n",
       "      <td>1rAAFA</td>\n",
       "      <td>AIR FRANCE - KLM</td>\n",
       "      <td>2023-12-21 17:02:02</td>\n",
       "      <td>AFA</td>\n",
       "      <td>11</td>\n",
       "      <td>False</td>\n",
       "    </tr>\n",
       "    <tr>\n",
       "      <th>2</th>\n",
       "      <td>1rAENX</td>\n",
       "      <td>EURONEXT</td>\n",
       "      <td>2023-12-21 17:02:02</td>\n",
       "      <td>ENX</td>\n",
       "      <td>11</td>\n",
       "      <td>False</td>\n",
       "    </tr>\n",
       "    <tr>\n",
       "      <th>3</th>\n",
       "      <td>1rAGTO</td>\n",
       "      <td>GEMALTO</td>\n",
       "      <td>2019-06-21 17:02:02</td>\n",
       "      <td>GTO</td>\n",
       "      <td>11</td>\n",
       "      <td>False</td>\n",
       "    </tr>\n",
       "    <tr>\n",
       "      <th>4</th>\n",
       "      <td>1rARDSADT</td>\n",
       "      <td>ROYAL D SH DRP 21</td>\n",
       "      <td>2021-10-05 17:02:01</td>\n",
       "      <td>RDSADT</td>\n",
       "      <td>11</td>\n",
       "      <td>False</td>\n",
       "    </tr>\n",
       "    <tr>\n",
       "      <th>...</th>\n",
       "      <td>...</td>\n",
       "      <td>...</td>\n",
       "      <td>...</td>\n",
       "      <td>...</td>\n",
       "      <td>...</td>\n",
       "      <td>...</td>\n",
       "    </tr>\n",
       "    <tr>\n",
       "      <th>404</th>\n",
       "      <td>FF11_ENX</td>\n",
       "      <td>EURONEXT</td>\n",
       "      <td>2023-12-21 17:02:02</td>\n",
       "      <td>ENX</td>\n",
       "      <td>13</td>\n",
       "      <td>False</td>\n",
       "    </tr>\n",
       "    <tr>\n",
       "      <th>405</th>\n",
       "      <td>FF11_FP</td>\n",
       "      <td>TOTALENERGIES</td>\n",
       "      <td>2021-08-04 17:02:02</td>\n",
       "      <td>FP</td>\n",
       "      <td>13</td>\n",
       "      <td>False</td>\n",
       "    </tr>\n",
       "    <tr>\n",
       "      <th>406</th>\n",
       "      <td>FF11_SEV</td>\n",
       "      <td>SUEZ</td>\n",
       "      <td>2023-12-21 17:02:02</td>\n",
       "      <td>SEV</td>\n",
       "      <td>13</td>\n",
       "      <td>False</td>\n",
       "    </tr>\n",
       "    <tr>\n",
       "      <th>407</th>\n",
       "      <td>FF11_SGO</td>\n",
       "      <td>SAINT-GOBAIN</td>\n",
       "      <td>2023-12-21 17:02:02</td>\n",
       "      <td>SGO</td>\n",
       "      <td>13</td>\n",
       "      <td>False</td>\n",
       "    </tr>\n",
       "    <tr>\n",
       "      <th>408</th>\n",
       "      <td>FF11_TTE</td>\n",
       "      <td>TOTALENERGIES</td>\n",
       "      <td>2023-12-21 17:02:02</td>\n",
       "      <td>TTE</td>\n",
       "      <td>13</td>\n",
       "      <td>False</td>\n",
       "    </tr>\n",
       "  </tbody>\n",
       "</table>\n",
       "<p>409 rows × 6 columns</p>\n",
       "</div>"
      ],
      "text/plain": [
       "        symbol               name           timestamp  ticker  mid    pea\n",
       "0        1rAAF   AIR FRANCE - KLM 2023-12-21 17:02:02      AF   11  False\n",
       "1       1rAAFA   AIR FRANCE - KLM 2023-12-21 17:02:02     AFA   11  False\n",
       "2       1rAENX           EURONEXT 2023-12-21 17:02:02     ENX   11  False\n",
       "3       1rAGTO            GEMALTO 2019-06-21 17:02:02     GTO   11  False\n",
       "4    1rARDSADT  ROYAL D SH DRP 21 2021-10-05 17:02:01  RDSADT   11  False\n",
       "..         ...                ...                 ...     ...  ...    ...\n",
       "404   FF11_ENX           EURONEXT 2023-12-21 17:02:02     ENX   13  False\n",
       "405    FF11_FP      TOTALENERGIES 2021-08-04 17:02:02      FP   13  False\n",
       "406   FF11_SEV               SUEZ 2023-12-21 17:02:02     SEV   13  False\n",
       "407   FF11_SGO       SAINT-GOBAIN 2023-12-21 17:02:02     SGO   13  False\n",
       "408   FF11_TTE      TOTALENERGIES 2023-12-21 17:02:02     TTE   13  False\n",
       "\n",
       "[409 rows x 6 columns]"
      ]
     },
     "execution_count": 117,
     "metadata": {},
     "output_type": "execute_result"
    }
   ],
   "source": [
    "compA_companies"
   ]
  },
  {
   "cell_type": "code",
   "execution_count": 161,
   "metadata": {},
   "outputs": [],
   "source": [
    "# detection_intrus(compA_companies)"
   ]
  },
  {
   "cell_type": "code",
   "execution_count": 119,
   "metadata": {},
   "outputs": [
    {
     "data": {
      "text/plain": [
       "{'1rA', '1rP', 'FF1'}"
      ]
     },
     "execution_count": 119,
     "metadata": {},
     "output_type": "execute_result"
    }
   ],
   "source": [
    "get_prefix(compA_companies)"
   ]
  },
  {
   "cell_type": "markdown",
   "metadata": {},
   "source": [
    "## CompB - Companies handling"
   ]
  },
  {
   "cell_type": "code",
   "execution_count": 23,
   "metadata": {},
   "outputs": [
    {
     "name": "stderr",
     "output_type": "stream",
     "text": [
      "100%|██████████| 540/540 [00:04<00:00, 119.91it/s]\n"
     ]
    }
   ],
   "source": [
    "dfs_compB = multi_read_df_from_paths(list(file_infos_df_filtered[file_infos_df_filtered[\"market\"] == \"compB\"] [\"path\"]))"
   ]
  },
  {
   "cell_type": "code",
   "execution_count": 114,
   "metadata": {},
   "outputs": [],
   "source": [
    "compB_companies = dfs_to_companie(dfs_compB, prefix_to_market_id=db.prefix_to_market_id ,default_mid=db.prefix_to_market_id[\"1rP\"])"
   ]
  },
  {
   "cell_type": "code",
   "execution_count": 115,
   "metadata": {},
   "outputs": [
    {
     "data": {
      "text/html": [
       "<div>\n",
       "<style scoped>\n",
       "    .dataframe tbody tr th:only-of-type {\n",
       "        vertical-align: middle;\n",
       "    }\n",
       "\n",
       "    .dataframe tbody tr th {\n",
       "        vertical-align: top;\n",
       "    }\n",
       "\n",
       "    .dataframe thead th {\n",
       "        text-align: right;\n",
       "    }\n",
       "</style>\n",
       "<table border=\"1\" class=\"dataframe\">\n",
       "  <thead>\n",
       "    <tr style=\"text-align: right;\">\n",
       "      <th></th>\n",
       "      <th>symbol</th>\n",
       "      <th>name</th>\n",
       "      <th>timestamp</th>\n",
       "      <th>ticker</th>\n",
       "      <th>mid</th>\n",
       "      <th>pea</th>\n",
       "    </tr>\n",
       "  </thead>\n",
       "  <tbody>\n",
       "    <tr>\n",
       "      <th>0</th>\n",
       "      <td>1rP03227</td>\n",
       "      <td>LATECOERE</td>\n",
       "      <td>2023-12-21 17:02:02</td>\n",
       "      <td>03227</td>\n",
       "      <td>12</td>\n",
       "      <td>False</td>\n",
       "    </tr>\n",
       "    <tr>\n",
       "      <th>1</th>\n",
       "      <td>1rP2MX</td>\n",
       "      <td>TERACT R PFD</td>\n",
       "      <td>2023-12-21 17:02:02</td>\n",
       "      <td>2MX</td>\n",
       "      <td>12</td>\n",
       "      <td>False</td>\n",
       "    </tr>\n",
       "    <tr>\n",
       "      <th>2</th>\n",
       "      <td>1rP5478</td>\n",
       "      <td>CLARANOVA</td>\n",
       "      <td>2021-10-05 17:02:01</td>\n",
       "      <td>5478</td>\n",
       "      <td>12</td>\n",
       "      <td>False</td>\n",
       "    </tr>\n",
       "    <tr>\n",
       "      <th>3</th>\n",
       "      <td>1rPAAA</td>\n",
       "      <td>ALAN ALLMAN ASSOCIATES</td>\n",
       "      <td>2023-12-21 17:02:02</td>\n",
       "      <td>AAA</td>\n",
       "      <td>12</td>\n",
       "      <td>False</td>\n",
       "    </tr>\n",
       "    <tr>\n",
       "      <th>4</th>\n",
       "      <td>1rPAAC</td>\n",
       "      <td>ACCOR ACQ COM R PFD</td>\n",
       "      <td>2021-06-01 17:02:01</td>\n",
       "      <td>AAC</td>\n",
       "      <td>12</td>\n",
       "      <td>False</td>\n",
       "    </tr>\n",
       "    <tr>\n",
       "      <th>...</th>\n",
       "      <td>...</td>\n",
       "      <td>...</td>\n",
       "      <td>...</td>\n",
       "      <td>...</td>\n",
       "      <td>...</td>\n",
       "      <td>...</td>\n",
       "    </tr>\n",
       "    <tr>\n",
       "      <th>391</th>\n",
       "      <td>1rPXFAB</td>\n",
       "      <td>X-FAB SILICON</td>\n",
       "      <td>2023-12-21 17:02:02</td>\n",
       "      <td>XFAB</td>\n",
       "      <td>12</td>\n",
       "      <td>False</td>\n",
       "    </tr>\n",
       "    <tr>\n",
       "      <th>392</th>\n",
       "      <td>1rPXIL</td>\n",
       "      <td>XILAM ANIMATION</td>\n",
       "      <td>2023-12-21 17:02:02</td>\n",
       "      <td>XIL</td>\n",
       "      <td>12</td>\n",
       "      <td>False</td>\n",
       "    </tr>\n",
       "    <tr>\n",
       "      <th>393</th>\n",
       "      <td>1rPYSYT</td>\n",
       "      <td>SALVEPORN01JAN22EX</td>\n",
       "      <td>2023-12-21 17:02:02</td>\n",
       "      <td>YSYT</td>\n",
       "      <td>12</td>\n",
       "      <td>False</td>\n",
       "    </tr>\n",
       "    <tr>\n",
       "      <th>394</th>\n",
       "      <td>FF11_AKA</td>\n",
       "      <td>AKKA TECHNOLOGIES</td>\n",
       "      <td>2022-01-14 17:02:01</td>\n",
       "      <td>AKA</td>\n",
       "      <td>13</td>\n",
       "      <td>False</td>\n",
       "    </tr>\n",
       "    <tr>\n",
       "      <th>395</th>\n",
       "      <td>FF11_VRAP</td>\n",
       "      <td>VRANKEN-POMMERY MO.</td>\n",
       "      <td>2023-01-11 17:02:02</td>\n",
       "      <td>VRAP</td>\n",
       "      <td>13</td>\n",
       "      <td>False</td>\n",
       "    </tr>\n",
       "  </tbody>\n",
       "</table>\n",
       "<p>396 rows × 6 columns</p>\n",
       "</div>"
      ],
      "text/plain": [
       "        symbol                    name           timestamp ticker  mid    pea\n",
       "0     1rP03227               LATECOERE 2023-12-21 17:02:02  03227   12  False\n",
       "1       1rP2MX            TERACT R PFD 2023-12-21 17:02:02    2MX   12  False\n",
       "2      1rP5478               CLARANOVA 2021-10-05 17:02:01   5478   12  False\n",
       "3       1rPAAA  ALAN ALLMAN ASSOCIATES 2023-12-21 17:02:02    AAA   12  False\n",
       "4       1rPAAC     ACCOR ACQ COM R PFD 2021-06-01 17:02:01    AAC   12  False\n",
       "..         ...                     ...                 ...    ...  ...    ...\n",
       "391    1rPXFAB           X-FAB SILICON 2023-12-21 17:02:02   XFAB   12  False\n",
       "392     1rPXIL         XILAM ANIMATION 2023-12-21 17:02:02    XIL   12  False\n",
       "393    1rPYSYT      SALVEPORN01JAN22EX 2023-12-21 17:02:02   YSYT   12  False\n",
       "394   FF11_AKA       AKKA TECHNOLOGIES 2022-01-14 17:02:01    AKA   13  False\n",
       "395  FF11_VRAP     VRANKEN-POMMERY MO. 2023-01-11 17:02:02   VRAP   13  False\n",
       "\n",
       "[396 rows x 6 columns]"
      ]
     },
     "execution_count": 115,
     "metadata": {},
     "output_type": "execute_result"
    }
   ],
   "source": [
    "compB_companies"
   ]
  },
  {
   "cell_type": "code",
   "execution_count": 26,
   "metadata": {},
   "outputs": [],
   "source": [
    "# get_prefix(compB_companies)"
   ]
  },
  {
   "cell_type": "markdown",
   "metadata": {},
   "source": [
    "## PEA PME - Companies Handling"
   ]
  },
  {
   "cell_type": "code",
   "execution_count": 27,
   "metadata": {},
   "outputs": [
    {
     "name": "stderr",
     "output_type": "stream",
     "text": [
      "100%|██████████| 324/324 [00:02<00:00, 115.24it/s]\n"
     ]
    }
   ],
   "source": [
    "dfs_peapme = multi_read_df_from_paths(list(file_infos_df_filtered[file_infos_df_filtered[\"market\"] == \"peapme\"] [\"path\"]))"
   ]
  },
  {
   "cell_type": "code",
   "execution_count": 112,
   "metadata": {},
   "outputs": [],
   "source": [
    "peapme_companies = dfs_to_companie(dfs_peapme, prefix_to_market_id=db.prefix_to_market_id ,default_mid=db.prefix_to_market_id[\"1rP\"], is_pea=True)"
   ]
  },
  {
   "cell_type": "code",
   "execution_count": 113,
   "metadata": {},
   "outputs": [
    {
     "data": {
      "text/html": [
       "<div>\n",
       "<style scoped>\n",
       "    .dataframe tbody tr th:only-of-type {\n",
       "        vertical-align: middle;\n",
       "    }\n",
       "\n",
       "    .dataframe tbody tr th {\n",
       "        vertical-align: top;\n",
       "    }\n",
       "\n",
       "    .dataframe thead th {\n",
       "        text-align: right;\n",
       "    }\n",
       "</style>\n",
       "<table border=\"1\" class=\"dataframe\">\n",
       "  <thead>\n",
       "    <tr style=\"text-align: right;\">\n",
       "      <th></th>\n",
       "      <th>symbol</th>\n",
       "      <th>name</th>\n",
       "      <th>timestamp</th>\n",
       "      <th>ticker</th>\n",
       "      <th>mid</th>\n",
       "      <th>pea</th>\n",
       "    </tr>\n",
       "  </thead>\n",
       "  <tbody>\n",
       "    <tr>\n",
       "      <th>0</th>\n",
       "      <td>1rAADUX</td>\n",
       "      <td>ADUX</td>\n",
       "      <td>2023-12-21 17:02:02</td>\n",
       "      <td>ADUX</td>\n",
       "      <td>11</td>\n",
       "      <td>True</td>\n",
       "    </tr>\n",
       "    <tr>\n",
       "      <th>1</th>\n",
       "      <td>1rABESI</td>\n",
       "      <td>BESI</td>\n",
       "      <td>2023-12-21 17:02:02</td>\n",
       "      <td>BESI</td>\n",
       "      <td>11</td>\n",
       "      <td>True</td>\n",
       "    </tr>\n",
       "    <tr>\n",
       "      <th>2</th>\n",
       "      <td>1rEPALANT</td>\n",
       "      <td>ANTEVENIO</td>\n",
       "      <td>2021-11-16 17:02:01</td>\n",
       "      <td>ALANT</td>\n",
       "      <td>12</td>\n",
       "      <td>True</td>\n",
       "    </tr>\n",
       "    <tr>\n",
       "      <th>3</th>\n",
       "      <td>1rEPALAQU</td>\n",
       "      <td>AQUILA</td>\n",
       "      <td>2023-12-21 17:02:02</td>\n",
       "      <td>ALAQU</td>\n",
       "      <td>12</td>\n",
       "      <td>True</td>\n",
       "    </tr>\n",
       "    <tr>\n",
       "      <th>4</th>\n",
       "      <td>1rEPALBDM</td>\n",
       "      <td>BD MULTI MEDIA</td>\n",
       "      <td>2023-12-21 17:02:02</td>\n",
       "      <td>ALBDM</td>\n",
       "      <td>12</td>\n",
       "      <td>True</td>\n",
       "    </tr>\n",
       "    <tr>\n",
       "      <th>...</th>\n",
       "      <td>...</td>\n",
       "      <td>...</td>\n",
       "      <td>...</td>\n",
       "      <td>...</td>\n",
       "      <td>...</td>\n",
       "      <td>...</td>\n",
       "    </tr>\n",
       "    <tr>\n",
       "      <th>672</th>\n",
       "      <td>FF11_EVS</td>\n",
       "      <td>EVS BROADCAST EQU</td>\n",
       "      <td>2023-12-21 17:02:02</td>\n",
       "      <td>EVS</td>\n",
       "      <td>13</td>\n",
       "      <td>True</td>\n",
       "    </tr>\n",
       "    <tr>\n",
       "      <th>673</th>\n",
       "      <td>FF11_GKTX</td>\n",
       "      <td>GENKYOTEX</td>\n",
       "      <td>2022-08-08 17:02:02</td>\n",
       "      <td>GKTX</td>\n",
       "      <td>13</td>\n",
       "      <td>True</td>\n",
       "    </tr>\n",
       "    <tr>\n",
       "      <th>674</th>\n",
       "      <td>FF11_KIN</td>\n",
       "      <td>KINEPOLIS GROUP</td>\n",
       "      <td>2023-12-21 17:02:02</td>\n",
       "      <td>KIN</td>\n",
       "      <td>13</td>\n",
       "      <td>True</td>\n",
       "    </tr>\n",
       "    <tr>\n",
       "      <th>675</th>\n",
       "      <td>FF11_MLMAZ</td>\n",
       "      <td>MAZARO</td>\n",
       "      <td>2023-12-21 17:02:02</td>\n",
       "      <td>MLMAZ</td>\n",
       "      <td>13</td>\n",
       "      <td>True</td>\n",
       "    </tr>\n",
       "    <tr>\n",
       "      <th>676</th>\n",
       "      <td>FF11_VRAP</td>\n",
       "      <td>VRANKEN-POMMERY MO.</td>\n",
       "      <td>2023-12-21 17:02:02</td>\n",
       "      <td>VRAP</td>\n",
       "      <td>13</td>\n",
       "      <td>True</td>\n",
       "    </tr>\n",
       "  </tbody>\n",
       "</table>\n",
       "<p>677 rows × 6 columns</p>\n",
       "</div>"
      ],
      "text/plain": [
       "         symbol                 name           timestamp ticker  mid   pea\n",
       "0       1rAADUX                 ADUX 2023-12-21 17:02:02   ADUX   11  True\n",
       "1       1rABESI                 BESI 2023-12-21 17:02:02   BESI   11  True\n",
       "2     1rEPALANT            ANTEVENIO 2021-11-16 17:02:01  ALANT   12  True\n",
       "3     1rEPALAQU               AQUILA 2023-12-21 17:02:02  ALAQU   12  True\n",
       "4     1rEPALBDM       BD MULTI MEDIA 2023-12-21 17:02:02  ALBDM   12  True\n",
       "..          ...                  ...                 ...    ...  ...   ...\n",
       "672    FF11_EVS    EVS BROADCAST EQU 2023-12-21 17:02:02    EVS   13  True\n",
       "673   FF11_GKTX            GENKYOTEX 2022-08-08 17:02:02   GKTX   13  True\n",
       "674    FF11_KIN      KINEPOLIS GROUP 2023-12-21 17:02:02    KIN   13  True\n",
       "675  FF11_MLMAZ               MAZARO 2023-12-21 17:02:02  MLMAZ   13  True\n",
       "676   FF11_VRAP  VRANKEN-POMMERY MO. 2023-12-21 17:02:02   VRAP   13  True\n",
       "\n",
       "[677 rows x 6 columns]"
      ]
     },
     "execution_count": 113,
     "metadata": {},
     "output_type": "execute_result"
    }
   ],
   "source": [
    "peapme_companies"
   ]
  },
  {
   "cell_type": "code",
   "execution_count": 32,
   "metadata": {},
   "outputs": [
    {
     "data": {
      "text/plain": [
       "{'1rA', '1rE', '1rP', 'FF1'}"
      ]
     },
     "execution_count": 32,
     "metadata": {},
     "output_type": "execute_result"
    }
   ],
   "source": [
    "get_prefix(peapme_companies)"
   ]
  },
  {
   "cell_type": "markdown",
   "metadata": {},
   "source": [
    "## Join companies"
   ]
  },
  {
   "cell_type": "code",
   "execution_count": 120,
   "metadata": {},
   "outputs": [],
   "source": [
    "df_companies = [amsterdam_companies, compA_companies, compB_companies, peapme_companies]"
   ]
  },
  {
   "cell_type": "code",
   "execution_count": 121,
   "metadata": {},
   "outputs": [],
   "source": [
    "df_companies = pd.concat(df_companies)\n",
    "df_companies.sort_values(by=\"timestamp\", inplace=True)\n",
    "df_companies.drop_duplicates(inplace=True)\n",
    "df_companies.drop_duplicates(subset=[\"symbol\"], keep=\"last\", inplace=True)"
   ]
  },
  {
   "cell_type": "markdown",
   "metadata": {},
   "source": [
    "### Check no duplicated"
   ]
  },
  {
   "cell_type": "code",
   "execution_count": 122,
   "metadata": {},
   "outputs": [
    {
     "data": {
      "text/html": [
       "<div>\n",
       "<style scoped>\n",
       "    .dataframe tbody tr th:only-of-type {\n",
       "        vertical-align: middle;\n",
       "    }\n",
       "\n",
       "    .dataframe tbody tr th {\n",
       "        vertical-align: top;\n",
       "    }\n",
       "\n",
       "    .dataframe thead th {\n",
       "        text-align: right;\n",
       "    }\n",
       "</style>\n",
       "<table border=\"1\" class=\"dataframe\">\n",
       "  <thead>\n",
       "    <tr style=\"text-align: right;\">\n",
       "      <th></th>\n",
       "      <th>symbol</th>\n",
       "      <th>name</th>\n",
       "      <th>timestamp</th>\n",
       "      <th>ticker</th>\n",
       "      <th>mid</th>\n",
       "      <th>pea</th>\n",
       "    </tr>\n",
       "  </thead>\n",
       "  <tbody>\n",
       "  </tbody>\n",
       "</table>\n",
       "</div>"
      ],
      "text/plain": [
       "Empty DataFrame\n",
       "Columns: [symbol, name, timestamp, ticker, mid, pea]\n",
       "Index: []"
      ]
     },
     "execution_count": 122,
     "metadata": {},
     "output_type": "execute_result"
    }
   ],
   "source": [
    "df_companies[df_companies.duplicated(subset=[\"symbol\"], keep=False)][:50]"
   ]
  },
  {
   "cell_type": "code",
   "execution_count": 123,
   "metadata": {},
   "outputs": [],
   "source": [
    "df_companies.drop(\"timestamp\", axis=1, inplace=True)"
   ]
  },
  {
   "cell_type": "code",
   "execution_count": 124,
   "metadata": {},
   "outputs": [],
   "source": [
    "df_companies.set_index(\"symbol\", inplace=True)"
   ]
  },
  {
   "cell_type": "markdown",
   "metadata": {},
   "source": [
    "### Update companies table"
   ]
  },
  {
   "cell_type": "code",
   "execution_count": 125,
   "metadata": {},
   "outputs": [],
   "source": [
    "# db.clean_database()\n",
    "# db._setup_database()"
   ]
  },
  {
   "cell_type": "code",
   "execution_count": 126,
   "metadata": {},
   "outputs": [],
   "source": [
    "db.df_write(df_companies, \"companies\", commit=True)"
   ]
  }
 ],
 "metadata": {
  "kernelspec": {
   "display_name": "big_data_bourse",
   "language": "python",
   "name": "python3"
  },
  "language_info": {
   "codemirror_mode": {
    "name": "ipython",
    "version": 3
   },
   "file_extension": ".py",
   "mimetype": "text/x-python",
   "name": "python",
   "nbconvert_exporter": "python",
   "pygments_lexer": "ipython3",
   "version": "3.10.12"
  }
 },
 "nbformat": 4,
 "nbformat_minor": 2
}
