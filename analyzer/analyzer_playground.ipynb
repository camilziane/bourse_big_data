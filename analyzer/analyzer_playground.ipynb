{
 "cells": [
  {
   "cell_type": "code",
   "execution_count": 1,
   "metadata": {},
   "outputs": [],
   "source": [
    "%load_ext autoreload\n",
    "%autoreload 2"
   ]
  },
  {
   "cell_type": "code",
   "execution_count": 2,
   "metadata": {},
   "outputs": [],
   "source": [
    "import pandas as pd\n",
    "import numpy as np\n",
    "import timescaledb_model as tsdb\n",
    "from analyze import get_files_infos_df, read_file, get_files_infos_windows_df\n",
    "from tqdm import tqdm \n",
    "from utils import multi_read_df_from_paths\n",
    "from constant import DATA_PATH, IS_DOCKER\n",
    "import os"
   ]
  },
  {
   "cell_type": "code",
   "execution_count": 16,
   "metadata": {},
   "outputs": [],
   "source": [
    "files_info_path = os.path.join(DATA_PATH, 'files_infos.pkl')\n",
    "# files_infos_df = get_files_infos_df()\n",
    "# files_infos_df = get_files_infos_windows_df()  # for windows\n",
    "# files_infos_df.to_pickle(files_info_path)"
   ]
  },
  {
   "cell_type": "code",
   "execution_count": 17,
   "metadata": {},
   "outputs": [],
   "source": [
    "files_infos_df = get_files_infos_df(files_info_path)\n",
    "# files_infos_df = get_files_infos_windows_df(files_info_path) #for windows"
   ]
  },
  {
   "cell_type": "code",
   "execution_count": 5,
   "metadata": {},
   "outputs": [
    {
     "name": "stderr",
     "output_type": "stream",
     "text": [
      "/var/folders/lb/9z4xr9hd1013w3_cbsw1p6600000gn/T/ipykernel_41517/2876105170.py:2: DeprecationWarning: DataFrameGroupBy.apply operated on the grouping columns. This behavior is deprecated, and in a future version of pandas the grouping columns will be excluded from the operation. Either pass `include_groups=False` to exclude the groupings or explicitly select the grouping columns after groupby to silence this warning.\n",
      "  dates_to_take = files_infos_df.groupby([files_infos_df[\"year_month\"]]).apply(lambda x :x.sample(n=1)).reset_index(drop=True)[\"date\"]\n",
      "/var/folders/lb/9z4xr9hd1013w3_cbsw1p6600000gn/T/ipykernel_41517/2876105170.py:4: SettingWithCopyWarning: \n",
      "A value is trying to be set on a copy of a slice from a DataFrame.\n",
      "Try using .loc[row_indexer,col_indexer] = value instead\n",
      "\n",
      "See the caveats in the documentation: https://pandas.pydata.org/pandas-docs/stable/user_guide/indexing.html#returning-a-view-versus-a-copy\n",
      "  file_infos_df_filtered[\"hour\"] = file_infos_df_filtered.index.hour\n"
     ]
    }
   ],
   "source": [
    "np.random.seed(10)\n",
    "dates_to_take = files_infos_df.groupby([files_infos_df[\"year_month\"]]).apply(lambda x :x.sample(n=1)).reset_index(drop=True)[\"date\"]\n",
    "file_infos_df_filtered = files_infos_df[files_infos_df[\"date\"].isin(dates_to_take)]\n",
    "file_infos_df_filtered[\"hour\"] = file_infos_df_filtered.index.hour\n",
    "file_infos_df_filtered = file_infos_df_filtered.groupby([file_infos_df_filtered[\"date\"], file_infos_df_filtered[\"hour\"], file_infos_df_filtered[\"market\"]]).first().reset_index()"
   ]
  },
  {
   "cell_type": "markdown",
   "metadata": {},
   "source": [
    "## DB"
   ]
  },
  {
   "cell_type": "code",
   "execution_count": 6,
   "metadata": {},
   "outputs": [
    {
     "name": "stdout",
     "output_type": "stream",
     "text": [
      "Logs of timescaledb_model go to ../data/bourse.log\n"
     ]
    }
   ],
   "source": [
    "import timescaledb_model as tsdb\n",
    "db = (\n",
    "    tsdb.TimescaleStockMarketModel(\"bourse\", \"ricou\", \"db\", \"monmdp\", setup=False)\n",
    "    if IS_DOCKER\n",
    "    else tsdb.TimescaleStockMarketModel(\"bourse\", \"ricou\", \"localhost\", \"monmdp\", setup=False)\n",
    ")"
   ]
  },
  {
   "cell_type": "markdown",
   "metadata": {},
   "source": [
    "# Utils"
   ]
  },
  {
   "cell_type": "code",
   "execution_count": 111,
   "metadata": {},
   "outputs": [],
   "source": [
    "import re\n",
    "\n",
    "def is_possible_ticker_with_number(symbol):\n",
    "    return bool(re.match(r'^[A-Z0-9\\-]{1,10}$', symbol))\n",
    "\n",
    "def detection_intrus(df: pd.DataFrame):\n",
    "    return df[(df[\"ticker\"].apply(is_possible_ticker_with_number) == False)]"
   ]
  },
  {
   "cell_type": "code",
   "execution_count": 112,
   "metadata": {},
   "outputs": [],
   "source": [
    "def get_prefix(df: pd.DataFrame, prefix_function = lambda x : x[0:3]) -> set:\n",
    "    return set(df[\"symbol\"].apply(prefix_function).unique())"
   ]
  },
  {
   "cell_type": "code",
   "execution_count": 113,
   "metadata": {},
   "outputs": [],
   "source": [
    "map_prefix_to_symbol_nf = {\n",
    "    \"1rP\": lambda x: x[3:].split(\"_\")[0] if len(x) != 15 else np.nan,  # EuroNext Pars\n",
    "    \"1rA\": lambda x: x[3:],  # EuroNext Amsterdam\n",
    "    \"1rE\": lambda x: x[4:],  # EuroNext Paris\n",
    "    \"FF1\": lambda x: x.split(\"_\")[1][0:],  # EuroNext Brussels\n",
    "}\n",
    "\n",
    "\n",
    "def update_ticker_column(\n",
    "    df: pd.DataFrame,\n",
    ") -> pd.DataFrame:\n",
    "    df[\"ticker\"] = df.apply(\n",
    "        lambda x: map_prefix_to_symbol_nf.get(x[\"prefix\"], lambda _: x[\"symbol\"])(\n",
    "            x[\"symbol\"]\n",
    "        ),\n",
    "        axis=1,\n",
    "    )\n",
    "    return df\n",
    "\n",
    "def update_mid_column(\n",
    "    df: pd.DataFrame,\n",
    "    prefix_to_market_id: dict,\n",
    "    default_mid: int,\n",
    ") -> pd.DataFrame:\n",
    "    df[\"mid\"] = df.apply(\n",
    "        lambda x: prefix_to_market_id.get(x[\"prefix\"],default_mid),\n",
    "        axis=1,\n",
    "    )\n",
    "    return df"
   ]
  },
  {
   "cell_type": "code",
   "execution_count": 114,
   "metadata": {},
   "outputs": [],
   "source": [
    "def dfs_to_companie(\n",
    "    dfs: list[pd.DataFrame], prefix_to_market_id: dict, default_mid: int, is_pea: bool = False\n",
    ") -> pd.DataFrame:\n",
    "    df_all_days = pd.concat(dfs)\n",
    "    df_all_days_grouped = (\n",
    "        df_all_days.reset_index(drop=True).groupby([\"symbol\", \"name\"]).last()\n",
    "    )\n",
    "    df_all_days_grouped[\"name\"] = df_all_days_grouped.index.get_level_values(1)\n",
    "    df_companies = df_all_days_grouped.groupby(\n",
    "        df_all_days_grouped.index.get_level_values(0)\n",
    "    ).last()\n",
    "    df_companies = df_companies.reset_index()[[\"symbol\", \"name\", \"timestamp\"]]\n",
    "    df_companies[\"prefix\"] = df_companies[\"symbol\"].apply(lambda x: x[0:3])\n",
    "    df_companies = update_ticker_column(df_companies)\n",
    "    df_companies = update_mid_column(df_companies, prefix_to_market_id, default_mid=default_mid)\n",
    "    df_companies = df_companies.drop(columns=[\"prefix\"])\n",
    "    df_companies[\"pea\"] = is_pea\n",
    "    return df_companies"
   ]
  },
  {
   "cell_type": "markdown",
   "metadata": {},
   "source": [
    "## Amsterdam - Companies handling"
   ]
  },
  {
   "cell_type": "code",
   "execution_count": 115,
   "metadata": {},
   "outputs": [
    {
     "name": "stderr",
     "output_type": "stream",
     "text": [
      "  0%|          | 0/540 [00:00<?, ?it/s]"
     ]
    },
    {
     "name": "stderr",
     "output_type": "stream",
     "text": [
      "100%|██████████| 540/540 [00:10<00:00, 52.11it/s]\n"
     ]
    }
   ],
   "source": [
    "dfs_amsterdam = multi_read_df_from_paths(list(file_infos_df_filtered[file_infos_df_filtered[\"market\"] == \"amsterdam\"] [\"path\"]))"
   ]
  },
  {
   "cell_type": "code",
   "execution_count": 116,
   "metadata": {},
   "outputs": [],
   "source": [
    "amsterdam_companies = dfs_to_companie(dfs_amsterdam, db.prefix_to_market_id, default_mid=db.nasdaq_market_id) "
   ]
  },
  {
   "cell_type": "code",
   "execution_count": 117,
   "metadata": {},
   "outputs": [
    {
     "data": {
      "text/html": [
       "<div>\n",
       "<style scoped>\n",
       "    .dataframe tbody tr th:only-of-type {\n",
       "        vertical-align: middle;\n",
       "    }\n",
       "\n",
       "    .dataframe tbody tr th {\n",
       "        vertical-align: top;\n",
       "    }\n",
       "\n",
       "    .dataframe thead th {\n",
       "        text-align: right;\n",
       "    }\n",
       "</style>\n",
       "<table border=\"1\" class=\"dataframe\">\n",
       "  <thead>\n",
       "    <tr style=\"text-align: right;\">\n",
       "      <th></th>\n",
       "      <th>symbol</th>\n",
       "      <th>name</th>\n",
       "      <th>timestamp</th>\n",
       "      <th>ticker</th>\n",
       "      <th>mid</th>\n",
       "      <th>pea</th>\n",
       "    </tr>\n",
       "  </thead>\n",
       "  <tbody>\n",
       "    <tr>\n",
       "      <th>0</th>\n",
       "      <td>124718367</td>\n",
       "      <td>ASTRAZENECA FIN CVR</td>\n",
       "      <td>2023-03-16 17:02:01</td>\n",
       "      <td>124718367</td>\n",
       "      <td>14</td>\n",
       "      <td>False</td>\n",
       "    </tr>\n",
       "    <tr>\n",
       "      <th>1</th>\n",
       "      <td>AABA</td>\n",
       "      <td>ALTABA</td>\n",
       "      <td>2019-10-28 17:02:02</td>\n",
       "      <td>AABA</td>\n",
       "      <td>14</td>\n",
       "      <td>False</td>\n",
       "    </tr>\n",
       "    <tr>\n",
       "      <th>2</th>\n",
       "      <td>AACG</td>\n",
       "      <td>ATA CRTV GLB SP ADR</td>\n",
       "      <td>2023-12-21 17:02:02</td>\n",
       "      <td>AACG</td>\n",
       "      <td>14</td>\n",
       "      <td>False</td>\n",
       "    </tr>\n",
       "    <tr>\n",
       "      <th>3</th>\n",
       "      <td>AACI</td>\n",
       "      <td>ARMADA ACQN I</td>\n",
       "      <td>2023-12-21 17:02:02</td>\n",
       "      <td>AACI</td>\n",
       "      <td>14</td>\n",
       "      <td>False</td>\n",
       "    </tr>\n",
       "    <tr>\n",
       "      <th>4</th>\n",
       "      <td>AACIU</td>\n",
       "      <td>ARMADA ACQN I UTS</td>\n",
       "      <td>2023-12-21 17:02:02</td>\n",
       "      <td>AACIU</td>\n",
       "      <td>14</td>\n",
       "      <td>False</td>\n",
       "    </tr>\n",
       "    <tr>\n",
       "      <th>...</th>\n",
       "      <td>...</td>\n",
       "      <td>...</td>\n",
       "      <td>...</td>\n",
       "      <td>...</td>\n",
       "      <td>...</td>\n",
       "      <td>...</td>\n",
       "    </tr>\n",
       "    <tr>\n",
       "      <th>6684</th>\n",
       "      <td>ZWRKU</td>\n",
       "      <td>Z-WORK ACQN UTS 26</td>\n",
       "      <td>2022-12-20 17:02:01</td>\n",
       "      <td>ZWRKU</td>\n",
       "      <td>14</td>\n",
       "      <td>False</td>\n",
       "    </tr>\n",
       "    <tr>\n",
       "      <th>6685</th>\n",
       "      <td>ZY</td>\n",
       "      <td>ZYMERGEN</td>\n",
       "      <td>2022-11-18 17:02:02</td>\n",
       "      <td>ZY</td>\n",
       "      <td>14</td>\n",
       "      <td>False</td>\n",
       "    </tr>\n",
       "    <tr>\n",
       "      <th>6686</th>\n",
       "      <td>ZYME</td>\n",
       "      <td>ZYMEWORKS</td>\n",
       "      <td>2023-12-21 17:02:02</td>\n",
       "      <td>ZYME</td>\n",
       "      <td>14</td>\n",
       "      <td>False</td>\n",
       "    </tr>\n",
       "    <tr>\n",
       "      <th>6687</th>\n",
       "      <td>ZYNE</td>\n",
       "      <td>ZYNERBA PHARMA</td>\n",
       "      <td>2023-10-30 17:02:01</td>\n",
       "      <td>ZYNE</td>\n",
       "      <td>14</td>\n",
       "      <td>False</td>\n",
       "    </tr>\n",
       "    <tr>\n",
       "      <th>6688</th>\n",
       "      <td>ZYXI</td>\n",
       "      <td>ZYNEX</td>\n",
       "      <td>2023-12-21 17:02:02</td>\n",
       "      <td>ZYXI</td>\n",
       "      <td>14</td>\n",
       "      <td>False</td>\n",
       "    </tr>\n",
       "  </tbody>\n",
       "</table>\n",
       "<p>6689 rows × 6 columns</p>\n",
       "</div>"
      ],
      "text/plain": [
       "         symbol                 name           timestamp     ticker  mid  \\\n",
       "0     124718367  ASTRAZENECA FIN CVR 2023-03-16 17:02:01  124718367   14   \n",
       "1          AABA               ALTABA 2019-10-28 17:02:02       AABA   14   \n",
       "2          AACG  ATA CRTV GLB SP ADR 2023-12-21 17:02:02       AACG   14   \n",
       "3          AACI        ARMADA ACQN I 2023-12-21 17:02:02       AACI   14   \n",
       "4         AACIU    ARMADA ACQN I UTS 2023-12-21 17:02:02      AACIU   14   \n",
       "...         ...                  ...                 ...        ...  ...   \n",
       "6684      ZWRKU   Z-WORK ACQN UTS 26 2022-12-20 17:02:01      ZWRKU   14   \n",
       "6685         ZY             ZYMERGEN 2022-11-18 17:02:02         ZY   14   \n",
       "6686       ZYME            ZYMEWORKS 2023-12-21 17:02:02       ZYME   14   \n",
       "6687       ZYNE       ZYNERBA PHARMA 2023-10-30 17:02:01       ZYNE   14   \n",
       "6688       ZYXI                ZYNEX 2023-12-21 17:02:02       ZYXI   14   \n",
       "\n",
       "        pea  \n",
       "0     False  \n",
       "1     False  \n",
       "2     False  \n",
       "3     False  \n",
       "4     False  \n",
       "...     ...  \n",
       "6684  False  \n",
       "6685  False  \n",
       "6686  False  \n",
       "6687  False  \n",
       "6688  False  \n",
       "\n",
       "[6689 rows x 6 columns]"
      ]
     },
     "execution_count": 117,
     "metadata": {},
     "output_type": "execute_result"
    }
   ],
   "source": [
    "amsterdam_companies"
   ]
  },
  {
   "cell_type": "code",
   "execution_count": 15,
   "metadata": {},
   "outputs": [],
   "source": [
    "# detection_intrus(amsterdam_companies)"
   ]
  },
  {
   "cell_type": "markdown",
   "metadata": {},
   "source": [
    "## CompA - Companies handling"
   ]
  },
  {
   "cell_type": "code",
   "execution_count": 118,
   "metadata": {},
   "outputs": [
    {
     "name": "stderr",
     "output_type": "stream",
     "text": [
      "100%|██████████| 540/540 [00:02<00:00, 203.13it/s]\n"
     ]
    }
   ],
   "source": [
    "dfs_compA = multi_read_df_from_paths(list(file_infos_df_filtered[file_infos_df_filtered[\"market\"] == \"compA\"] [\"path\"]))"
   ]
  },
  {
   "cell_type": "code",
   "execution_count": 119,
   "metadata": {},
   "outputs": [],
   "source": [
    "compA_companies = dfs_to_companie(dfs_compA, prefix_to_market_id=db.prefix_to_market_id ,default_mid=db.prefix_to_market_id[\"1rP\"])"
   ]
  },
  {
   "cell_type": "code",
   "execution_count": 120,
   "metadata": {},
   "outputs": [
    {
     "data": {
      "text/html": [
       "<div>\n",
       "<style scoped>\n",
       "    .dataframe tbody tr th:only-of-type {\n",
       "        vertical-align: middle;\n",
       "    }\n",
       "\n",
       "    .dataframe tbody tr th {\n",
       "        vertical-align: top;\n",
       "    }\n",
       "\n",
       "    .dataframe thead th {\n",
       "        text-align: right;\n",
       "    }\n",
       "</style>\n",
       "<table border=\"1\" class=\"dataframe\">\n",
       "  <thead>\n",
       "    <tr style=\"text-align: right;\">\n",
       "      <th></th>\n",
       "      <th>symbol</th>\n",
       "      <th>name</th>\n",
       "      <th>timestamp</th>\n",
       "      <th>ticker</th>\n",
       "      <th>mid</th>\n",
       "      <th>pea</th>\n",
       "    </tr>\n",
       "  </thead>\n",
       "  <tbody>\n",
       "    <tr>\n",
       "      <th>0</th>\n",
       "      <td>1rAAF</td>\n",
       "      <td>AIR FRANCE - KLM</td>\n",
       "      <td>2023-12-21 17:02:02</td>\n",
       "      <td>AF</td>\n",
       "      <td>11</td>\n",
       "      <td>False</td>\n",
       "    </tr>\n",
       "    <tr>\n",
       "      <th>1</th>\n",
       "      <td>1rAAFA</td>\n",
       "      <td>AIR FRANCE - KLM</td>\n",
       "      <td>2023-12-21 17:02:02</td>\n",
       "      <td>AFA</td>\n",
       "      <td>11</td>\n",
       "      <td>False</td>\n",
       "    </tr>\n",
       "    <tr>\n",
       "      <th>2</th>\n",
       "      <td>1rAENX</td>\n",
       "      <td>EURONEXT</td>\n",
       "      <td>2023-12-21 17:02:02</td>\n",
       "      <td>ENX</td>\n",
       "      <td>11</td>\n",
       "      <td>False</td>\n",
       "    </tr>\n",
       "    <tr>\n",
       "      <th>3</th>\n",
       "      <td>1rAGTO</td>\n",
       "      <td>GEMALTO</td>\n",
       "      <td>2019-06-21 17:02:02</td>\n",
       "      <td>GTO</td>\n",
       "      <td>11</td>\n",
       "      <td>False</td>\n",
       "    </tr>\n",
       "    <tr>\n",
       "      <th>4</th>\n",
       "      <td>1rARDSADT</td>\n",
       "      <td>ROYAL D SH DRP 21</td>\n",
       "      <td>2021-10-05 17:02:01</td>\n",
       "      <td>RDSADT</td>\n",
       "      <td>11</td>\n",
       "      <td>False</td>\n",
       "    </tr>\n",
       "    <tr>\n",
       "      <th>...</th>\n",
       "      <td>...</td>\n",
       "      <td>...</td>\n",
       "      <td>...</td>\n",
       "      <td>...</td>\n",
       "      <td>...</td>\n",
       "      <td>...</td>\n",
       "    </tr>\n",
       "    <tr>\n",
       "      <th>404</th>\n",
       "      <td>FF11_ENX</td>\n",
       "      <td>EURONEXT</td>\n",
       "      <td>2023-12-21 17:02:02</td>\n",
       "      <td>ENX</td>\n",
       "      <td>13</td>\n",
       "      <td>False</td>\n",
       "    </tr>\n",
       "    <tr>\n",
       "      <th>405</th>\n",
       "      <td>FF11_FP</td>\n",
       "      <td>TOTALENERGIES</td>\n",
       "      <td>2021-08-04 17:02:02</td>\n",
       "      <td>FP</td>\n",
       "      <td>13</td>\n",
       "      <td>False</td>\n",
       "    </tr>\n",
       "    <tr>\n",
       "      <th>406</th>\n",
       "      <td>FF11_SEV</td>\n",
       "      <td>SUEZ</td>\n",
       "      <td>2023-12-21 17:02:02</td>\n",
       "      <td>SEV</td>\n",
       "      <td>13</td>\n",
       "      <td>False</td>\n",
       "    </tr>\n",
       "    <tr>\n",
       "      <th>407</th>\n",
       "      <td>FF11_SGO</td>\n",
       "      <td>SAINT-GOBAIN</td>\n",
       "      <td>2023-12-21 17:02:02</td>\n",
       "      <td>SGO</td>\n",
       "      <td>13</td>\n",
       "      <td>False</td>\n",
       "    </tr>\n",
       "    <tr>\n",
       "      <th>408</th>\n",
       "      <td>FF11_TTE</td>\n",
       "      <td>TOTALENERGIES</td>\n",
       "      <td>2023-12-21 17:02:02</td>\n",
       "      <td>TTE</td>\n",
       "      <td>13</td>\n",
       "      <td>False</td>\n",
       "    </tr>\n",
       "  </tbody>\n",
       "</table>\n",
       "<p>409 rows × 6 columns</p>\n",
       "</div>"
      ],
      "text/plain": [
       "        symbol               name           timestamp  ticker  mid    pea\n",
       "0        1rAAF   AIR FRANCE - KLM 2023-12-21 17:02:02      AF   11  False\n",
       "1       1rAAFA   AIR FRANCE - KLM 2023-12-21 17:02:02     AFA   11  False\n",
       "2       1rAENX           EURONEXT 2023-12-21 17:02:02     ENX   11  False\n",
       "3       1rAGTO            GEMALTO 2019-06-21 17:02:02     GTO   11  False\n",
       "4    1rARDSADT  ROYAL D SH DRP 21 2021-10-05 17:02:01  RDSADT   11  False\n",
       "..         ...                ...                 ...     ...  ...    ...\n",
       "404   FF11_ENX           EURONEXT 2023-12-21 17:02:02     ENX   13  False\n",
       "405    FF11_FP      TOTALENERGIES 2021-08-04 17:02:02      FP   13  False\n",
       "406   FF11_SEV               SUEZ 2023-12-21 17:02:02     SEV   13  False\n",
       "407   FF11_SGO       SAINT-GOBAIN 2023-12-21 17:02:02     SGO   13  False\n",
       "408   FF11_TTE      TOTALENERGIES 2023-12-21 17:02:02     TTE   13  False\n",
       "\n",
       "[409 rows x 6 columns]"
      ]
     },
     "execution_count": 120,
     "metadata": {},
     "output_type": "execute_result"
    }
   ],
   "source": [
    "compA_companies"
   ]
  },
  {
   "cell_type": "code",
   "execution_count": 121,
   "metadata": {},
   "outputs": [],
   "source": [
    "# detection_intrus(compA_companies)"
   ]
  },
  {
   "cell_type": "code",
   "execution_count": 122,
   "metadata": {},
   "outputs": [
    {
     "data": {
      "text/plain": [
       "{'1rA', '1rP', 'FF1'}"
      ]
     },
     "execution_count": 122,
     "metadata": {},
     "output_type": "execute_result"
    }
   ],
   "source": [
    "get_prefix(compA_companies)"
   ]
  },
  {
   "cell_type": "markdown",
   "metadata": {},
   "source": [
    "## CompB - Companies handling"
   ]
  },
  {
   "cell_type": "code",
   "execution_count": 123,
   "metadata": {},
   "outputs": [
    {
     "name": "stderr",
     "output_type": "stream",
     "text": [
      "100%|██████████| 540/540 [00:02<00:00, 207.71it/s]\n"
     ]
    }
   ],
   "source": [
    "dfs_compB = multi_read_df_from_paths(list(file_infos_df_filtered[file_infos_df_filtered[\"market\"] == \"compB\"] [\"path\"]))"
   ]
  },
  {
   "cell_type": "code",
   "execution_count": 124,
   "metadata": {},
   "outputs": [],
   "source": [
    "compB_companies = dfs_to_companie(dfs_compB, prefix_to_market_id=db.prefix_to_market_id ,default_mid=db.prefix_to_market_id[\"1rP\"])"
   ]
  },
  {
   "cell_type": "code",
   "execution_count": 125,
   "metadata": {},
   "outputs": [
    {
     "data": {
      "text/html": [
       "<div>\n",
       "<style scoped>\n",
       "    .dataframe tbody tr th:only-of-type {\n",
       "        vertical-align: middle;\n",
       "    }\n",
       "\n",
       "    .dataframe tbody tr th {\n",
       "        vertical-align: top;\n",
       "    }\n",
       "\n",
       "    .dataframe thead th {\n",
       "        text-align: right;\n",
       "    }\n",
       "</style>\n",
       "<table border=\"1\" class=\"dataframe\">\n",
       "  <thead>\n",
       "    <tr style=\"text-align: right;\">\n",
       "      <th></th>\n",
       "      <th>symbol</th>\n",
       "      <th>name</th>\n",
       "      <th>timestamp</th>\n",
       "      <th>ticker</th>\n",
       "      <th>mid</th>\n",
       "      <th>pea</th>\n",
       "    </tr>\n",
       "  </thead>\n",
       "  <tbody>\n",
       "    <tr>\n",
       "      <th>0</th>\n",
       "      <td>1rP03227</td>\n",
       "      <td>LATECOERE</td>\n",
       "      <td>2023-12-21 17:02:02</td>\n",
       "      <td>03227</td>\n",
       "      <td>12</td>\n",
       "      <td>False</td>\n",
       "    </tr>\n",
       "    <tr>\n",
       "      <th>1</th>\n",
       "      <td>1rP2MX</td>\n",
       "      <td>TERACT R PFD</td>\n",
       "      <td>2023-12-21 17:02:02</td>\n",
       "      <td>2MX</td>\n",
       "      <td>12</td>\n",
       "      <td>False</td>\n",
       "    </tr>\n",
       "    <tr>\n",
       "      <th>2</th>\n",
       "      <td>1rP5478</td>\n",
       "      <td>CLARANOVA</td>\n",
       "      <td>2021-10-05 17:02:01</td>\n",
       "      <td>5478</td>\n",
       "      <td>12</td>\n",
       "      <td>False</td>\n",
       "    </tr>\n",
       "    <tr>\n",
       "      <th>3</th>\n",
       "      <td>1rPAAA</td>\n",
       "      <td>ALAN ALLMAN ASSOCIATES</td>\n",
       "      <td>2023-12-21 17:02:02</td>\n",
       "      <td>AAA</td>\n",
       "      <td>12</td>\n",
       "      <td>False</td>\n",
       "    </tr>\n",
       "    <tr>\n",
       "      <th>4</th>\n",
       "      <td>1rPAAC</td>\n",
       "      <td>ACCOR ACQ COM R PFD</td>\n",
       "      <td>2021-06-01 17:02:01</td>\n",
       "      <td>AAC</td>\n",
       "      <td>12</td>\n",
       "      <td>False</td>\n",
       "    </tr>\n",
       "    <tr>\n",
       "      <th>...</th>\n",
       "      <td>...</td>\n",
       "      <td>...</td>\n",
       "      <td>...</td>\n",
       "      <td>...</td>\n",
       "      <td>...</td>\n",
       "      <td>...</td>\n",
       "    </tr>\n",
       "    <tr>\n",
       "      <th>391</th>\n",
       "      <td>1rPXFAB</td>\n",
       "      <td>X-FAB SILICON</td>\n",
       "      <td>2023-12-21 17:02:02</td>\n",
       "      <td>XFAB</td>\n",
       "      <td>12</td>\n",
       "      <td>False</td>\n",
       "    </tr>\n",
       "    <tr>\n",
       "      <th>392</th>\n",
       "      <td>1rPXIL</td>\n",
       "      <td>XILAM ANIMATION</td>\n",
       "      <td>2023-12-21 17:02:02</td>\n",
       "      <td>XIL</td>\n",
       "      <td>12</td>\n",
       "      <td>False</td>\n",
       "    </tr>\n",
       "    <tr>\n",
       "      <th>393</th>\n",
       "      <td>1rPYSYT</td>\n",
       "      <td>SALVEPORN01JAN22EX</td>\n",
       "      <td>2023-12-21 17:02:02</td>\n",
       "      <td>YSYT</td>\n",
       "      <td>12</td>\n",
       "      <td>False</td>\n",
       "    </tr>\n",
       "    <tr>\n",
       "      <th>394</th>\n",
       "      <td>FF11_AKA</td>\n",
       "      <td>AKKA TECHNOLOGIES</td>\n",
       "      <td>2022-01-14 17:02:01</td>\n",
       "      <td>AKA</td>\n",
       "      <td>13</td>\n",
       "      <td>False</td>\n",
       "    </tr>\n",
       "    <tr>\n",
       "      <th>395</th>\n",
       "      <td>FF11_VRAP</td>\n",
       "      <td>VRANKEN-POMMERY MO.</td>\n",
       "      <td>2023-01-11 17:02:02</td>\n",
       "      <td>VRAP</td>\n",
       "      <td>13</td>\n",
       "      <td>False</td>\n",
       "    </tr>\n",
       "  </tbody>\n",
       "</table>\n",
       "<p>396 rows × 6 columns</p>\n",
       "</div>"
      ],
      "text/plain": [
       "        symbol                    name           timestamp ticker  mid    pea\n",
       "0     1rP03227               LATECOERE 2023-12-21 17:02:02  03227   12  False\n",
       "1       1rP2MX            TERACT R PFD 2023-12-21 17:02:02    2MX   12  False\n",
       "2      1rP5478               CLARANOVA 2021-10-05 17:02:01   5478   12  False\n",
       "3       1rPAAA  ALAN ALLMAN ASSOCIATES 2023-12-21 17:02:02    AAA   12  False\n",
       "4       1rPAAC     ACCOR ACQ COM R PFD 2021-06-01 17:02:01    AAC   12  False\n",
       "..         ...                     ...                 ...    ...  ...    ...\n",
       "391    1rPXFAB           X-FAB SILICON 2023-12-21 17:02:02   XFAB   12  False\n",
       "392     1rPXIL         XILAM ANIMATION 2023-12-21 17:02:02    XIL   12  False\n",
       "393    1rPYSYT      SALVEPORN01JAN22EX 2023-12-21 17:02:02   YSYT   12  False\n",
       "394   FF11_AKA       AKKA TECHNOLOGIES 2022-01-14 17:02:01    AKA   13  False\n",
       "395  FF11_VRAP     VRANKEN-POMMERY MO. 2023-01-11 17:02:02   VRAP   13  False\n",
       "\n",
       "[396 rows x 6 columns]"
      ]
     },
     "execution_count": 125,
     "metadata": {},
     "output_type": "execute_result"
    }
   ],
   "source": [
    "compB_companies"
   ]
  },
  {
   "cell_type": "code",
   "execution_count": 126,
   "metadata": {},
   "outputs": [],
   "source": [
    "# get_prefix(compB_companies)"
   ]
  },
  {
   "cell_type": "markdown",
   "metadata": {},
   "source": [
    "## PEA PME - Companies Handling"
   ]
  },
  {
   "cell_type": "code",
   "execution_count": 127,
   "metadata": {},
   "outputs": [
    {
     "name": "stderr",
     "output_type": "stream",
     "text": [
      "100%|██████████| 324/324 [00:01<00:00, 182.52it/s]\n"
     ]
    }
   ],
   "source": [
    "dfs_peapme = multi_read_df_from_paths(list(file_infos_df_filtered[file_infos_df_filtered[\"market\"] == \"peapme\"] [\"path\"]))"
   ]
  },
  {
   "cell_type": "code",
   "execution_count": 128,
   "metadata": {},
   "outputs": [],
   "source": [
    "peapme_companies = dfs_to_companie(dfs_peapme, prefix_to_market_id=db.prefix_to_market_id ,default_mid=db.prefix_to_market_id[\"1rP\"], is_pea=True)"
   ]
  },
  {
   "cell_type": "code",
   "execution_count": 129,
   "metadata": {},
   "outputs": [
    {
     "data": {
      "text/html": [
       "<div>\n",
       "<style scoped>\n",
       "    .dataframe tbody tr th:only-of-type {\n",
       "        vertical-align: middle;\n",
       "    }\n",
       "\n",
       "    .dataframe tbody tr th {\n",
       "        vertical-align: top;\n",
       "    }\n",
       "\n",
       "    .dataframe thead th {\n",
       "        text-align: right;\n",
       "    }\n",
       "</style>\n",
       "<table border=\"1\" class=\"dataframe\">\n",
       "  <thead>\n",
       "    <tr style=\"text-align: right;\">\n",
       "      <th></th>\n",
       "      <th>symbol</th>\n",
       "      <th>name</th>\n",
       "      <th>timestamp</th>\n",
       "      <th>ticker</th>\n",
       "      <th>mid</th>\n",
       "      <th>pea</th>\n",
       "    </tr>\n",
       "  </thead>\n",
       "  <tbody>\n",
       "    <tr>\n",
       "      <th>0</th>\n",
       "      <td>1rAADUX</td>\n",
       "      <td>ADUX</td>\n",
       "      <td>2023-12-21 17:02:02</td>\n",
       "      <td>ADUX</td>\n",
       "      <td>11</td>\n",
       "      <td>True</td>\n",
       "    </tr>\n",
       "    <tr>\n",
       "      <th>1</th>\n",
       "      <td>1rABESI</td>\n",
       "      <td>BESI</td>\n",
       "      <td>2023-12-21 17:02:02</td>\n",
       "      <td>BESI</td>\n",
       "      <td>11</td>\n",
       "      <td>True</td>\n",
       "    </tr>\n",
       "    <tr>\n",
       "      <th>2</th>\n",
       "      <td>1rEPALANT</td>\n",
       "      <td>ANTEVENIO</td>\n",
       "      <td>2021-11-16 17:02:01</td>\n",
       "      <td>ALANT</td>\n",
       "      <td>12</td>\n",
       "      <td>True</td>\n",
       "    </tr>\n",
       "    <tr>\n",
       "      <th>3</th>\n",
       "      <td>1rEPALAQU</td>\n",
       "      <td>AQUILA</td>\n",
       "      <td>2023-12-21 17:02:02</td>\n",
       "      <td>ALAQU</td>\n",
       "      <td>12</td>\n",
       "      <td>True</td>\n",
       "    </tr>\n",
       "    <tr>\n",
       "      <th>4</th>\n",
       "      <td>1rEPALBDM</td>\n",
       "      <td>BD MULTI MEDIA</td>\n",
       "      <td>2023-12-21 17:02:02</td>\n",
       "      <td>ALBDM</td>\n",
       "      <td>12</td>\n",
       "      <td>True</td>\n",
       "    </tr>\n",
       "    <tr>\n",
       "      <th>...</th>\n",
       "      <td>...</td>\n",
       "      <td>...</td>\n",
       "      <td>...</td>\n",
       "      <td>...</td>\n",
       "      <td>...</td>\n",
       "      <td>...</td>\n",
       "    </tr>\n",
       "    <tr>\n",
       "      <th>672</th>\n",
       "      <td>FF11_EVS</td>\n",
       "      <td>EVS BROADCAST EQU</td>\n",
       "      <td>2023-12-21 17:02:02</td>\n",
       "      <td>EVS</td>\n",
       "      <td>13</td>\n",
       "      <td>True</td>\n",
       "    </tr>\n",
       "    <tr>\n",
       "      <th>673</th>\n",
       "      <td>FF11_GKTX</td>\n",
       "      <td>GENKYOTEX</td>\n",
       "      <td>2022-08-08 17:02:02</td>\n",
       "      <td>GKTX</td>\n",
       "      <td>13</td>\n",
       "      <td>True</td>\n",
       "    </tr>\n",
       "    <tr>\n",
       "      <th>674</th>\n",
       "      <td>FF11_KIN</td>\n",
       "      <td>KINEPOLIS GROUP</td>\n",
       "      <td>2023-12-21 17:02:02</td>\n",
       "      <td>KIN</td>\n",
       "      <td>13</td>\n",
       "      <td>True</td>\n",
       "    </tr>\n",
       "    <tr>\n",
       "      <th>675</th>\n",
       "      <td>FF11_MLMAZ</td>\n",
       "      <td>MAZARO</td>\n",
       "      <td>2023-12-21 17:02:02</td>\n",
       "      <td>MLMAZ</td>\n",
       "      <td>13</td>\n",
       "      <td>True</td>\n",
       "    </tr>\n",
       "    <tr>\n",
       "      <th>676</th>\n",
       "      <td>FF11_VRAP</td>\n",
       "      <td>VRANKEN-POMMERY MO.</td>\n",
       "      <td>2023-12-21 17:02:02</td>\n",
       "      <td>VRAP</td>\n",
       "      <td>13</td>\n",
       "      <td>True</td>\n",
       "    </tr>\n",
       "  </tbody>\n",
       "</table>\n",
       "<p>677 rows × 6 columns</p>\n",
       "</div>"
      ],
      "text/plain": [
       "         symbol                 name           timestamp ticker  mid   pea\n",
       "0       1rAADUX                 ADUX 2023-12-21 17:02:02   ADUX   11  True\n",
       "1       1rABESI                 BESI 2023-12-21 17:02:02   BESI   11  True\n",
       "2     1rEPALANT            ANTEVENIO 2021-11-16 17:02:01  ALANT   12  True\n",
       "3     1rEPALAQU               AQUILA 2023-12-21 17:02:02  ALAQU   12  True\n",
       "4     1rEPALBDM       BD MULTI MEDIA 2023-12-21 17:02:02  ALBDM   12  True\n",
       "..          ...                  ...                 ...    ...  ...   ...\n",
       "672    FF11_EVS    EVS BROADCAST EQU 2023-12-21 17:02:02    EVS   13  True\n",
       "673   FF11_GKTX            GENKYOTEX 2022-08-08 17:02:02   GKTX   13  True\n",
       "674    FF11_KIN      KINEPOLIS GROUP 2023-12-21 17:02:02    KIN   13  True\n",
       "675  FF11_MLMAZ               MAZARO 2023-12-21 17:02:02  MLMAZ   13  True\n",
       "676   FF11_VRAP  VRANKEN-POMMERY MO. 2023-12-21 17:02:02   VRAP   13  True\n",
       "\n",
       "[677 rows x 6 columns]"
      ]
     },
     "execution_count": 129,
     "metadata": {},
     "output_type": "execute_result"
    }
   ],
   "source": [
    "peapme_companies"
   ]
  },
  {
   "cell_type": "code",
   "execution_count": 130,
   "metadata": {},
   "outputs": [
    {
     "data": {
      "text/plain": [
       "{'1rA', '1rE', '1rP', 'FF1'}"
      ]
     },
     "execution_count": 130,
     "metadata": {},
     "output_type": "execute_result"
    }
   ],
   "source": [
    "get_prefix(peapme_companies)"
   ]
  },
  {
   "cell_type": "markdown",
   "metadata": {},
   "source": [
    "## Join companies"
   ]
  },
  {
   "cell_type": "code",
   "execution_count": 131,
   "metadata": {},
   "outputs": [],
   "source": [
    "df_companies = [amsterdam_companies, compA_companies, compB_companies, peapme_companies]"
   ]
  },
  {
   "cell_type": "code",
   "execution_count": 132,
   "metadata": {},
   "outputs": [],
   "source": [
    "df_companies = pd.concat(df_companies)\n",
    "df_companies.sort_values(by=\"timestamp\", inplace=True)\n",
    "df_companies.drop_duplicates(inplace=True)\n",
    "df_companies.drop_duplicates(subset=[\"symbol\"], keep=\"last\", inplace=True)"
   ]
  },
  {
   "cell_type": "markdown",
   "metadata": {},
   "source": [
    "### Check no duplicated"
   ]
  },
  {
   "cell_type": "code",
   "execution_count": 133,
   "metadata": {},
   "outputs": [
    {
     "data": {
      "text/html": [
       "<div>\n",
       "<style scoped>\n",
       "    .dataframe tbody tr th:only-of-type {\n",
       "        vertical-align: middle;\n",
       "    }\n",
       "\n",
       "    .dataframe tbody tr th {\n",
       "        vertical-align: top;\n",
       "    }\n",
       "\n",
       "    .dataframe thead th {\n",
       "        text-align: right;\n",
       "    }\n",
       "</style>\n",
       "<table border=\"1\" class=\"dataframe\">\n",
       "  <thead>\n",
       "    <tr style=\"text-align: right;\">\n",
       "      <th></th>\n",
       "      <th>symbol</th>\n",
       "      <th>name</th>\n",
       "      <th>timestamp</th>\n",
       "      <th>ticker</th>\n",
       "      <th>mid</th>\n",
       "      <th>pea</th>\n",
       "    </tr>\n",
       "  </thead>\n",
       "  <tbody>\n",
       "  </tbody>\n",
       "</table>\n",
       "</div>"
      ],
      "text/plain": [
       "Empty DataFrame\n",
       "Columns: [symbol, name, timestamp, ticker, mid, pea]\n",
       "Index: []"
      ]
     },
     "execution_count": 133,
     "metadata": {},
     "output_type": "execute_result"
    }
   ],
   "source": [
    "df_companies[df_companies.duplicated(subset=[\"symbol\"], keep=False)][:50]"
   ]
  },
  {
   "cell_type": "code",
   "execution_count": 134,
   "metadata": {},
   "outputs": [],
   "source": [
    "df_companies.drop(\"timestamp\", axis=1, inplace=True)"
   ]
  },
  {
   "cell_type": "code",
   "execution_count": 135,
   "metadata": {},
   "outputs": [],
   "source": [
    "df_companies.set_index(\"symbol\", inplace=True)"
   ]
  },
  {
   "cell_type": "code",
   "execution_count": 136,
   "metadata": {},
   "outputs": [
    {
     "data": {
      "text/html": [
       "<div>\n",
       "<style scoped>\n",
       "    .dataframe tbody tr th:only-of-type {\n",
       "        vertical-align: middle;\n",
       "    }\n",
       "\n",
       "    .dataframe tbody tr th {\n",
       "        vertical-align: top;\n",
       "    }\n",
       "\n",
       "    .dataframe thead th {\n",
       "        text-align: right;\n",
       "    }\n",
       "</style>\n",
       "<table border=\"1\" class=\"dataframe\">\n",
       "  <thead>\n",
       "    <tr style=\"text-align: right;\">\n",
       "      <th></th>\n",
       "      <th>name</th>\n",
       "      <th>ticker</th>\n",
       "      <th>mid</th>\n",
       "      <th>pea</th>\n",
       "    </tr>\n",
       "    <tr>\n",
       "      <th>symbol</th>\n",
       "      <th></th>\n",
       "      <th></th>\n",
       "      <th></th>\n",
       "      <th></th>\n",
       "    </tr>\n",
       "  </thead>\n",
       "  <tbody>\n",
       "    <tr>\n",
       "      <th>GOV</th>\n",
       "      <td>GV P IN REIT-SBI</td>\n",
       "      <td>GOV</td>\n",
       "      <td>14</td>\n",
       "      <td>False</td>\n",
       "    </tr>\n",
       "    <tr>\n",
       "      <th>BBOX</th>\n",
       "      <td>BLACK BOX</td>\n",
       "      <td>BBOX</td>\n",
       "      <td>14</td>\n",
       "      <td>False</td>\n",
       "    </tr>\n",
       "    <tr>\n",
       "      <th>INTX</th>\n",
       "      <td>INTERSECTIONS</td>\n",
       "      <td>INTX</td>\n",
       "      <td>14</td>\n",
       "      <td>False</td>\n",
       "    </tr>\n",
       "    <tr>\n",
       "      <th>FSACU</th>\n",
       "      <td>FEDRL STR ACQST UTS</td>\n",
       "      <td>FSACU</td>\n",
       "      <td>14</td>\n",
       "      <td>False</td>\n",
       "    </tr>\n",
       "    <tr>\n",
       "      <th>FSAC</th>\n",
       "      <td>FDRL STR ACQST-A</td>\n",
       "      <td>FSAC</td>\n",
       "      <td>14</td>\n",
       "      <td>False</td>\n",
       "    </tr>\n",
       "  </tbody>\n",
       "</table>\n",
       "</div>"
      ],
      "text/plain": [
       "                       name ticker  mid    pea\n",
       "symbol                                        \n",
       "GOV        GV P IN REIT-SBI    GOV   14  False\n",
       "BBOX              BLACK BOX   BBOX   14  False\n",
       "INTX          INTERSECTIONS   INTX   14  False\n",
       "FSACU   FEDRL STR ACQST UTS  FSACU   14  False\n",
       "FSAC       FDRL STR ACQST-A   FSAC   14  False"
      ]
     },
     "execution_count": 136,
     "metadata": {},
     "output_type": "execute_result"
    }
   ],
   "source": [
    "df_companies.head()"
   ]
  },
  {
   "cell_type": "markdown",
   "metadata": {},
   "source": [
    "### Update companies table"
   ]
  },
  {
   "cell_type": "code",
   "execution_count": 137,
   "metadata": {},
   "outputs": [],
   "source": [
    "# db.clean_database()\n",
    "# db._setup_database()"
   ]
  },
  {
   "cell_type": "code",
   "execution_count": 205,
   "metadata": {},
   "outputs": [],
   "source": [
    "db.df_write(df_companies, \"companies\", commit=True)"
   ]
  },
  {
   "cell_type": "markdown",
   "metadata": {},
   "source": [
    "# Stocks"
   ]
  },
  {
   "cell_type": "code",
   "execution_count": 5,
   "metadata": {},
   "outputs": [],
   "source": [
    "def dfs_to_stocks(\n",
    "    dfs: list[pd.DataFrame], prefix_to_market_id: dict, default_mid: int, is_pea: bool = False\n",
    ") -> pd.DataFrame:\n",
    "    df_all_days = pd.concat(dfs)\n",
    "    #drop columns symbol and last_suffix\n",
    "    df_all_days = df_all_days.drop(columns=[\"symbol\", \"last_suffix\",'name'])\n",
    "    return df_all_days"
   ]
  },
  {
   "cell_type": "code",
   "execution_count": 18,
   "metadata": {},
   "outputs": [
    {
     "name": "stderr",
     "output_type": "stream",
     "text": [
      "  0%|          | 0/271325 [00:00<?, ?it/s]\n"
     ]
    },
    {
     "ename": "KeyboardInterrupt",
     "evalue": "",
     "output_type": "error",
     "traceback": [
      "\u001b[0;31m---------------------------------------------------------------------------\u001b[0m",
      "\u001b[0;31mAttributeError\u001b[0m                            Traceback (most recent call last)",
      "File \u001b[0;32m~/Epita/SCIA/BIG_DATA/bourse/analyzer/utils.py:17\u001b[0m, in \u001b[0;36mmulti_read_df_from_paths\u001b[0;34m(paths, read_function)\u001b[0m\n\u001b[1;32m     16\u001b[0m     \u001b[38;5;28;01mfor\u001b[39;00m future \u001b[38;5;129;01min\u001b[39;00m tqdm(futures):\n\u001b[0;32m---> 17\u001b[0m         dfs\u001b[38;5;241m.\u001b[39mappend(\u001b[43mfuture\u001b[49m\u001b[38;5;241;43m.\u001b[39;49m\u001b[43mresult\u001b[49m\u001b[43m(\u001b[49m\u001b[43m)\u001b[49m)\n\u001b[1;32m     18\u001b[0m \u001b[38;5;28;01mreturn\u001b[39;00m dfs\n",
      "File \u001b[0;32m~/.pyenv/versions/3.10.12/lib/python3.10/concurrent/futures/_base.py:451\u001b[0m, in \u001b[0;36mFuture.result\u001b[0;34m(self, timeout)\u001b[0m\n\u001b[1;32m    450\u001b[0m \u001b[38;5;28;01melif\u001b[39;00m \u001b[38;5;28mself\u001b[39m\u001b[38;5;241m.\u001b[39m_state \u001b[38;5;241m==\u001b[39m FINISHED:\n\u001b[0;32m--> 451\u001b[0m     \u001b[38;5;28;01mreturn\u001b[39;00m \u001b[38;5;28;43mself\u001b[39;49m\u001b[38;5;241;43m.\u001b[39;49m\u001b[43m__get_result\u001b[49m\u001b[43m(\u001b[49m\u001b[43m)\u001b[49m\n\u001b[1;32m    453\u001b[0m \u001b[38;5;28mself\u001b[39m\u001b[38;5;241m.\u001b[39m_condition\u001b[38;5;241m.\u001b[39mwait(timeout)\n",
      "File \u001b[0;32m~/.pyenv/versions/3.10.12/lib/python3.10/concurrent/futures/_base.py:403\u001b[0m, in \u001b[0;36mFuture.__get_result\u001b[0;34m(self)\u001b[0m\n\u001b[1;32m    402\u001b[0m \u001b[38;5;28;01mtry\u001b[39;00m:\n\u001b[0;32m--> 403\u001b[0m     \u001b[38;5;28;01mraise\u001b[39;00m \u001b[38;5;28mself\u001b[39m\u001b[38;5;241m.\u001b[39m_exception\n\u001b[1;32m    404\u001b[0m \u001b[38;5;28;01mfinally\u001b[39;00m:\n\u001b[1;32m    405\u001b[0m     \u001b[38;5;66;03m# Break a reference cycle with the exception in self._exception\u001b[39;00m\n",
      "File \u001b[0;32m~/.pyenv/versions/3.10.12/lib/python3.10/concurrent/futures/thread.py:58\u001b[0m, in \u001b[0;36m_WorkItem.run\u001b[0;34m(self)\u001b[0m\n\u001b[1;32m     57\u001b[0m \u001b[38;5;28;01mtry\u001b[39;00m:\n\u001b[0;32m---> 58\u001b[0m     result \u001b[38;5;241m=\u001b[39m \u001b[38;5;28;43mself\u001b[39;49m\u001b[38;5;241;43m.\u001b[39;49m\u001b[43mfn\u001b[49m\u001b[43m(\u001b[49m\u001b[38;5;241;43m*\u001b[39;49m\u001b[38;5;28;43mself\u001b[39;49m\u001b[38;5;241;43m.\u001b[39;49m\u001b[43margs\u001b[49m\u001b[43m,\u001b[49m\u001b[43m \u001b[49m\u001b[38;5;241;43m*\u001b[39;49m\u001b[38;5;241;43m*\u001b[39;49m\u001b[38;5;28;43mself\u001b[39;49m\u001b[38;5;241;43m.\u001b[39;49m\u001b[43mkwargs\u001b[49m\u001b[43m)\u001b[49m\n\u001b[1;32m     59\u001b[0m \u001b[38;5;28;01mexcept\u001b[39;00m \u001b[38;5;167;01mBaseException\u001b[39;00m \u001b[38;5;28;01mas\u001b[39;00m exc:\n",
      "File \u001b[0;32m~/Epita/SCIA/BIG_DATA/bourse/analyzer/analyze.py:89\u001b[0m, in \u001b[0;36mread_file\u001b[0;34m(path)\u001b[0m\n\u001b[1;32m     82\u001b[0m df[\u001b[38;5;124m\"\u001b[39m\u001b[38;5;124mlast\u001b[39m\u001b[38;5;124m\"\u001b[39m] \u001b[38;5;241m=\u001b[39m (\n\u001b[1;32m     83\u001b[0m     df[\u001b[38;5;124m\"\u001b[39m\u001b[38;5;124mlast\u001b[39m\u001b[38;5;124m\"\u001b[39m]\n\u001b[1;32m     84\u001b[0m     \u001b[38;5;241m.\u001b[39mastype(\u001b[38;5;28mstr\u001b[39m)\n\u001b[0;32m   (...)\u001b[0m\n\u001b[1;32m     87\u001b[0m     \u001b[38;5;241m.\u001b[39mastype(\u001b[38;5;28mfloat\u001b[39m)\n\u001b[1;32m     88\u001b[0m )\n\u001b[0;32m---> 89\u001b[0m df[\u001b[38;5;124m\"\u001b[39m\u001b[38;5;124mlast_suffix\u001b[39m\u001b[38;5;124m\"\u001b[39m] \u001b[38;5;241m=\u001b[39m \u001b[43mdf\u001b[49m\u001b[43m[\u001b[49m\u001b[38;5;124;43m\"\u001b[39;49m\u001b[38;5;124;43mlast\u001b[39;49m\u001b[38;5;124;43m\"\u001b[39;49m\u001b[43m]\u001b[49m\u001b[38;5;241;43m.\u001b[39;49m\u001b[43mstr\u001b[49m\u001b[38;5;241m.\u001b[39mextract(\u001b[38;5;124mr\u001b[39m\u001b[38;5;124m\"\u001b[39m\u001b[38;5;124m\\\u001b[39m\u001b[38;5;124m((.*?)\u001b[39m\u001b[38;5;124m\\\u001b[39m\u001b[38;5;124m)\u001b[39m\u001b[38;5;124m\"\u001b[39m, expand\u001b[38;5;241m=\u001b[39m\u001b[38;5;28;01mFalse\u001b[39;00m)\n\u001b[1;32m     90\u001b[0m timestamp \u001b[38;5;241m=\u001b[39m \u001b[38;5;124m\"\u001b[39m\u001b[38;5;124m \u001b[39m\u001b[38;5;124m\"\u001b[39m\u001b[38;5;241m.\u001b[39mjoin(path\u001b[38;5;241m.\u001b[39msplit(\u001b[38;5;124m\"\u001b[39m\u001b[38;5;124m \u001b[39m\u001b[38;5;124m\"\u001b[39m)[\u001b[38;5;241m1\u001b[39m:])\u001b[38;5;241m.\u001b[39msplit(\u001b[38;5;124m\"\u001b[39m\u001b[38;5;124m.\u001b[39m\u001b[38;5;124m\"\u001b[39m)[\u001b[38;5;241m0\u001b[39m]\n",
      "File \u001b[0;32m~/.pyenv/versions/3.10.12/envs/big_data_bourse/lib/python3.10/site-packages/pandas/core/generic.py:6296\u001b[0m, in \u001b[0;36mNDFrame.__getattr__\u001b[0;34m(self, name)\u001b[0m\n\u001b[1;32m   6295\u001b[0m     \u001b[38;5;28;01mreturn\u001b[39;00m \u001b[38;5;28mself\u001b[39m[name]\n\u001b[0;32m-> 6296\u001b[0m \u001b[38;5;28;01mreturn\u001b[39;00m \u001b[38;5;28;43mobject\u001b[39;49m\u001b[38;5;241;43m.\u001b[39;49m\u001b[38;5;21;43m__getattribute__\u001b[39;49m\u001b[43m(\u001b[49m\u001b[38;5;28;43mself\u001b[39;49m\u001b[43m,\u001b[49m\u001b[43m \u001b[49m\u001b[43mname\u001b[49m\u001b[43m)\u001b[49m\n",
      "File \u001b[0;32m~/.pyenv/versions/3.10.12/envs/big_data_bourse/lib/python3.10/site-packages/pandas/core/accessor.py:224\u001b[0m, in \u001b[0;36mCachedAccessor.__get__\u001b[0;34m(self, obj, cls)\u001b[0m\n\u001b[1;32m    223\u001b[0m     \u001b[38;5;28;01mreturn\u001b[39;00m \u001b[38;5;28mself\u001b[39m\u001b[38;5;241m.\u001b[39m_accessor\n\u001b[0;32m--> 224\u001b[0m accessor_obj \u001b[38;5;241m=\u001b[39m \u001b[38;5;28;43mself\u001b[39;49m\u001b[38;5;241;43m.\u001b[39;49m\u001b[43m_accessor\u001b[49m\u001b[43m(\u001b[49m\u001b[43mobj\u001b[49m\u001b[43m)\u001b[49m\n\u001b[1;32m    225\u001b[0m \u001b[38;5;66;03m# Replace the property with the accessor object. Inspired by:\u001b[39;00m\n\u001b[1;32m    226\u001b[0m \u001b[38;5;66;03m# https://www.pydanny.com/cached-property.html\u001b[39;00m\n\u001b[1;32m    227\u001b[0m \u001b[38;5;66;03m# We need to use object.__setattr__ because we overwrite __setattr__ on\u001b[39;00m\n\u001b[1;32m    228\u001b[0m \u001b[38;5;66;03m# NDFrame\u001b[39;00m\n",
      "File \u001b[0;32m~/.pyenv/versions/3.10.12/envs/big_data_bourse/lib/python3.10/site-packages/pandas/core/strings/accessor.py:191\u001b[0m, in \u001b[0;36mStringMethods.__init__\u001b[0;34m(self, data)\u001b[0m\n\u001b[1;32m    189\u001b[0m \u001b[38;5;28;01mfrom\u001b[39;00m \u001b[38;5;21;01mpandas\u001b[39;00m\u001b[38;5;21;01m.\u001b[39;00m\u001b[38;5;21;01mcore\u001b[39;00m\u001b[38;5;21;01m.\u001b[39;00m\u001b[38;5;21;01marrays\u001b[39;00m\u001b[38;5;21;01m.\u001b[39;00m\u001b[38;5;21;01mstring_\u001b[39;00m \u001b[38;5;28;01mimport\u001b[39;00m StringDtype\n\u001b[0;32m--> 191\u001b[0m \u001b[38;5;28mself\u001b[39m\u001b[38;5;241m.\u001b[39m_inferred_dtype \u001b[38;5;241m=\u001b[39m \u001b[38;5;28;43mself\u001b[39;49m\u001b[38;5;241;43m.\u001b[39;49m\u001b[43m_validate\u001b[49m\u001b[43m(\u001b[49m\u001b[43mdata\u001b[49m\u001b[43m)\u001b[49m\n\u001b[1;32m    192\u001b[0m \u001b[38;5;28mself\u001b[39m\u001b[38;5;241m.\u001b[39m_is_categorical \u001b[38;5;241m=\u001b[39m \u001b[38;5;28misinstance\u001b[39m(data\u001b[38;5;241m.\u001b[39mdtype, CategoricalDtype)\n",
      "File \u001b[0;32m~/.pyenv/versions/3.10.12/envs/big_data_bourse/lib/python3.10/site-packages/pandas/core/strings/accessor.py:245\u001b[0m, in \u001b[0;36mStringMethods._validate\u001b[0;34m(data)\u001b[0m\n\u001b[1;32m    244\u001b[0m \u001b[38;5;28;01mif\u001b[39;00m inferred_dtype \u001b[38;5;129;01mnot\u001b[39;00m \u001b[38;5;129;01min\u001b[39;00m allowed_types:\n\u001b[0;32m--> 245\u001b[0m     \u001b[38;5;28;01mraise\u001b[39;00m \u001b[38;5;167;01mAttributeError\u001b[39;00m(\u001b[38;5;124m\"\u001b[39m\u001b[38;5;124mCan only use .str accessor with string values!\u001b[39m\u001b[38;5;124m\"\u001b[39m)\n\u001b[1;32m    246\u001b[0m \u001b[38;5;28;01mreturn\u001b[39;00m inferred_dtype\n",
      "\u001b[0;31mAttributeError\u001b[0m: Can only use .str accessor with string values!",
      "\nDuring handling of the above exception, another exception occurred:\n",
      "\u001b[0;31mKeyboardInterrupt\u001b[0m                         Traceback (most recent call last)",
      "Cell \u001b[0;32mIn[18], line 1\u001b[0m\n\u001b[0;32m----> 1\u001b[0m dfs \u001b[38;5;241m=\u001b[39m \u001b[43mmulti_read_df_from_paths\u001b[49m\u001b[43m(\u001b[49m\u001b[38;5;28;43mlist\u001b[39;49m\u001b[43m(\u001b[49m\u001b[43mfiles_infos_df\u001b[49m\u001b[43m \u001b[49m\u001b[43m[\u001b[49m\u001b[38;5;124;43m\"\u001b[39;49m\u001b[38;5;124;43mpath\u001b[39;49m\u001b[38;5;124;43m\"\u001b[39;49m\u001b[43m]\u001b[49m\u001b[43m)\u001b[49m\u001b[43m)\u001b[49m\n",
      "File \u001b[0;32m~/Epita/SCIA/BIG_DATA/bourse/analyzer/utils.py:12\u001b[0m, in \u001b[0;36mmulti_read_df_from_paths\u001b[0;34m(paths, read_function)\u001b[0m\n\u001b[1;32m     10\u001b[0m dfs \u001b[38;5;241m=\u001b[39m []\n\u001b[1;32m     11\u001b[0m num_cpus \u001b[38;5;241m=\u001b[39m multiprocessing\u001b[38;5;241m.\u001b[39mcpu_count()\n\u001b[0;32m---> 12\u001b[0m \u001b[38;5;28;01mwith\u001b[39;00m ThreadPoolExecutor(max_workers\u001b[38;5;241m=\u001b[39mnum_cpus) \u001b[38;5;28;01mas\u001b[39;00m executor:\n\u001b[1;32m     13\u001b[0m     futures \u001b[38;5;241m=\u001b[39m []\n\u001b[1;32m     14\u001b[0m     \u001b[38;5;28;01mfor\u001b[39;00m path \u001b[38;5;129;01min\u001b[39;00m paths:\n",
      "File \u001b[0;32m~/.pyenv/versions/3.10.12/lib/python3.10/concurrent/futures/_base.py:649\u001b[0m, in \u001b[0;36mExecutor.__exit__\u001b[0;34m(self, exc_type, exc_val, exc_tb)\u001b[0m\n\u001b[1;32m    648\u001b[0m \u001b[38;5;28;01mdef\u001b[39;00m \u001b[38;5;21m__exit__\u001b[39m(\u001b[38;5;28mself\u001b[39m, exc_type, exc_val, exc_tb):\n\u001b[0;32m--> 649\u001b[0m     \u001b[38;5;28;43mself\u001b[39;49m\u001b[38;5;241;43m.\u001b[39;49m\u001b[43mshutdown\u001b[49m\u001b[43m(\u001b[49m\u001b[43mwait\u001b[49m\u001b[38;5;241;43m=\u001b[39;49m\u001b[38;5;28;43;01mTrue\u001b[39;49;00m\u001b[43m)\u001b[49m\n\u001b[1;32m    650\u001b[0m     \u001b[38;5;28;01mreturn\u001b[39;00m \u001b[38;5;28;01mFalse\u001b[39;00m\n",
      "File \u001b[0;32m~/.pyenv/versions/3.10.12/lib/python3.10/concurrent/futures/thread.py:235\u001b[0m, in \u001b[0;36mThreadPoolExecutor.shutdown\u001b[0;34m(self, wait, cancel_futures)\u001b[0m\n\u001b[1;32m    233\u001b[0m \u001b[38;5;28;01mif\u001b[39;00m wait:\n\u001b[1;32m    234\u001b[0m     \u001b[38;5;28;01mfor\u001b[39;00m t \u001b[38;5;129;01min\u001b[39;00m \u001b[38;5;28mself\u001b[39m\u001b[38;5;241m.\u001b[39m_threads:\n\u001b[0;32m--> 235\u001b[0m         \u001b[43mt\u001b[49m\u001b[38;5;241;43m.\u001b[39;49m\u001b[43mjoin\u001b[49m\u001b[43m(\u001b[49m\u001b[43m)\u001b[49m\n",
      "File \u001b[0;32m~/.pyenv/versions/3.10.12/lib/python3.10/threading.py:1096\u001b[0m, in \u001b[0;36mThread.join\u001b[0;34m(self, timeout)\u001b[0m\n\u001b[1;32m   1093\u001b[0m     \u001b[38;5;28;01mraise\u001b[39;00m \u001b[38;5;167;01mRuntimeError\u001b[39;00m(\u001b[38;5;124m\"\u001b[39m\u001b[38;5;124mcannot join current thread\u001b[39m\u001b[38;5;124m\"\u001b[39m)\n\u001b[1;32m   1095\u001b[0m \u001b[38;5;28;01mif\u001b[39;00m timeout \u001b[38;5;129;01mis\u001b[39;00m \u001b[38;5;28;01mNone\u001b[39;00m:\n\u001b[0;32m-> 1096\u001b[0m     \u001b[38;5;28;43mself\u001b[39;49m\u001b[38;5;241;43m.\u001b[39;49m\u001b[43m_wait_for_tstate_lock\u001b[49m\u001b[43m(\u001b[49m\u001b[43m)\u001b[49m\n\u001b[1;32m   1097\u001b[0m \u001b[38;5;28;01melse\u001b[39;00m:\n\u001b[1;32m   1098\u001b[0m     \u001b[38;5;66;03m# the behavior of a negative timeout isn't documented, but\u001b[39;00m\n\u001b[1;32m   1099\u001b[0m     \u001b[38;5;66;03m# historically .join(timeout=x) for x<0 has acted as if timeout=0\u001b[39;00m\n\u001b[1;32m   1100\u001b[0m     \u001b[38;5;28mself\u001b[39m\u001b[38;5;241m.\u001b[39m_wait_for_tstate_lock(timeout\u001b[38;5;241m=\u001b[39m\u001b[38;5;28mmax\u001b[39m(timeout, \u001b[38;5;241m0\u001b[39m))\n",
      "File \u001b[0;32m~/.pyenv/versions/3.10.12/lib/python3.10/threading.py:1116\u001b[0m, in \u001b[0;36mThread._wait_for_tstate_lock\u001b[0;34m(self, block, timeout)\u001b[0m\n\u001b[1;32m   1113\u001b[0m     \u001b[38;5;28;01mreturn\u001b[39;00m\n\u001b[1;32m   1115\u001b[0m \u001b[38;5;28;01mtry\u001b[39;00m:\n\u001b[0;32m-> 1116\u001b[0m     \u001b[38;5;28;01mif\u001b[39;00m \u001b[43mlock\u001b[49m\u001b[38;5;241;43m.\u001b[39;49m\u001b[43macquire\u001b[49m\u001b[43m(\u001b[49m\u001b[43mblock\u001b[49m\u001b[43m,\u001b[49m\u001b[43m \u001b[49m\u001b[43mtimeout\u001b[49m\u001b[43m)\u001b[49m:\n\u001b[1;32m   1117\u001b[0m         lock\u001b[38;5;241m.\u001b[39mrelease()\n\u001b[1;32m   1118\u001b[0m         \u001b[38;5;28mself\u001b[39m\u001b[38;5;241m.\u001b[39m_stop()\n",
      "\u001b[0;31mKeyboardInterrupt\u001b[0m: "
     ]
    }
   ],
   "source": [
    "dfs = multi_read_df_from_paths(list(files_infos_df [\"path\"]))"
   ]
  },
  {
   "cell_type": "code",
   "execution_count": 106,
   "metadata": {},
   "outputs": [],
   "source": [
    "df_stocks = dfs_to_stocks(dfs, db.prefix_to_market_id, default_mid=db.nasdaq_market_id) "
   ]
  },
  {
   "cell_type": "markdown",
   "metadata": {},
   "source": [
    "#### Show Nan "
   ]
  },
  {
   "cell_type": "code",
   "execution_count": 10,
   "metadata": {},
   "outputs": [
    {
     "data": {
      "text/plain": [
       "(Empty DataFrame\n",
       " Columns: [last, volume, timestamp]\n",
       " Index: [],\n",
       " Empty DataFrame\n",
       " Columns: [last, volume, timestamp]\n",
       " Index: [])"
      ]
     },
     "execution_count": 10,
     "metadata": {},
     "output_type": "execute_result"
    }
   ],
   "source": [
    "df_stocks[df_stocks['last'].isna()], df_stocks[df_stocks['volume'].isna()]"
   ]
  },
  {
   "cell_type": "markdown",
   "metadata": {},
   "source": [
    "#### Show negative values "
   ]
  },
  {
   "cell_type": "code",
   "execution_count": 11,
   "metadata": {},
   "outputs": [
    {
     "data": {
      "text/plain": [
       "(         last  volume           timestamp\n",
       " symbol                                   \n",
       " 1rPCDA  16.60  -12475 2020-04-07 12:02:02\n",
       " 1rPCDA  16.72  -10871 2020-04-07 13:02:02\n",
       " 1rPCDA  16.94   -9815 2020-04-07 14:02:02\n",
       " 1rPCDA  16.68   -9298 2020-04-07 15:02:01\n",
       " 1rPCDA  16.74   -9280 2020-04-07 16:02:01\n",
       " 1rPCDA  16.88   -8366 2020-04-07 17:02:02,\n",
       " Empty DataFrame\n",
       " Columns: [last, volume, timestamp]\n",
       " Index: [])"
      ]
     },
     "execution_count": 11,
     "metadata": {},
     "output_type": "execute_result"
    }
   ],
   "source": [
    "df_stocks[df_stocks['volume'] < 0], df_stocks[df_stocks['last'] < 0]"
   ]
  },
  {
   "cell_type": "code",
   "execution_count": 12,
   "metadata": {},
   "outputs": [],
   "source": [
    "df_stocks.reset_index(inplace=True)\n",
    "df_stocks.set_index(\"timestamp\", inplace=True)"
   ]
  },
  {
   "cell_type": "code",
   "execution_count": 13,
   "metadata": {},
   "outputs": [
    {
     "data": {
      "text/html": [
       "<div>\n",
       "<style scoped>\n",
       "    .dataframe tbody tr th:only-of-type {\n",
       "        vertical-align: middle;\n",
       "    }\n",
       "\n",
       "    .dataframe tbody tr th {\n",
       "        vertical-align: top;\n",
       "    }\n",
       "\n",
       "    .dataframe thead th {\n",
       "        text-align: right;\n",
       "    }\n",
       "</style>\n",
       "<table border=\"1\" class=\"dataframe\">\n",
       "  <thead>\n",
       "    <tr style=\"text-align: right;\">\n",
       "      <th></th>\n",
       "      <th>symbol</th>\n",
       "      <th>last</th>\n",
       "      <th>volume</th>\n",
       "    </tr>\n",
       "    <tr>\n",
       "      <th>timestamp</th>\n",
       "      <th></th>\n",
       "      <th></th>\n",
       "      <th></th>\n",
       "    </tr>\n",
       "  </thead>\n",
       "  <tbody>\n",
       "    <tr>\n",
       "      <th>2020-04-07 09:02:01</th>\n",
       "      <td>1rPCDA</td>\n",
       "      <td>16.12</td>\n",
       "      <td>876</td>\n",
       "    </tr>\n",
       "    <tr>\n",
       "      <th>2020-04-07 10:02:01</th>\n",
       "      <td>1rPCDA</td>\n",
       "      <td>16.36</td>\n",
       "      <td>2108</td>\n",
       "    </tr>\n",
       "    <tr>\n",
       "      <th>2020-04-07 11:02:01</th>\n",
       "      <td>1rPCDA</td>\n",
       "      <td>16.40</td>\n",
       "      <td>4414</td>\n",
       "    </tr>\n",
       "    <tr>\n",
       "      <th>2020-04-07 12:02:02</th>\n",
       "      <td>1rPCDA</td>\n",
       "      <td>16.60</td>\n",
       "      <td>-12475</td>\n",
       "    </tr>\n",
       "    <tr>\n",
       "      <th>2020-04-07 13:02:02</th>\n",
       "      <td>1rPCDA</td>\n",
       "      <td>16.72</td>\n",
       "      <td>-10871</td>\n",
       "    </tr>\n",
       "    <tr>\n",
       "      <th>2020-04-07 14:02:02</th>\n",
       "      <td>1rPCDA</td>\n",
       "      <td>16.94</td>\n",
       "      <td>-9815</td>\n",
       "    </tr>\n",
       "    <tr>\n",
       "      <th>2020-04-07 15:02:01</th>\n",
       "      <td>1rPCDA</td>\n",
       "      <td>16.68</td>\n",
       "      <td>-9298</td>\n",
       "    </tr>\n",
       "    <tr>\n",
       "      <th>2020-04-07 16:02:01</th>\n",
       "      <td>1rPCDA</td>\n",
       "      <td>16.74</td>\n",
       "      <td>-9280</td>\n",
       "    </tr>\n",
       "    <tr>\n",
       "      <th>2020-04-07 17:02:02</th>\n",
       "      <td>1rPCDA</td>\n",
       "      <td>16.88</td>\n",
       "      <td>-8366</td>\n",
       "    </tr>\n",
       "  </tbody>\n",
       "</table>\n",
       "</div>"
      ],
      "text/plain": [
       "                     symbol   last  volume\n",
       "timestamp                                 \n",
       "2020-04-07 09:02:01  1rPCDA  16.12     876\n",
       "2020-04-07 10:02:01  1rPCDA  16.36    2108\n",
       "2020-04-07 11:02:01  1rPCDA  16.40    4414\n",
       "2020-04-07 12:02:02  1rPCDA  16.60  -12475\n",
       "2020-04-07 13:02:02  1rPCDA  16.72  -10871\n",
       "2020-04-07 14:02:02  1rPCDA  16.94   -9815\n",
       "2020-04-07 15:02:01  1rPCDA  16.68   -9298\n",
       "2020-04-07 16:02:01  1rPCDA  16.74   -9280\n",
       "2020-04-07 17:02:02  1rPCDA  16.88   -8366"
      ]
     },
     "execution_count": 13,
     "metadata": {},
     "output_type": "execute_result"
    }
   ],
   "source": [
    "pcda = df_stocks[df_stocks[\"symbol\"]==\"1rPCDA\" ]\n",
    "pcda.loc[\"2020-04-07\"]"
   ]
  },
  {
   "cell_type": "markdown",
   "metadata": {},
   "source": [
    "#### Show zero values for volume"
   ]
  },
  {
   "cell_type": "code",
   "execution_count": 14,
   "metadata": {},
   "outputs": [
    {
     "data": {
      "text/html": [
       "<div>\n",
       "<style scoped>\n",
       "    .dataframe tbody tr th:only-of-type {\n",
       "        vertical-align: middle;\n",
       "    }\n",
       "\n",
       "    .dataframe tbody tr th {\n",
       "        vertical-align: top;\n",
       "    }\n",
       "\n",
       "    .dataframe thead th {\n",
       "        text-align: right;\n",
       "    }\n",
       "</style>\n",
       "<table border=\"1\" class=\"dataframe\">\n",
       "  <thead>\n",
       "    <tr style=\"text-align: right;\">\n",
       "      <th></th>\n",
       "      <th>symbol</th>\n",
       "      <th>last</th>\n",
       "      <th>volume</th>\n",
       "    </tr>\n",
       "    <tr>\n",
       "      <th>timestamp</th>\n",
       "      <th></th>\n",
       "      <th></th>\n",
       "      <th></th>\n",
       "    </tr>\n",
       "  </thead>\n",
       "  <tbody>\n",
       "    <tr>\n",
       "      <th>2019-01-15 09:02:02</th>\n",
       "      <td>ABII</td>\n",
       "      <td>78.25</td>\n",
       "      <td>0</td>\n",
       "    </tr>\n",
       "    <tr>\n",
       "      <th>2019-01-15 09:02:02</th>\n",
       "      <td>ACCL</td>\n",
       "      <td>12.51</td>\n",
       "      <td>0</td>\n",
       "    </tr>\n",
       "    <tr>\n",
       "      <th>2019-01-15 09:02:02</th>\n",
       "      <td>ACTL</td>\n",
       "      <td>20.95</td>\n",
       "      <td>0</td>\n",
       "    </tr>\n",
       "    <tr>\n",
       "      <th>2019-01-15 09:02:02</th>\n",
       "      <td>ADGF</td>\n",
       "      <td>10.78</td>\n",
       "      <td>0</td>\n",
       "    </tr>\n",
       "    <tr>\n",
       "      <th>2019-01-15 09:02:02</th>\n",
       "      <td>AGAM</td>\n",
       "      <td>21.20</td>\n",
       "      <td>0</td>\n",
       "    </tr>\n",
       "    <tr>\n",
       "      <th>...</th>\n",
       "      <td>...</td>\n",
       "      <td>...</td>\n",
       "      <td>...</td>\n",
       "    </tr>\n",
       "    <tr>\n",
       "      <th>2023-12-21 17:02:02</th>\n",
       "      <td>1rPMLUMG</td>\n",
       "      <td>2.40</td>\n",
       "      <td>0</td>\n",
       "    </tr>\n",
       "    <tr>\n",
       "      <th>2023-12-21 17:02:02</th>\n",
       "      <td>1rPALUPG</td>\n",
       "      <td>1.80</td>\n",
       "      <td>0</td>\n",
       "    </tr>\n",
       "    <tr>\n",
       "      <th>2023-12-21 17:02:02</th>\n",
       "      <td>1rPMLVAL</td>\n",
       "      <td>14.30</td>\n",
       "      <td>0</td>\n",
       "    </tr>\n",
       "    <tr>\n",
       "      <th>2023-12-21 17:02:02</th>\n",
       "      <td>1rPMLVSY</td>\n",
       "      <td>0.99</td>\n",
       "      <td>0</td>\n",
       "    </tr>\n",
       "    <tr>\n",
       "      <th>2023-12-21 17:02:02</th>\n",
       "      <td>1rPALVIA</td>\n",
       "      <td>12.80</td>\n",
       "      <td>0</td>\n",
       "    </tr>\n",
       "  </tbody>\n",
       "</table>\n",
       "<p>1530353 rows × 3 columns</p>\n",
       "</div>"
      ],
      "text/plain": [
       "                       symbol   last  volume\n",
       "timestamp                                   \n",
       "2019-01-15 09:02:02      ABII  78.25       0\n",
       "2019-01-15 09:02:02      ACCL  12.51       0\n",
       "2019-01-15 09:02:02      ACTL  20.95       0\n",
       "2019-01-15 09:02:02      ADGF  10.78       0\n",
       "2019-01-15 09:02:02      AGAM  21.20       0\n",
       "...                       ...    ...     ...\n",
       "2023-12-21 17:02:02  1rPMLUMG   2.40       0\n",
       "2023-12-21 17:02:02  1rPALUPG   1.80       0\n",
       "2023-12-21 17:02:02  1rPMLVAL  14.30       0\n",
       "2023-12-21 17:02:02  1rPMLVSY   0.99       0\n",
       "2023-12-21 17:02:02  1rPALVIA  12.80       0\n",
       "\n",
       "[1530353 rows x 3 columns]"
      ]
     },
     "execution_count": 14,
     "metadata": {},
     "output_type": "execute_result"
    }
   ],
   "source": [
    "df_stocks[df_stocks['volume'] == 0]"
   ]
  },
  {
   "cell_type": "markdown",
   "metadata": {},
   "source": [
    "#### Show negatives values for last"
   ]
  },
  {
   "cell_type": "code",
   "execution_count": 15,
   "metadata": {},
   "outputs": [
    {
     "data": {
      "text/html": [
       "<div>\n",
       "<style scoped>\n",
       "    .dataframe tbody tr th:only-of-type {\n",
       "        vertical-align: middle;\n",
       "    }\n",
       "\n",
       "    .dataframe tbody tr th {\n",
       "        vertical-align: top;\n",
       "    }\n",
       "\n",
       "    .dataframe thead th {\n",
       "        text-align: right;\n",
       "    }\n",
       "</style>\n",
       "<table border=\"1\" class=\"dataframe\">\n",
       "  <thead>\n",
       "    <tr style=\"text-align: right;\">\n",
       "      <th></th>\n",
       "      <th>symbol</th>\n",
       "      <th>last</th>\n",
       "      <th>volume</th>\n",
       "    </tr>\n",
       "    <tr>\n",
       "      <th>timestamp</th>\n",
       "      <th></th>\n",
       "      <th></th>\n",
       "      <th></th>\n",
       "    </tr>\n",
       "  </thead>\n",
       "  <tbody>\n",
       "  </tbody>\n",
       "</table>\n",
       "</div>"
      ],
      "text/plain": [
       "Empty DataFrame\n",
       "Columns: [symbol, last, volume]\n",
       "Index: []"
      ]
     },
     "execution_count": 15,
     "metadata": {},
     "output_type": "execute_result"
    }
   ],
   "source": [
    "df_stocks[df_stocks['last'] < 0]"
   ]
  },
  {
   "cell_type": "markdown",
   "metadata": {},
   "source": [
    "#### Show zero values for last"
   ]
  },
  {
   "cell_type": "code",
   "execution_count": 16,
   "metadata": {},
   "outputs": [
    {
     "data": {
      "text/html": [
       "<div>\n",
       "<style scoped>\n",
       "    .dataframe tbody tr th:only-of-type {\n",
       "        vertical-align: middle;\n",
       "    }\n",
       "\n",
       "    .dataframe tbody tr th {\n",
       "        vertical-align: top;\n",
       "    }\n",
       "\n",
       "    .dataframe thead th {\n",
       "        text-align: right;\n",
       "    }\n",
       "</style>\n",
       "<table border=\"1\" class=\"dataframe\">\n",
       "  <thead>\n",
       "    <tr style=\"text-align: right;\">\n",
       "      <th></th>\n",
       "      <th>symbol</th>\n",
       "      <th>last</th>\n",
       "      <th>volume</th>\n",
       "    </tr>\n",
       "    <tr>\n",
       "      <th>timestamp</th>\n",
       "      <th></th>\n",
       "      <th></th>\n",
       "      <th></th>\n",
       "    </tr>\n",
       "  </thead>\n",
       "  <tbody>\n",
       "    <tr>\n",
       "      <th>2019-01-15 09:02:02</th>\n",
       "      <td>ALZH</td>\n",
       "      <td>0.0</td>\n",
       "      <td>0</td>\n",
       "    </tr>\n",
       "    <tr>\n",
       "      <th>2019-01-15 09:02:02</th>\n",
       "      <td>AMCI</td>\n",
       "      <td>0.0</td>\n",
       "      <td>0</td>\n",
       "    </tr>\n",
       "    <tr>\n",
       "      <th>2019-01-15 09:02:02</th>\n",
       "      <td>ZLIG</td>\n",
       "      <td>0.0</td>\n",
       "      <td>0</td>\n",
       "    </tr>\n",
       "    <tr>\n",
       "      <th>2019-01-15 09:02:02</th>\n",
       "      <td>ASBC</td>\n",
       "      <td>0.0</td>\n",
       "      <td>0</td>\n",
       "    </tr>\n",
       "    <tr>\n",
       "      <th>2019-01-15 09:02:02</th>\n",
       "      <td>BECM</td>\n",
       "      <td>0.0</td>\n",
       "      <td>0</td>\n",
       "    </tr>\n",
       "    <tr>\n",
       "      <th>...</th>\n",
       "      <td>...</td>\n",
       "      <td>...</td>\n",
       "      <td>...</td>\n",
       "    </tr>\n",
       "    <tr>\n",
       "      <th>2023-12-21 17:02:02</th>\n",
       "      <td>1rPALGEC</td>\n",
       "      <td>0.0</td>\n",
       "      <td>14464536</td>\n",
       "    </tr>\n",
       "    <tr>\n",
       "      <th>2023-12-21 17:02:02</th>\n",
       "      <td>1rPMLGLA</td>\n",
       "      <td>0.0</td>\n",
       "      <td>0</td>\n",
       "    </tr>\n",
       "    <tr>\n",
       "      <th>2023-12-21 17:02:02</th>\n",
       "      <td>1rP03227</td>\n",
       "      <td>0.0</td>\n",
       "      <td>0</td>\n",
       "    </tr>\n",
       "    <tr>\n",
       "      <th>2023-12-21 17:02:02</th>\n",
       "      <td>1rPALNEV</td>\n",
       "      <td>0.0</td>\n",
       "      <td>31020359</td>\n",
       "    </tr>\n",
       "    <tr>\n",
       "      <th>2023-12-21 17:02:02</th>\n",
       "      <td>1rPALPHA</td>\n",
       "      <td>0.0</td>\n",
       "      <td>65413237</td>\n",
       "    </tr>\n",
       "  </tbody>\n",
       "</table>\n",
       "<p>60799 rows × 3 columns</p>\n",
       "</div>"
      ],
      "text/plain": [
       "                       symbol  last    volume\n",
       "timestamp                                    \n",
       "2019-01-15 09:02:02      ALZH   0.0         0\n",
       "2019-01-15 09:02:02      AMCI   0.0         0\n",
       "2019-01-15 09:02:02      ZLIG   0.0         0\n",
       "2019-01-15 09:02:02      ASBC   0.0         0\n",
       "2019-01-15 09:02:02      BECM   0.0         0\n",
       "...                       ...   ...       ...\n",
       "2023-12-21 17:02:02  1rPALGEC   0.0  14464536\n",
       "2023-12-21 17:02:02  1rPMLGLA   0.0         0\n",
       "2023-12-21 17:02:02  1rP03227   0.0         0\n",
       "2023-12-21 17:02:02  1rPALNEV   0.0  31020359\n",
       "2023-12-21 17:02:02  1rPALPHA   0.0  65413237\n",
       "\n",
       "[60799 rows x 3 columns]"
      ]
     },
     "execution_count": 16,
     "metadata": {},
     "output_type": "execute_result"
    }
   ],
   "source": [
    "df_stocks[df_stocks['last'] == 0]"
   ]
  },
  {
   "cell_type": "markdown",
   "metadata": {},
   "source": [
    "#### Show max and min values for last"
   ]
  },
  {
   "cell_type": "code",
   "execution_count": 17,
   "metadata": {},
   "outputs": [
    {
     "data": {
      "text/html": [
       "<div>\n",
       "<style scoped>\n",
       "    .dataframe tbody tr th:only-of-type {\n",
       "        vertical-align: middle;\n",
       "    }\n",
       "\n",
       "    .dataframe tbody tr th {\n",
       "        vertical-align: top;\n",
       "    }\n",
       "\n",
       "    .dataframe thead th {\n",
       "        text-align: right;\n",
       "    }\n",
       "</style>\n",
       "<table border=\"1\" class=\"dataframe\">\n",
       "  <thead>\n",
       "    <tr style=\"text-align: right;\">\n",
       "      <th></th>\n",
       "      <th>symbol</th>\n",
       "      <th>last</th>\n",
       "      <th>volume</th>\n",
       "    </tr>\n",
       "    <tr>\n",
       "      <th>timestamp</th>\n",
       "      <th></th>\n",
       "      <th></th>\n",
       "      <th></th>\n",
       "    </tr>\n",
       "  </thead>\n",
       "  <tbody>\n",
       "    <tr>\n",
       "      <th>2019-01-15 09:02:02</th>\n",
       "      <td>1rPMALA</td>\n",
       "      <td>8750.0</td>\n",
       "      <td>0</td>\n",
       "    </tr>\n",
       "  </tbody>\n",
       "</table>\n",
       "</div>"
      ],
      "text/plain": [
       "                      symbol    last  volume\n",
       "timestamp                                   \n",
       "2019-01-15 09:02:02  1rPMALA  8750.0       0"
      ]
     },
     "execution_count": 17,
     "metadata": {},
     "output_type": "execute_result"
    }
   ],
   "source": [
    "df_stocks[df_stocks['last'] == df_stocks['last'].max()].head(1)"
   ]
  },
  {
   "cell_type": "code",
   "execution_count": 18,
   "metadata": {},
   "outputs": [
    {
     "data": {
      "text/html": [
       "<div>\n",
       "<style scoped>\n",
       "    .dataframe tbody tr th:only-of-type {\n",
       "        vertical-align: middle;\n",
       "    }\n",
       "\n",
       "    .dataframe tbody tr th {\n",
       "        vertical-align: top;\n",
       "    }\n",
       "\n",
       "    .dataframe thead th {\n",
       "        text-align: right;\n",
       "    }\n",
       "</style>\n",
       "<table border=\"1\" class=\"dataframe\">\n",
       "  <thead>\n",
       "    <tr style=\"text-align: right;\">\n",
       "      <th></th>\n",
       "      <th>symbol</th>\n",
       "      <th>last</th>\n",
       "      <th>volume</th>\n",
       "    </tr>\n",
       "    <tr>\n",
       "      <th>timestamp</th>\n",
       "      <th></th>\n",
       "      <th></th>\n",
       "      <th></th>\n",
       "    </tr>\n",
       "  </thead>\n",
       "  <tbody>\n",
       "    <tr>\n",
       "      <th>2019-01-15 09:02:02</th>\n",
       "      <td>ALZH</td>\n",
       "      <td>0.0</td>\n",
       "      <td>0</td>\n",
       "    </tr>\n",
       "  </tbody>\n",
       "</table>\n",
       "</div>"
      ],
      "text/plain": [
       "                    symbol  last  volume\n",
       "timestamp                               \n",
       "2019-01-15 09:02:02   ALZH   0.0       0"
      ]
     },
     "execution_count": 18,
     "metadata": {},
     "output_type": "execute_result"
    }
   ],
   "source": [
    "df_stocks[df_stocks['last'] == df_stocks['last'].min()].head(1)"
   ]
  },
  {
   "cell_type": "markdown",
   "metadata": {},
   "source": [
    "#### Show the max and min value of the volume "
   ]
  },
  {
   "cell_type": "code",
   "execution_count": 19,
   "metadata": {},
   "outputs": [
    {
     "data": {
      "text/html": [
       "<div>\n",
       "<style scoped>\n",
       "    .dataframe tbody tr th:only-of-type {\n",
       "        vertical-align: middle;\n",
       "    }\n",
       "\n",
       "    .dataframe tbody tr th {\n",
       "        vertical-align: top;\n",
       "    }\n",
       "\n",
       "    .dataframe thead th {\n",
       "        text-align: right;\n",
       "    }\n",
       "</style>\n",
       "<table border=\"1\" class=\"dataframe\">\n",
       "  <thead>\n",
       "    <tr style=\"text-align: right;\">\n",
       "      <th></th>\n",
       "      <th>symbol</th>\n",
       "      <th>last</th>\n",
       "      <th>volume</th>\n",
       "    </tr>\n",
       "    <tr>\n",
       "      <th>timestamp</th>\n",
       "      <th></th>\n",
       "      <th></th>\n",
       "      <th></th>\n",
       "    </tr>\n",
       "  </thead>\n",
       "  <tbody>\n",
       "    <tr>\n",
       "      <th>2021-05-13 17:02:02</th>\n",
       "      <td>1rEPALNEV</td>\n",
       "      <td>0.031</td>\n",
       "      <td>1234500128</td>\n",
       "    </tr>\n",
       "  </tbody>\n",
       "</table>\n",
       "</div>"
      ],
      "text/plain": [
       "                        symbol   last      volume\n",
       "timestamp                                        \n",
       "2021-05-13 17:02:02  1rEPALNEV  0.031  1234500128"
      ]
     },
     "execution_count": 19,
     "metadata": {},
     "output_type": "execute_result"
    }
   ],
   "source": [
    "df_stocks[df_stocks['volume'] == df_stocks['volume'].max()].head()"
   ]
  },
  {
   "cell_type": "code",
   "execution_count": 20,
   "metadata": {},
   "outputs": [
    {
     "data": {
      "text/html": [
       "<div>\n",
       "<style scoped>\n",
       "    .dataframe tbody tr th:only-of-type {\n",
       "        vertical-align: middle;\n",
       "    }\n",
       "\n",
       "    .dataframe tbody tr th {\n",
       "        vertical-align: top;\n",
       "    }\n",
       "\n",
       "    .dataframe thead th {\n",
       "        text-align: right;\n",
       "    }\n",
       "</style>\n",
       "<table border=\"1\" class=\"dataframe\">\n",
       "  <thead>\n",
       "    <tr style=\"text-align: right;\">\n",
       "      <th></th>\n",
       "      <th>symbol</th>\n",
       "      <th>last</th>\n",
       "      <th>volume</th>\n",
       "    </tr>\n",
       "    <tr>\n",
       "      <th>timestamp</th>\n",
       "      <th></th>\n",
       "      <th></th>\n",
       "      <th></th>\n",
       "    </tr>\n",
       "  </thead>\n",
       "  <tbody>\n",
       "    <tr>\n",
       "      <th>2020-04-07 12:02:02</th>\n",
       "      <td>1rPCDA</td>\n",
       "      <td>16.6</td>\n",
       "      <td>-12475</td>\n",
       "    </tr>\n",
       "  </tbody>\n",
       "</table>\n",
       "</div>"
      ],
      "text/plain": [
       "                     symbol  last  volume\n",
       "timestamp                                \n",
       "2020-04-07 12:02:02  1rPCDA  16.6  -12475"
      ]
     },
     "execution_count": 20,
     "metadata": {},
     "output_type": "execute_result"
    }
   ],
   "source": [
    "df_stocks[df_stocks['volume'] == df_stocks['volume'].min()].head()"
   ]
  },
  {
   "cell_type": "markdown",
   "metadata": {},
   "source": [
    "## Filtering last and volume value"
   ]
  },
  {
   "cell_type": "code",
   "execution_count": 109,
   "metadata": {},
   "outputs": [],
   "source": [
    "df_stocks.reset_index(inplace=True)\n",
    "df_stocks.set_index(\"timestamp\", inplace=True)"
   ]
  },
  {
   "cell_type": "code",
   "execution_count": 110,
   "metadata": {},
   "outputs": [],
   "source": [
    "#timestamp betwen  9:00 and 9:10\n",
    "start_day_index = df_stocks.between_time(\"09:00\", \"09:10\").index"
   ]
  },
  {
   "cell_type": "code",
   "execution_count": 112,
   "metadata": {},
   "outputs": [],
   "source": [
    "df_stocks.reset_index(inplace=True)"
   ]
  },
  {
   "cell_type": "code",
   "execution_count": 113,
   "metadata": {},
   "outputs": [],
   "source": [
    "df_stocks.loc[~df_stocks[\"timestamp\"].isin(start_day_index), \"volume\"] = df_stocks.loc[\n",
    "    ~df_stocks[\"timestamp\"].isin(start_day_index), \"volume\"\n",
    "].apply(lambda x: np.nan if x < 0 else x)"
   ]
  },
  {
   "cell_type": "code",
   "execution_count": 114,
   "metadata": {},
   "outputs": [
    {
     "data": {
      "text/html": [
       "<div>\n",
       "<style scoped>\n",
       "    .dataframe tbody tr th:only-of-type {\n",
       "        vertical-align: middle;\n",
       "    }\n",
       "\n",
       "    .dataframe tbody tr th {\n",
       "        vertical-align: top;\n",
       "    }\n",
       "\n",
       "    .dataframe thead th {\n",
       "        text-align: right;\n",
       "    }\n",
       "</style>\n",
       "<table border=\"1\" class=\"dataframe\">\n",
       "  <thead>\n",
       "    <tr style=\"text-align: right;\">\n",
       "      <th></th>\n",
       "      <th>index</th>\n",
       "      <th>symbol</th>\n",
       "      <th>last</th>\n",
       "      <th>volume</th>\n",
       "    </tr>\n",
       "    <tr>\n",
       "      <th>timestamp</th>\n",
       "      <th></th>\n",
       "      <th></th>\n",
       "      <th></th>\n",
       "      <th></th>\n",
       "    </tr>\n",
       "  </thead>\n",
       "  <tbody>\n",
       "    <tr>\n",
       "      <th>2020-04-07 09:02:01</th>\n",
       "      <td>509223</td>\n",
       "      <td>1rPCDA</td>\n",
       "      <td>16.12</td>\n",
       "      <td>876.0</td>\n",
       "    </tr>\n",
       "    <tr>\n",
       "      <th>2020-04-07 10:02:01</th>\n",
       "      <td>510960</td>\n",
       "      <td>1rPCDA</td>\n",
       "      <td>16.36</td>\n",
       "      <td>2108.0</td>\n",
       "    </tr>\n",
       "    <tr>\n",
       "      <th>2020-04-07 11:02:01</th>\n",
       "      <td>514784</td>\n",
       "      <td>1rPCDA</td>\n",
       "      <td>16.40</td>\n",
       "      <td>4414.0</td>\n",
       "    </tr>\n",
       "    <tr>\n",
       "      <th>2020-04-07 12:02:02</th>\n",
       "      <td>518608</td>\n",
       "      <td>1rPCDA</td>\n",
       "      <td>16.60</td>\n",
       "      <td>NaN</td>\n",
       "    </tr>\n",
       "    <tr>\n",
       "      <th>2020-04-07 13:02:02</th>\n",
       "      <td>522429</td>\n",
       "      <td>1rPCDA</td>\n",
       "      <td>16.72</td>\n",
       "      <td>NaN</td>\n",
       "    </tr>\n",
       "    <tr>\n",
       "      <th>2020-04-07 14:02:02</th>\n",
       "      <td>526250</td>\n",
       "      <td>1rPCDA</td>\n",
       "      <td>16.94</td>\n",
       "      <td>NaN</td>\n",
       "    </tr>\n",
       "    <tr>\n",
       "      <th>2020-04-07 15:02:01</th>\n",
       "      <td>530072</td>\n",
       "      <td>1rPCDA</td>\n",
       "      <td>16.68</td>\n",
       "      <td>NaN</td>\n",
       "    </tr>\n",
       "    <tr>\n",
       "      <th>2020-04-07 16:02:01</th>\n",
       "      <td>533894</td>\n",
       "      <td>1rPCDA</td>\n",
       "      <td>16.74</td>\n",
       "      <td>NaN</td>\n",
       "    </tr>\n",
       "    <tr>\n",
       "      <th>2020-04-07 17:02:02</th>\n",
       "      <td>537716</td>\n",
       "      <td>1rPCDA</td>\n",
       "      <td>16.88</td>\n",
       "      <td>NaN</td>\n",
       "    </tr>\n",
       "  </tbody>\n",
       "</table>\n",
       "</div>"
      ],
      "text/plain": [
       "                      index  symbol   last  volume\n",
       "timestamp                                         \n",
       "2020-04-07 09:02:01  509223  1rPCDA  16.12   876.0\n",
       "2020-04-07 10:02:01  510960  1rPCDA  16.36  2108.0\n",
       "2020-04-07 11:02:01  514784  1rPCDA  16.40  4414.0\n",
       "2020-04-07 12:02:02  518608  1rPCDA  16.60     NaN\n",
       "2020-04-07 13:02:02  522429  1rPCDA  16.72     NaN\n",
       "2020-04-07 14:02:02  526250  1rPCDA  16.94     NaN\n",
       "2020-04-07 15:02:01  530072  1rPCDA  16.68     NaN\n",
       "2020-04-07 16:02:01  533894  1rPCDA  16.74     NaN\n",
       "2020-04-07 17:02:02  537716  1rPCDA  16.88     NaN"
      ]
     },
     "execution_count": 114,
     "metadata": {},
     "output_type": "execute_result"
    }
   ],
   "source": [
    "df_stocks.set_index(\"timestamp\", inplace=True)\n",
    "d = df_stocks.loc[\"2020-04-07\"]\n",
    "d[d[\"symbol\"] == \"1rPCDA\"]"
   ]
  },
  {
   "cell_type": "markdown",
   "metadata": {},
   "source": [
    "## Doublons "
   ]
  },
  {
   "cell_type": "code",
   "execution_count": 115,
   "metadata": {},
   "outputs": [],
   "source": [
    "df_stocks.reset_index(inplace=True)"
   ]
  },
  {
   "cell_type": "code",
   "execution_count": 116,
   "metadata": {},
   "outputs": [],
   "source": [
    "df_stocks_sliced_by_time = df_stocks.groupby([\"symbol\", pd.Grouper(key=\"timestamp\", freq=\"1T\")]).mean().reset_index()"
   ]
  },
  {
   "cell_type": "code",
   "execution_count": 117,
   "metadata": {},
   "outputs": [],
   "source": [
    "df_stocks_sliced_by_time[\"volume\"] = df_stocks_sliced_by_time[\"volume\"].ffill()"
   ]
  },
  {
   "cell_type": "code",
   "execution_count": 120,
   "metadata": {},
   "outputs": [
    {
     "data": {
      "text/html": [
       "<div>\n",
       "<style scoped>\n",
       "    .dataframe tbody tr th:only-of-type {\n",
       "        vertical-align: middle;\n",
       "    }\n",
       "\n",
       "    .dataframe tbody tr th {\n",
       "        vertical-align: top;\n",
       "    }\n",
       "\n",
       "    .dataframe thead th {\n",
       "        text-align: right;\n",
       "    }\n",
       "</style>\n",
       "<table border=\"1\" class=\"dataframe\">\n",
       "  <thead>\n",
       "    <tr style=\"text-align: right;\">\n",
       "      <th></th>\n",
       "      <th>symbol</th>\n",
       "      <th>index</th>\n",
       "      <th>last</th>\n",
       "      <th>volume</th>\n",
       "    </tr>\n",
       "    <tr>\n",
       "      <th>timestamp</th>\n",
       "      <th></th>\n",
       "      <th></th>\n",
       "      <th></th>\n",
       "      <th></th>\n",
       "    </tr>\n",
       "  </thead>\n",
       "  <tbody>\n",
       "    <tr>\n",
       "      <th>2020-04-07 09:02:00</th>\n",
       "      <td>1rPCDA</td>\n",
       "      <td>509223.0</td>\n",
       "      <td>16.12</td>\n",
       "      <td>876.0</td>\n",
       "    </tr>\n",
       "    <tr>\n",
       "      <th>2020-04-07 10:02:00</th>\n",
       "      <td>1rPCDA</td>\n",
       "      <td>510960.0</td>\n",
       "      <td>16.36</td>\n",
       "      <td>2108.0</td>\n",
       "    </tr>\n",
       "    <tr>\n",
       "      <th>2020-04-07 11:02:00</th>\n",
       "      <td>1rPCDA</td>\n",
       "      <td>514784.0</td>\n",
       "      <td>16.40</td>\n",
       "      <td>4414.0</td>\n",
       "    </tr>\n",
       "    <tr>\n",
       "      <th>2020-04-07 12:02:00</th>\n",
       "      <td>1rPCDA</td>\n",
       "      <td>518608.0</td>\n",
       "      <td>16.60</td>\n",
       "      <td>4414.0</td>\n",
       "    </tr>\n",
       "    <tr>\n",
       "      <th>2020-04-07 13:02:00</th>\n",
       "      <td>1rPCDA</td>\n",
       "      <td>522429.0</td>\n",
       "      <td>16.72</td>\n",
       "      <td>4414.0</td>\n",
       "    </tr>\n",
       "    <tr>\n",
       "      <th>2020-04-07 14:02:00</th>\n",
       "      <td>1rPCDA</td>\n",
       "      <td>526250.0</td>\n",
       "      <td>16.94</td>\n",
       "      <td>4414.0</td>\n",
       "    </tr>\n",
       "    <tr>\n",
       "      <th>2020-04-07 15:02:00</th>\n",
       "      <td>1rPCDA</td>\n",
       "      <td>530072.0</td>\n",
       "      <td>16.68</td>\n",
       "      <td>4414.0</td>\n",
       "    </tr>\n",
       "    <tr>\n",
       "      <th>2020-04-07 16:02:00</th>\n",
       "      <td>1rPCDA</td>\n",
       "      <td>533894.0</td>\n",
       "      <td>16.74</td>\n",
       "      <td>4414.0</td>\n",
       "    </tr>\n",
       "    <tr>\n",
       "      <th>2020-04-07 17:02:00</th>\n",
       "      <td>1rPCDA</td>\n",
       "      <td>537716.0</td>\n",
       "      <td>16.88</td>\n",
       "      <td>4414.0</td>\n",
       "    </tr>\n",
       "  </tbody>\n",
       "</table>\n",
       "</div>"
      ],
      "text/plain": [
       "                     symbol     index   last  volume\n",
       "timestamp                                           \n",
       "2020-04-07 09:02:00  1rPCDA  509223.0  16.12   876.0\n",
       "2020-04-07 10:02:00  1rPCDA  510960.0  16.36  2108.0\n",
       "2020-04-07 11:02:00  1rPCDA  514784.0  16.40  4414.0\n",
       "2020-04-07 12:02:00  1rPCDA  518608.0  16.60  4414.0\n",
       "2020-04-07 13:02:00  1rPCDA  522429.0  16.72  4414.0\n",
       "2020-04-07 14:02:00  1rPCDA  526250.0  16.94  4414.0\n",
       "2020-04-07 15:02:00  1rPCDA  530072.0  16.68  4414.0\n",
       "2020-04-07 16:02:00  1rPCDA  533894.0  16.74  4414.0\n",
       "2020-04-07 17:02:00  1rPCDA  537716.0  16.88  4414.0"
      ]
     },
     "execution_count": 120,
     "metadata": {},
     "output_type": "execute_result"
    }
   ],
   "source": [
    "df_stocks_sliced_by_time.reset_index(inplace=True)\n",
    "df_stocks_sliced_by_time.set_index(\"timestamp\", inplace=True)\n",
    "d = df_stocks_sliced_by_time.loc[\"2020-04-07\"]\n",
    "d[d[\"symbol\"] == \"1rPCDA\"]"
   ]
  },
  {
   "cell_type": "code",
   "execution_count": 121,
   "metadata": {},
   "outputs": [
    {
     "data": {
      "text/plain": [
       "0"
      ]
     },
     "execution_count": 121,
     "metadata": {},
     "output_type": "execute_result"
    }
   ],
   "source": [
    "len(df_stocks_sliced_by_time[df_stocks_sliced_by_time['volume'] < 0])"
   ]
  },
  {
   "cell_type": "markdown",
   "metadata": {},
   "source": [
    "## Write To Database"
   ]
  },
  {
   "cell_type": "code",
   "execution_count": 174,
   "metadata": {},
   "outputs": [],
   "source": [
    "dict_companies = {v: k for k, v in dict(db.raw_query(\"SELECT id, symbol FROM companies\")).items()}"
   ]
  },
  {
   "cell_type": "code",
   "execution_count": 176,
   "metadata": {},
   "outputs": [],
   "source": [
    "df_stocks_sliced_by_time[\"cid\"] = df_stocks_sliced_by_time[\"symbol\"].apply(lambda x: dict_companies.get(x, None))"
   ]
  },
  {
   "cell_type": "code",
   "execution_count": 178,
   "metadata": {},
   "outputs": [],
   "source": [
    "df_stocks_sliced_by_time.rename(columns={\"timestamp\": \"date\", \"last\":\"value\"}, inplace=True)"
   ]
  },
  {
   "cell_type": "code",
   "execution_count": 180,
   "metadata": {},
   "outputs": [],
   "source": [
    "df_stocks_sliced_by_time = df_stocks_sliced_by_time[[\"date\", \"cid\", \"value\", \"volume\"]]"
   ]
  },
  {
   "cell_type": "code",
   "execution_count": 182,
   "metadata": {},
   "outputs": [],
   "source": [
    "df_stocks_sliced_by_time.set_index(\"date\", inplace=True)"
   ]
  },
  {
   "cell_type": "code",
   "execution_count": 185,
   "metadata": {},
   "outputs": [],
   "source": [
    "db.df_write(df_stocks_sliced_by_time, \"stocks\")"
   ]
  },
  {
   "cell_type": "markdown",
   "metadata": {},
   "source": [
    "# Days Stocks"
   ]
  },
  {
   "cell_type": "code",
   "execution_count": 203,
   "metadata": {},
   "outputs": [
    {
     "data": {
      "text/plain": [
       "[]"
      ]
     },
     "execution_count": 203,
     "metadata": {},
     "output_type": "execute_result"
    }
   ],
   "source": [
    "db.raw_query(\"SELECT id, symbol FROM companies\")"
   ]
  },
  {
   "cell_type": "code",
   "execution_count": 194,
   "metadata": {},
   "outputs": [
    {
     "ename": "InterfaceError",
     "evalue": "connection already closed",
     "output_type": "error",
     "traceback": [
      "\u001b[0;31m---------------------------------------------------------------------------\u001b[0m",
      "\u001b[0;31mInterfaceError\u001b[0m                            Traceback (most recent call last)",
      "Cell \u001b[0;32mIn[194], line 1\u001b[0m\n\u001b[0;32m----> 1\u001b[0m \u001b[43mdb\u001b[49m\u001b[38;5;241;43m.\u001b[39;49m\u001b[43mraw_query\u001b[49m\u001b[43m(\u001b[49m\u001b[38;5;124;43m\"\"\"\u001b[39;49m\u001b[38;5;124;43mSELECT\u001b[39;49m\n\u001b[1;32m      2\u001b[0m \u001b[38;5;124;43m  DATE(date) AS date,\u001b[39;49m\n\u001b[1;32m      3\u001b[0m \u001b[38;5;124;43m  cid,\u001b[39;49m\n\u001b[1;32m      4\u001b[0m \u001b[38;5;124;43m  FIRST(value, date) AS open,\u001b[39;49m\n\u001b[1;32m      5\u001b[0m \u001b[38;5;124;43m  LAST(value, date) AS close,\u001b[39;49m\n\u001b[1;32m      6\u001b[0m \u001b[38;5;124;43m  MAX(value) AS high,\u001b[39;49m\n\u001b[1;32m      7\u001b[0m \u001b[38;5;124;43m  MIN(value) AS low,\u001b[39;49m\n\u001b[1;32m      8\u001b[0m \u001b[38;5;124;43m  LAST(volume, date) AS volume\u001b[39;49m\n\u001b[1;32m      9\u001b[0m \u001b[38;5;124;43mFROM\u001b[39;49m\n\u001b[1;32m     10\u001b[0m \u001b[38;5;124;43m stocks\u001b[39;49m\n\u001b[1;32m     11\u001b[0m \u001b[38;5;124;43mGROUP BY\u001b[39;49m\n\u001b[1;32m     12\u001b[0m \u001b[38;5;124;43m  cid,\u001b[39;49m\n\u001b[1;32m     13\u001b[0m \u001b[38;5;124;43m  DATE(date)\u001b[39;49m\n\u001b[1;32m     14\u001b[0m \u001b[38;5;124;43mORDER BY\u001b[39;49m\n\u001b[1;32m     15\u001b[0m \u001b[38;5;124;43m  DATE(date) DESC\u001b[39;49m\n\u001b[1;32m     16\u001b[0m \u001b[38;5;124;43mLIMIT 10\u001b[39;49m\n\u001b[1;32m     17\u001b[0m \u001b[38;5;124;43m\"\"\"\u001b[39;49m\u001b[43m)\u001b[49m\n",
      "File \u001b[0;32m~/Epita/SCIA/BIG_DATA/bourse/analyzer/timescaledb_model.py:361\u001b[0m, in \u001b[0;36mTimescaleStockMarketModel.raw_query\u001b[0;34m(self, query, args, cursor)\u001b[0m\n\u001b[1;32m    359\u001b[0m \u001b[38;5;28mself\u001b[39m\u001b[38;5;241m.\u001b[39mlogger\u001b[38;5;241m.\u001b[39mdebug(\u001b[38;5;124m'\u001b[39m\u001b[38;5;124mSQL: QUERY: \u001b[39m\u001b[38;5;132;01m%s\u001b[39;00m\u001b[38;5;124m'\u001b[39m \u001b[38;5;241m%\u001b[39m pretty)\n\u001b[1;32m    360\u001b[0m \u001b[38;5;28;01mif\u001b[39;00m cursor \u001b[38;5;129;01mis\u001b[39;00m \u001b[38;5;28;01mNone\u001b[39;00m:\n\u001b[0;32m--> 361\u001b[0m     cursor \u001b[38;5;241m=\u001b[39m \u001b[38;5;28;43mself\u001b[39;49m\u001b[38;5;241;43m.\u001b[39;49m\u001b[43m__connection\u001b[49m\u001b[38;5;241;43m.\u001b[39;49m\u001b[43mcursor\u001b[49m\u001b[43m(\u001b[49m\u001b[43m)\u001b[49m\n\u001b[1;32m    362\u001b[0m cursor\u001b[38;5;241m.\u001b[39mexecute(query, args)\n\u001b[1;32m    363\u001b[0m \u001b[38;5;28;01mreturn\u001b[39;00m cursor\u001b[38;5;241m.\u001b[39mfetchall()\n",
      "\u001b[0;31mInterfaceError\u001b[0m: connection already closed"
     ]
    }
   ],
   "source": [
    "db.raw_query(\"\"\"SELECT\n",
    "  DATE(date) AS date,\n",
    "  cid,\n",
    "  FIRST(value, date) AS open,\n",
    "  LAST(value, date) AS close,\n",
    "  MAX(value) AS high,\n",
    "  MIN(value) AS low,\n",
    "  LAST(volume, date) AS volume\n",
    "FROM\n",
    " stocks\n",
    "GROUP BY\n",
    "  cid,\n",
    "  DATE(date)\n",
    "ORDER BY\n",
    "  DATE(date) DESC\n",
    "LIMIT 10\n",
    "\"\"\")"
   ]
  }
 ],
 "metadata": {
  "kernelspec": {
   "display_name": "big_data_bourse",
   "language": "python",
   "name": "python3"
  },
  "language_info": {
   "codemirror_mode": {
    "name": "ipython",
    "version": 3
   },
   "file_extension": ".py",
   "mimetype": "text/x-python",
   "name": "python",
   "nbconvert_exporter": "python",
   "pygments_lexer": "ipython3",
   "version": "3.10.12"
  }
 },
 "nbformat": 4,
 "nbformat_minor": 2
}
