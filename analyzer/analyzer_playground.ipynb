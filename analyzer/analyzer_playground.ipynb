{
 "cells": [
  {
   "cell_type": "code",
   "execution_count": 1,
   "metadata": {},
   "outputs": [],
   "source": [
    "%load_ext autoreload\n",
    "%autoreload 2"
   ]
  },
  {
   "cell_type": "code",
   "execution_count": 2,
   "metadata": {},
   "outputs": [],
   "source": [
    "import pandas as pd\n",
    "import numpy as np\n",
    "import timescaledb_model as tsdb\n",
    "from utils import get_files_infos_df, read_file, get_files_infos_windows_df\n",
    "from tqdm import tqdm \n",
    "from utils import multi_read_df_from_paths\n",
    "from analyze import dfs_to_stocks\n",
    "from constant import DATA_PATH, IS_DOCKER\n",
    "from concurrent.futures import ThreadPoolExecutor\n",
    "import os"
   ]
  },
  {
   "cell_type": "code",
   "execution_count": 3,
   "metadata": {},
   "outputs": [],
   "source": [
    "files_infos_df = get_files_infos_df()\n",
    "# files_infos_df = get_files_infos_windows_df(files_info_path) #for windows"
   ]
  },
  {
   "cell_type": "code",
   "execution_count": 4,
   "metadata": {},
   "outputs": [
    {
     "data": {
      "text/html": [
       "<div>\n",
       "<style scoped>\n",
       "    .dataframe tbody tr th:only-of-type {\n",
       "        vertical-align: middle;\n",
       "    }\n",
       "\n",
       "    .dataframe tbody tr th {\n",
       "        vertical-align: top;\n",
       "    }\n",
       "\n",
       "    .dataframe thead th {\n",
       "        text-align: right;\n",
       "    }\n",
       "</style>\n",
       "<table border=\"1\" class=\"dataframe\">\n",
       "  <thead>\n",
       "    <tr style=\"text-align: right;\">\n",
       "      <th></th>\n",
       "      <th>market</th>\n",
       "      <th>path</th>\n",
       "      <th>year</th>\n",
       "      <th>year_month</th>\n",
       "      <th>date</th>\n",
       "      <th>name</th>\n",
       "    </tr>\n",
       "    <tr>\n",
       "      <th>timestamp</th>\n",
       "      <th></th>\n",
       "      <th></th>\n",
       "      <th></th>\n",
       "      <th></th>\n",
       "      <th></th>\n",
       "      <th></th>\n",
       "    </tr>\n",
       "  </thead>\n",
       "  <tbody>\n",
       "    <tr>\n",
       "      <th>2019-01-01 09:05:02</th>\n",
       "      <td>amsterdam</td>\n",
       "      <td>../data/boursorama/2019/amsterdam 2019-01-01 0...</td>\n",
       "      <td>2019</td>\n",
       "      <td>2019-01</td>\n",
       "      <td>2019-01-01</td>\n",
       "      <td>amsterdam 2019-01-01 09:05:02.607291.bz2</td>\n",
       "    </tr>\n",
       "    <tr>\n",
       "      <th>2019-01-01 09:05:02</th>\n",
       "      <td>compB</td>\n",
       "      <td>../data/boursorama/2019/compB 2019-01-01 09:05...</td>\n",
       "      <td>2019</td>\n",
       "      <td>2019-01</td>\n",
       "      <td>2019-01-01</td>\n",
       "      <td>compB 2019-01-01 09:05:02.607291.bz2</td>\n",
       "    </tr>\n",
       "    <tr>\n",
       "      <th>2019-01-01 09:05:02</th>\n",
       "      <td>compA</td>\n",
       "      <td>../data/boursorama/2019/compA 2019-01-01 09:05...</td>\n",
       "      <td>2019</td>\n",
       "      <td>2019-01</td>\n",
       "      <td>2019-01-01</td>\n",
       "      <td>compA 2019-01-01 09:05:02.607291.bz2</td>\n",
       "    </tr>\n",
       "    <tr>\n",
       "      <th>2019-01-01 09:15:02</th>\n",
       "      <td>compB</td>\n",
       "      <td>../data/boursorama/2019/compB 2019-01-01 09:15...</td>\n",
       "      <td>2019</td>\n",
       "      <td>2019-01</td>\n",
       "      <td>2019-01-01</td>\n",
       "      <td>compB 2019-01-01 09:15:02.868405.bz2</td>\n",
       "    </tr>\n",
       "    <tr>\n",
       "      <th>2019-01-01 09:15:02</th>\n",
       "      <td>compA</td>\n",
       "      <td>../data/boursorama/2019/compA 2019-01-01 09:15...</td>\n",
       "      <td>2019</td>\n",
       "      <td>2019-01</td>\n",
       "      <td>2019-01-01</td>\n",
       "      <td>compA 2019-01-01 09:15:02.868405.bz2</td>\n",
       "    </tr>\n",
       "    <tr>\n",
       "      <th>...</th>\n",
       "      <td>...</td>\n",
       "      <td>...</td>\n",
       "      <td>...</td>\n",
       "      <td>...</td>\n",
       "      <td>...</td>\n",
       "      <td>...</td>\n",
       "    </tr>\n",
       "    <tr>\n",
       "      <th>2023-12-29 17:42:02</th>\n",
       "      <td>compB</td>\n",
       "      <td>../data/boursorama/2023/compB 2023-12-29 17:42...</td>\n",
       "      <td>2023</td>\n",
       "      <td>2023-12</td>\n",
       "      <td>2023-12-29</td>\n",
       "      <td>compB 2023-12-29 17:42:02.037652.bz2</td>\n",
       "    </tr>\n",
       "    <tr>\n",
       "      <th>2023-12-29 17:52:01</th>\n",
       "      <td>compA</td>\n",
       "      <td>../data/boursorama/2023/compA 2023-12-29 17:52...</td>\n",
       "      <td>2023</td>\n",
       "      <td>2023-12</td>\n",
       "      <td>2023-12-29</td>\n",
       "      <td>compA 2023-12-29 17:52:01.887807.bz2</td>\n",
       "    </tr>\n",
       "    <tr>\n",
       "      <th>2023-12-29 17:52:01</th>\n",
       "      <td>peapme</td>\n",
       "      <td>../data/boursorama/2023/peapme 2023-12-29 17:5...</td>\n",
       "      <td>2023</td>\n",
       "      <td>2023-12</td>\n",
       "      <td>2023-12-29</td>\n",
       "      <td>peapme 2023-12-29 17:52:01.887807.bz2</td>\n",
       "    </tr>\n",
       "    <tr>\n",
       "      <th>2023-12-29 17:52:01</th>\n",
       "      <td>amsterdam</td>\n",
       "      <td>../data/boursorama/2023/amsterdam 2023-12-29 1...</td>\n",
       "      <td>2023</td>\n",
       "      <td>2023-12</td>\n",
       "      <td>2023-12-29</td>\n",
       "      <td>amsterdam 2023-12-29 17:52:01.887807.bz2</td>\n",
       "    </tr>\n",
       "    <tr>\n",
       "      <th>2023-12-29 17:52:01</th>\n",
       "      <td>compB</td>\n",
       "      <td>../data/boursorama/2023/compB 2023-12-29 17:52...</td>\n",
       "      <td>2023</td>\n",
       "      <td>2023-12</td>\n",
       "      <td>2023-12-29</td>\n",
       "      <td>compB 2023-12-29 17:52:01.887807.bz2</td>\n",
       "    </tr>\n",
       "  </tbody>\n",
       "</table>\n",
       "<p>271325 rows × 6 columns</p>\n",
       "</div>"
      ],
      "text/plain": [
       "                        market  \\\n",
       "timestamp                        \n",
       "2019-01-01 09:05:02  amsterdam   \n",
       "2019-01-01 09:05:02      compB   \n",
       "2019-01-01 09:05:02      compA   \n",
       "2019-01-01 09:15:02      compB   \n",
       "2019-01-01 09:15:02      compA   \n",
       "...                        ...   \n",
       "2023-12-29 17:42:02      compB   \n",
       "2023-12-29 17:52:01      compA   \n",
       "2023-12-29 17:52:01     peapme   \n",
       "2023-12-29 17:52:01  amsterdam   \n",
       "2023-12-29 17:52:01      compB   \n",
       "\n",
       "                                                                  path  year  \\\n",
       "timestamp                                                                      \n",
       "2019-01-01 09:05:02  ../data/boursorama/2019/amsterdam 2019-01-01 0...  2019   \n",
       "2019-01-01 09:05:02  ../data/boursorama/2019/compB 2019-01-01 09:05...  2019   \n",
       "2019-01-01 09:05:02  ../data/boursorama/2019/compA 2019-01-01 09:05...  2019   \n",
       "2019-01-01 09:15:02  ../data/boursorama/2019/compB 2019-01-01 09:15...  2019   \n",
       "2019-01-01 09:15:02  ../data/boursorama/2019/compA 2019-01-01 09:15...  2019   \n",
       "...                                                                ...   ...   \n",
       "2023-12-29 17:42:02  ../data/boursorama/2023/compB 2023-12-29 17:42...  2023   \n",
       "2023-12-29 17:52:01  ../data/boursorama/2023/compA 2023-12-29 17:52...  2023   \n",
       "2023-12-29 17:52:01  ../data/boursorama/2023/peapme 2023-12-29 17:5...  2023   \n",
       "2023-12-29 17:52:01  ../data/boursorama/2023/amsterdam 2023-12-29 1...  2023   \n",
       "2023-12-29 17:52:01  ../data/boursorama/2023/compB 2023-12-29 17:52...  2023   \n",
       "\n",
       "                    year_month        date  \\\n",
       "timestamp                                    \n",
       "2019-01-01 09:05:02    2019-01  2019-01-01   \n",
       "2019-01-01 09:05:02    2019-01  2019-01-01   \n",
       "2019-01-01 09:05:02    2019-01  2019-01-01   \n",
       "2019-01-01 09:15:02    2019-01  2019-01-01   \n",
       "2019-01-01 09:15:02    2019-01  2019-01-01   \n",
       "...                        ...         ...   \n",
       "2023-12-29 17:42:02    2023-12  2023-12-29   \n",
       "2023-12-29 17:52:01    2023-12  2023-12-29   \n",
       "2023-12-29 17:52:01    2023-12  2023-12-29   \n",
       "2023-12-29 17:52:01    2023-12  2023-12-29   \n",
       "2023-12-29 17:52:01    2023-12  2023-12-29   \n",
       "\n",
       "                                                         name  \n",
       "timestamp                                                      \n",
       "2019-01-01 09:05:02  amsterdam 2019-01-01 09:05:02.607291.bz2  \n",
       "2019-01-01 09:05:02      compB 2019-01-01 09:05:02.607291.bz2  \n",
       "2019-01-01 09:05:02      compA 2019-01-01 09:05:02.607291.bz2  \n",
       "2019-01-01 09:15:02      compB 2019-01-01 09:15:02.868405.bz2  \n",
       "2019-01-01 09:15:02      compA 2019-01-01 09:15:02.868405.bz2  \n",
       "...                                                       ...  \n",
       "2023-12-29 17:42:02      compB 2023-12-29 17:42:02.037652.bz2  \n",
       "2023-12-29 17:52:01      compA 2023-12-29 17:52:01.887807.bz2  \n",
       "2023-12-29 17:52:01     peapme 2023-12-29 17:52:01.887807.bz2  \n",
       "2023-12-29 17:52:01  amsterdam 2023-12-29 17:52:01.887807.bz2  \n",
       "2023-12-29 17:52:01      compB 2023-12-29 17:52:01.887807.bz2  \n",
       "\n",
       "[271325 rows x 6 columns]"
      ]
     },
     "execution_count": 4,
     "metadata": {},
     "output_type": "execute_result"
    }
   ],
   "source": [
    "files_infos_df"
   ]
  },
  {
   "cell_type": "code",
   "execution_count": 5,
   "metadata": {},
   "outputs": [
    {
     "name": "stderr",
     "output_type": "stream",
     "text": [
      "/var/folders/lb/9z4xr9hd1013w3_cbsw1p6600000gn/T/ipykernel_35780/2876105170.py:2: DeprecationWarning: DataFrameGroupBy.apply operated on the grouping columns. This behavior is deprecated, and in a future version of pandas the grouping columns will be excluded from the operation. Either pass `include_groups=False` to exclude the groupings or explicitly select the grouping columns after groupby to silence this warning.\n",
      "  dates_to_take = files_infos_df.groupby([files_infos_df[\"year_month\"]]).apply(lambda x :x.sample(n=1)).reset_index(drop=True)[\"date\"]\n",
      "/var/folders/lb/9z4xr9hd1013w3_cbsw1p6600000gn/T/ipykernel_35780/2876105170.py:4: SettingWithCopyWarning: \n",
      "A value is trying to be set on a copy of a slice from a DataFrame.\n",
      "Try using .loc[row_indexer,col_indexer] = value instead\n",
      "\n",
      "See the caveats in the documentation: https://pandas.pydata.org/pandas-docs/stable/user_guide/indexing.html#returning-a-view-versus-a-copy\n",
      "  file_infos_df_filtered[\"hour\"] = file_infos_df_filtered.index.hour\n"
     ]
    }
   ],
   "source": [
    "np.random.seed(10)\n",
    "dates_to_take = files_infos_df.groupby([files_infos_df[\"year_month\"]]).apply(lambda x :x.sample(n=1)).reset_index(drop=True)[\"date\"]\n",
    "file_infos_df_filtered = files_infos_df[files_infos_df[\"date\"].isin(dates_to_take)]\n",
    "file_infos_df_filtered[\"hour\"] = file_infos_df_filtered.index.hour\n",
    "file_infos_df_filtered = file_infos_df_filtered.groupby([file_infos_df_filtered[\"date\"], file_infos_df_filtered[\"hour\"], file_infos_df_filtered[\"market\"]]).first().reset_index()"
   ]
  },
  {
   "cell_type": "code",
   "execution_count": 6,
   "metadata": {},
   "outputs": [],
   "source": [
    "file_infos_df_companies_filtered = files_infos_df.groupby([\"market\", \"date\"]).first()\n",
    "file_infos_df_companies_filtered = file_infos_df_companies_filtered.reset_index()"
   ]
  },
  {
   "cell_type": "markdown",
   "metadata": {},
   "source": [
    "## DB"
   ]
  },
  {
   "cell_type": "code",
   "execution_count": 21,
   "metadata": {},
   "outputs": [
    {
     "name": "stdout",
     "output_type": "stream",
     "text": [
      "Logs of timescaledb_model go to ../data/bourse.log\n",
      "Connection attempt failed: connection to server at \"localhost\" (::1), port 5432 failed: FATAL:  the database system is not yet accepting connections\n",
      "DETAIL:  Consistent recovery state has not been yet reached.\n",
      "\n",
      "Connection attempt failed: connection to server at \"localhost\" (::1), port 5432 failed: FATAL:  the database system is not yet accepting connections\n",
      "DETAIL:  Consistent recovery state has not been yet reached.\n",
      "\n",
      "Connection attempt failed: connection to server at \"localhost\" (::1), port 5432 failed: FATAL:  the database system is not yet accepting connections\n",
      "DETAIL:  Consistent recovery state has not been yet reached.\n",
      "\n",
      "Connection attempt failed: connection to server at \"localhost\" (::1), port 5432 failed: FATAL:  the database system is not yet accepting connections\n",
      "DETAIL:  Consistent recovery state has not been yet reached.\n",
      "\n",
      "Connection attempt failed: connection to server at \"localhost\" (::1), port 5432 failed: FATAL:  the database system is not yet accepting connections\n",
      "DETAIL:  Consistent recovery state has not been yet reached.\n",
      "\n"
     ]
    },
    {
     "ename": "Exception",
     "evalue": "Failed to connect to database after multiple attempts",
     "output_type": "error",
     "traceback": [
      "\u001b[0;31m---------------------------------------------------------------------------\u001b[0m",
      "\u001b[0;31mException\u001b[0m                                 Traceback (most recent call last)",
      "Cell \u001b[0;32mIn[21], line 5\u001b[0m\n\u001b[1;32m      1\u001b[0m \u001b[38;5;28;01mimport\u001b[39;00m \u001b[38;5;21;01mtimescaledb_model\u001b[39;00m \u001b[38;5;28;01mas\u001b[39;00m \u001b[38;5;21;01mtsdb\u001b[39;00m\n\u001b[1;32m      2\u001b[0m db \u001b[38;5;241m=\u001b[39m (\n\u001b[1;32m      3\u001b[0m     tsdb\u001b[38;5;241m.\u001b[39mTimescaleStockMarketModel(\u001b[38;5;124m\"\u001b[39m\u001b[38;5;124mbourse\u001b[39m\u001b[38;5;124m\"\u001b[39m, \u001b[38;5;124m\"\u001b[39m\u001b[38;5;124mricou\u001b[39m\u001b[38;5;124m\"\u001b[39m, \u001b[38;5;124m\"\u001b[39m\u001b[38;5;124mdb\u001b[39m\u001b[38;5;124m\"\u001b[39m, \u001b[38;5;124m\"\u001b[39m\u001b[38;5;124mmonmdp\u001b[39m\u001b[38;5;124m\"\u001b[39m, setup\u001b[38;5;241m=\u001b[39m\u001b[38;5;28;01mFalse\u001b[39;00m)\n\u001b[1;32m      4\u001b[0m     \u001b[38;5;28;01mif\u001b[39;00m IS_DOCKER\n\u001b[0;32m----> 5\u001b[0m     \u001b[38;5;28;01melse\u001b[39;00m \u001b[43mtsdb\u001b[49m\u001b[38;5;241;43m.\u001b[39;49m\u001b[43mTimescaleStockMarketModel\u001b[49m\u001b[43m(\u001b[49m\u001b[38;5;124;43m\"\u001b[39;49m\u001b[38;5;124;43mbourse\u001b[39;49m\u001b[38;5;124;43m\"\u001b[39;49m\u001b[43m,\u001b[49m\u001b[43m \u001b[49m\u001b[38;5;124;43m\"\u001b[39;49m\u001b[38;5;124;43mricou\u001b[39;49m\u001b[38;5;124;43m\"\u001b[39;49m\u001b[43m,\u001b[49m\u001b[43m \u001b[49m\u001b[38;5;124;43m\"\u001b[39;49m\u001b[38;5;124;43mlocalhost\u001b[39;49m\u001b[38;5;124;43m\"\u001b[39;49m\u001b[43m,\u001b[49m\u001b[43m \u001b[49m\u001b[38;5;124;43m\"\u001b[39;49m\u001b[38;5;124;43mmonmdp\u001b[39;49m\u001b[38;5;124;43m\"\u001b[39;49m\u001b[43m,\u001b[49m\u001b[43m \u001b[49m\u001b[43msetup\u001b[49m\u001b[38;5;241;43m=\u001b[39;49m\u001b[38;5;28;43;01mFalse\u001b[39;49;00m\u001b[43m)\u001b[49m\n\u001b[1;32m      6\u001b[0m )\n",
      "File \u001b[0;32m~/Epita/SCIA/BIG_DATA/bourse/analyzer/timescaledb_model.py:37\u001b[0m, in \u001b[0;36mTimescaleStockMarketModel.__init__\u001b[0;34m(self, database, user, host, password, port, setup)\u001b[0m\n\u001b[1;32m     34\u001b[0m \u001b[38;5;28mself\u001b[39m\u001b[38;5;241m.\u001b[39m__password \u001b[38;5;241m=\u001b[39m password \u001b[38;5;129;01mor\u001b[39;00m \u001b[38;5;124m'\u001b[39m\u001b[38;5;124m'\u001b[39m\n\u001b[1;32m     35\u001b[0m \u001b[38;5;28mself\u001b[39m\u001b[38;5;241m.\u001b[39m__squash \u001b[38;5;241m=\u001b[39m \u001b[38;5;28;01mFalse\u001b[39;00m\n\u001b[0;32m---> 37\u001b[0m \u001b[38;5;28mself\u001b[39m\u001b[38;5;241m.\u001b[39mconnection \u001b[38;5;241m=\u001b[39m \u001b[38;5;28;43mself\u001b[39;49m\u001b[38;5;241;43m.\u001b[39;49m\u001b[43mconnect_to_database\u001b[49m\u001b[43m(\u001b[49m\u001b[43m)\u001b[49m\n\u001b[1;32m     38\u001b[0m \u001b[38;5;28mself\u001b[39m\u001b[38;5;241m.\u001b[39m__connection \u001b[38;5;241m=\u001b[39m \u001b[38;5;28mself\u001b[39m\u001b[38;5;241m.\u001b[39mconnect_to_database() \n\u001b[1;32m     39\u001b[0m \u001b[38;5;28mself\u001b[39m\u001b[38;5;241m.\u001b[39m__engine \u001b[38;5;241m=\u001b[39m sqlalchemy\u001b[38;5;241m.\u001b[39mcreate_engine(\u001b[38;5;124mf\u001b[39m\u001b[38;5;124m'\u001b[39m\u001b[38;5;124mtimescaledb://\u001b[39m\u001b[38;5;132;01m{\u001b[39;00m\u001b[38;5;28mself\u001b[39m\u001b[38;5;241m.\u001b[39m__user\u001b[38;5;132;01m}\u001b[39;00m\u001b[38;5;124m:\u001b[39m\u001b[38;5;132;01m{\u001b[39;00m\u001b[38;5;28mself\u001b[39m\u001b[38;5;241m.\u001b[39m__password\u001b[38;5;132;01m}\u001b[39;00m\u001b[38;5;124m@\u001b[39m\u001b[38;5;132;01m{\u001b[39;00m\u001b[38;5;28mself\u001b[39m\u001b[38;5;241m.\u001b[39m__host\u001b[38;5;132;01m}\u001b[39;00m\u001b[38;5;124m:\u001b[39m\u001b[38;5;132;01m{\u001b[39;00m\u001b[38;5;28mself\u001b[39m\u001b[38;5;241m.\u001b[39m__port\u001b[38;5;132;01m}\u001b[39;00m\u001b[38;5;124m/\u001b[39m\u001b[38;5;132;01m{\u001b[39;00m\u001b[38;5;28mself\u001b[39m\u001b[38;5;241m.\u001b[39m__database\u001b[38;5;132;01m}\u001b[39;00m\u001b[38;5;124m'\u001b[39m)\n",
      "File \u001b[0;32m~/Epita/SCIA/BIG_DATA/bourse/analyzer/timescaledb_model.py:64\u001b[0m, in \u001b[0;36mTimescaleStockMarketModel.connect_to_database\u001b[0;34m(self, retry_limit, retry_delay)\u001b[0m\n\u001b[1;32m     62\u001b[0m         time\u001b[38;5;241m.\u001b[39msleep(retry_delay)\n\u001b[1;32m     63\u001b[0m         retry \u001b[38;5;241m-\u001b[39m\u001b[38;5;241m=\u001b[39m \u001b[38;5;241m1\u001b[39m\n\u001b[0;32m---> 64\u001b[0m \u001b[38;5;28;01mraise\u001b[39;00m \u001b[38;5;167;01mException\u001b[39;00m(\u001b[38;5;124m\"\u001b[39m\u001b[38;5;124mFailed to connect to database after multiple attempts\u001b[39m\u001b[38;5;124m\"\u001b[39m)\n",
      "\u001b[0;31mException\u001b[0m: Failed to connect to database after multiple attempts"
     ]
    }
   ],
   "source": [
    "import timescaledb_model as tsdb\n",
    "db = (\n",
    "    tsdb.TimescaleStockMarketModel(\"bourse\", \"ricou\", \"db\", \"monmdp\", setup=False)\n",
    "    if IS_DOCKER\n",
    "    else tsdb.TimescaleStockMarketModel(\"bourse\", \"ricou\", \"localhost\", \"monmdp\", setup=False)\n",
    ")"
   ]
  },
  {
   "cell_type": "markdown",
   "metadata": {},
   "source": [
    "# Utils"
   ]
  },
  {
   "cell_type": "code",
   "execution_count": 11,
   "metadata": {},
   "outputs": [],
   "source": [
    "import re\n",
    "\n",
    "def is_possible_ticker_with_number(symbol):\n",
    "    return bool(re.match(r'^[A-Z0-9\\-]{1,10}$', symbol))\n",
    "\n",
    "def detection_intrus(df: pd.DataFrame):\n",
    "    return df[(df[\"ticker\"].apply(is_possible_ticker_with_number) == False)]"
   ]
  },
  {
   "cell_type": "code",
   "execution_count": 12,
   "metadata": {},
   "outputs": [],
   "source": [
    "def get_prefix(df: pd.DataFrame, prefix_function = lambda x : x[0:3]) -> set:\n",
    "    return set(df[\"symbol\"].apply(prefix_function).unique())"
   ]
  },
  {
   "cell_type": "code",
   "execution_count": 13,
   "metadata": {},
   "outputs": [],
   "source": [
    "map_prefix_to_symbol_nf = {\n",
    "    \"1rP\": lambda x: x[3:].split(\"_\")[0] if len(x) != 15 else np.nan,  # EuroNext Pars\n",
    "    \"1rA\": lambda x: x[3:],  # EuroNext Amsterdam\n",
    "    \"1rE\": lambda x: x[4:],  # EuroNext Paris\n",
    "    \"FF1\": lambda x: x.split(\"_\")[1][0:],  # EuroNext Brussels\n",
    "}\n",
    "\n",
    "\n",
    "def update_ticker_column(\n",
    "    df: pd.DataFrame,\n",
    ") -> pd.DataFrame:\n",
    "    df[\"ticker\"] = df.apply(\n",
    "        lambda x: map_prefix_to_symbol_nf.get(x[\"prefix\"], lambda _: x[\"symbol\"])(\n",
    "            x[\"symbol\"]\n",
    "        ),\n",
    "        axis=1,\n",
    "    )\n",
    "    return df\n",
    "\n",
    "def update_mid_column(\n",
    "    df: pd.DataFrame,\n",
    "    prefix_to_market_id: dict,\n",
    "    default_mid: int,\n",
    ") -> pd.DataFrame:\n",
    "    df[\"mid\"] = df.apply(\n",
    "        lambda x: prefix_to_market_id.get(x[\"prefix\"],default_mid),\n",
    "        axis=1,\n",
    "    )\n",
    "    return df"
   ]
  },
  {
   "cell_type": "code",
   "execution_count": 14,
   "metadata": {},
   "outputs": [],
   "source": [
    "def dfs_to_companie(\n",
    "    dfs: list[pd.DataFrame], prefix_to_market_id: dict, default_mid: int, is_pea: bool = False\n",
    ") -> pd.DataFrame:\n",
    "    df_all_days = pd.concat(dfs)\n",
    "    df_all_days_grouped = (\n",
    "        df_all_days.reset_index(drop=True).groupby([\"symbol\", \"name\"]).last()\n",
    "    )\n",
    "    df_all_days_grouped[\"name\"] = df_all_days_grouped.index.get_level_values(1)\n",
    "    df_companies = df_all_days_grouped.groupby(\n",
    "        df_all_days_grouped.index.get_level_values(0)\n",
    "    ).last()\n",
    "    df_companies = df_companies.reset_index()[[\"symbol\", \"name\", \"timestamp\"]]\n",
    "    df_companies[\"prefix\"] = df_companies[\"symbol\"].apply(lambda x: x[0:3])\n",
    "    df_companies = update_ticker_column(df_companies)\n",
    "    df_companies = update_mid_column(df_companies, prefix_to_market_id, default_mid=default_mid)\n",
    "    df_companies = df_companies.drop(columns=[\"prefix\"])\n",
    "    df_companies[\"pea\"] = is_pea\n",
    "    return df_companies"
   ]
  },
  {
   "cell_type": "markdown",
   "metadata": {},
   "source": [
    "## Amsterdam - Companies handling"
   ]
  },
  {
   "cell_type": "code",
   "execution_count": 23,
   "metadata": {},
   "outputs": [
    {
     "name": "stderr",
     "output_type": "stream",
     "text": [
      "100%|██████████| 1255/1255 [00:21<00:00, 57.71it/s]\n"
     ]
    }
   ],
   "source": [
    "dfs_amsterdam = multi_read_df_from_paths(list(file_infos_df_companies_filtered[file_infos_df_companies_filtered[\"market\"] == \"amsterdam\"] [\"path\"]))"
   ]
  },
  {
   "cell_type": "code",
   "execution_count": 24,
   "metadata": {},
   "outputs": [],
   "source": [
    "amsterdam_companies = dfs_to_companie(dfs_amsterdam, db.prefix_to_market_id, default_mid=db.nasdaq_market_id) "
   ]
  },
  {
   "cell_type": "code",
   "execution_count": 25,
   "metadata": {},
   "outputs": [
    {
     "data": {
      "text/html": [
       "<div>\n",
       "<style scoped>\n",
       "    .dataframe tbody tr th:only-of-type {\n",
       "        vertical-align: middle;\n",
       "    }\n",
       "\n",
       "    .dataframe tbody tr th {\n",
       "        vertical-align: top;\n",
       "    }\n",
       "\n",
       "    .dataframe thead th {\n",
       "        text-align: right;\n",
       "    }\n",
       "</style>\n",
       "<table border=\"1\" class=\"dataframe\">\n",
       "  <thead>\n",
       "    <tr style=\"text-align: right;\">\n",
       "      <th></th>\n",
       "      <th>symbol</th>\n",
       "      <th>name</th>\n",
       "      <th>timestamp</th>\n",
       "      <th>ticker</th>\n",
       "      <th>mid</th>\n",
       "      <th>pea</th>\n",
       "    </tr>\n",
       "  </thead>\n",
       "  <tbody>\n",
       "    <tr>\n",
       "      <th>0</th>\n",
       "      <td>124718367</td>\n",
       "      <td>ASTRAZENECA FIN CVR</td>\n",
       "      <td>2023-03-27 09:02:02</td>\n",
       "      <td>124718367</td>\n",
       "      <td>14</td>\n",
       "      <td>False</td>\n",
       "    </tr>\n",
       "    <tr>\n",
       "      <th>1</th>\n",
       "      <td>AABA</td>\n",
       "      <td>ALTABA</td>\n",
       "      <td>2019-10-29 09:02:02</td>\n",
       "      <td>AABA</td>\n",
       "      <td>14</td>\n",
       "      <td>False</td>\n",
       "    </tr>\n",
       "    <tr>\n",
       "      <th>2</th>\n",
       "      <td>AACG</td>\n",
       "      <td>ATA CRTV GLB SP ADR</td>\n",
       "      <td>2023-12-29 09:02:02</td>\n",
       "      <td>AACG</td>\n",
       "      <td>14</td>\n",
       "      <td>False</td>\n",
       "    </tr>\n",
       "    <tr>\n",
       "      <th>3</th>\n",
       "      <td>AACI</td>\n",
       "      <td>ARMADA ACQN I</td>\n",
       "      <td>2023-12-29 09:02:02</td>\n",
       "      <td>AACI</td>\n",
       "      <td>14</td>\n",
       "      <td>False</td>\n",
       "    </tr>\n",
       "    <tr>\n",
       "      <th>4</th>\n",
       "      <td>AACIU</td>\n",
       "      <td>ARMADA ACQN I UTS</td>\n",
       "      <td>2023-12-29 09:02:02</td>\n",
       "      <td>AACIU</td>\n",
       "      <td>14</td>\n",
       "      <td>False</td>\n",
       "    </tr>\n",
       "    <tr>\n",
       "      <th>...</th>\n",
       "      <td>...</td>\n",
       "      <td>...</td>\n",
       "      <td>...</td>\n",
       "      <td>...</td>\n",
       "      <td>...</td>\n",
       "      <td>...</td>\n",
       "    </tr>\n",
       "    <tr>\n",
       "      <th>6747</th>\n",
       "      <td>ZWRKU</td>\n",
       "      <td>Z-WORK ACQN UTS 26</td>\n",
       "      <td>2023-01-02 09:02:01</td>\n",
       "      <td>ZWRKU</td>\n",
       "      <td>14</td>\n",
       "      <td>False</td>\n",
       "    </tr>\n",
       "    <tr>\n",
       "      <th>6748</th>\n",
       "      <td>ZY</td>\n",
       "      <td>ZYMERGEN</td>\n",
       "      <td>2022-11-18 09:02:02</td>\n",
       "      <td>ZY</td>\n",
       "      <td>14</td>\n",
       "      <td>False</td>\n",
       "    </tr>\n",
       "    <tr>\n",
       "      <th>6749</th>\n",
       "      <td>ZYME</td>\n",
       "      <td>ZYMEWORKS</td>\n",
       "      <td>2023-12-29 09:02:02</td>\n",
       "      <td>ZYME</td>\n",
       "      <td>14</td>\n",
       "      <td>False</td>\n",
       "    </tr>\n",
       "    <tr>\n",
       "      <th>6750</th>\n",
       "      <td>ZYNE</td>\n",
       "      <td>ZYNERBA PHARMA</td>\n",
       "      <td>2023-11-03 09:02:01</td>\n",
       "      <td>ZYNE</td>\n",
       "      <td>14</td>\n",
       "      <td>False</td>\n",
       "    </tr>\n",
       "    <tr>\n",
       "      <th>6751</th>\n",
       "      <td>ZYXI</td>\n",
       "      <td>ZYNEX</td>\n",
       "      <td>2023-12-29 09:02:02</td>\n",
       "      <td>ZYXI</td>\n",
       "      <td>14</td>\n",
       "      <td>False</td>\n",
       "    </tr>\n",
       "  </tbody>\n",
       "</table>\n",
       "<p>6752 rows × 6 columns</p>\n",
       "</div>"
      ],
      "text/plain": [
       "         symbol                 name           timestamp     ticker  mid  \\\n",
       "0     124718367  ASTRAZENECA FIN CVR 2023-03-27 09:02:02  124718367   14   \n",
       "1          AABA               ALTABA 2019-10-29 09:02:02       AABA   14   \n",
       "2          AACG  ATA CRTV GLB SP ADR 2023-12-29 09:02:02       AACG   14   \n",
       "3          AACI        ARMADA ACQN I 2023-12-29 09:02:02       AACI   14   \n",
       "4         AACIU    ARMADA ACQN I UTS 2023-12-29 09:02:02      AACIU   14   \n",
       "...         ...                  ...                 ...        ...  ...   \n",
       "6747      ZWRKU   Z-WORK ACQN UTS 26 2023-01-02 09:02:01      ZWRKU   14   \n",
       "6748         ZY             ZYMERGEN 2022-11-18 09:02:02         ZY   14   \n",
       "6749       ZYME            ZYMEWORKS 2023-12-29 09:02:02       ZYME   14   \n",
       "6750       ZYNE       ZYNERBA PHARMA 2023-11-03 09:02:01       ZYNE   14   \n",
       "6751       ZYXI                ZYNEX 2023-12-29 09:02:02       ZYXI   14   \n",
       "\n",
       "        pea  \n",
       "0     False  \n",
       "1     False  \n",
       "2     False  \n",
       "3     False  \n",
       "4     False  \n",
       "...     ...  \n",
       "6747  False  \n",
       "6748  False  \n",
       "6749  False  \n",
       "6750  False  \n",
       "6751  False  \n",
       "\n",
       "[6752 rows x 6 columns]"
      ]
     },
     "execution_count": 25,
     "metadata": {},
     "output_type": "execute_result"
    }
   ],
   "source": [
    "amsterdam_companies"
   ]
  },
  {
   "cell_type": "code",
   "execution_count": 15,
   "metadata": {},
   "outputs": [],
   "source": [
    "# detection_intrus(amsterdam_companies)"
   ]
  },
  {
   "cell_type": "markdown",
   "metadata": {},
   "source": [
    "## CompA - Companies handling"
   ]
  },
  {
   "cell_type": "code",
   "execution_count": 27,
   "metadata": {},
   "outputs": [
    {
     "name": "stderr",
     "output_type": "stream",
     "text": [
      "100%|██████████| 1264/1264 [00:05<00:00, 211.11it/s]\n"
     ]
    }
   ],
   "source": [
    "dfs_compA = multi_read_df_from_paths(list(file_infos_df_companies_filtered[file_infos_df_companies_filtered[\"market\"] == \"compA\"] [\"path\"]))"
   ]
  },
  {
   "cell_type": "code",
   "execution_count": 28,
   "metadata": {},
   "outputs": [],
   "source": [
    "compA_companies = dfs_to_companie(dfs_compA, prefix_to_market_id=db.prefix_to_market_id ,default_mid=db.prefix_to_market_id[\"1rP\"])"
   ]
  },
  {
   "cell_type": "code",
   "execution_count": 29,
   "metadata": {},
   "outputs": [
    {
     "data": {
      "text/html": [
       "<div>\n",
       "<style scoped>\n",
       "    .dataframe tbody tr th:only-of-type {\n",
       "        vertical-align: middle;\n",
       "    }\n",
       "\n",
       "    .dataframe tbody tr th {\n",
       "        vertical-align: top;\n",
       "    }\n",
       "\n",
       "    .dataframe thead th {\n",
       "        text-align: right;\n",
       "    }\n",
       "</style>\n",
       "<table border=\"1\" class=\"dataframe\">\n",
       "  <thead>\n",
       "    <tr style=\"text-align: right;\">\n",
       "      <th></th>\n",
       "      <th>symbol</th>\n",
       "      <th>name</th>\n",
       "      <th>timestamp</th>\n",
       "      <th>ticker</th>\n",
       "      <th>mid</th>\n",
       "      <th>pea</th>\n",
       "    </tr>\n",
       "  </thead>\n",
       "  <tbody>\n",
       "    <tr>\n",
       "      <th>0</th>\n",
       "      <td>1rAAF</td>\n",
       "      <td>AIR FRANCE - KLM</td>\n",
       "      <td>2023-12-29 09:02:02</td>\n",
       "      <td>AF</td>\n",
       "      <td>11</td>\n",
       "      <td>False</td>\n",
       "    </tr>\n",
       "    <tr>\n",
       "      <th>1</th>\n",
       "      <td>1rAAFA</td>\n",
       "      <td>AIR FRANCE - KLM</td>\n",
       "      <td>2023-12-29 09:02:02</td>\n",
       "      <td>AFA</td>\n",
       "      <td>11</td>\n",
       "      <td>False</td>\n",
       "    </tr>\n",
       "    <tr>\n",
       "      <th>2</th>\n",
       "      <td>1rAENX</td>\n",
       "      <td>EURONEXT</td>\n",
       "      <td>2023-12-29 09:02:02</td>\n",
       "      <td>ENX</td>\n",
       "      <td>11</td>\n",
       "      <td>False</td>\n",
       "    </tr>\n",
       "    <tr>\n",
       "      <th>3</th>\n",
       "      <td>1rAGTO</td>\n",
       "      <td>GEMALTO</td>\n",
       "      <td>2019-07-11 09:02:02</td>\n",
       "      <td>GTO</td>\n",
       "      <td>11</td>\n",
       "      <td>False</td>\n",
       "    </tr>\n",
       "    <tr>\n",
       "      <th>4</th>\n",
       "      <td>1rARDSADT</td>\n",
       "      <td>ROYAL D SH DRP 21</td>\n",
       "      <td>2021-11-15 09:02:01</td>\n",
       "      <td>RDSADT</td>\n",
       "      <td>11</td>\n",
       "      <td>False</td>\n",
       "    </tr>\n",
       "    <tr>\n",
       "      <th>...</th>\n",
       "      <td>...</td>\n",
       "      <td>...</td>\n",
       "      <td>...</td>\n",
       "      <td>...</td>\n",
       "      <td>...</td>\n",
       "      <td>...</td>\n",
       "    </tr>\n",
       "    <tr>\n",
       "      <th>416</th>\n",
       "      <td>FF11_FP</td>\n",
       "      <td>TOTALENERGIES</td>\n",
       "      <td>2021-08-06 09:02:01</td>\n",
       "      <td>FP</td>\n",
       "      <td>13</td>\n",
       "      <td>False</td>\n",
       "    </tr>\n",
       "    <tr>\n",
       "      <th>417</th>\n",
       "      <td>FF11_SEV</td>\n",
       "      <td>SUEZ</td>\n",
       "      <td>2023-12-29 09:02:02</td>\n",
       "      <td>SEV</td>\n",
       "      <td>13</td>\n",
       "      <td>False</td>\n",
       "    </tr>\n",
       "    <tr>\n",
       "      <th>418</th>\n",
       "      <td>FF11_SGO</td>\n",
       "      <td>SAINT-GOBAIN</td>\n",
       "      <td>2023-12-29 09:02:02</td>\n",
       "      <td>SGO</td>\n",
       "      <td>13</td>\n",
       "      <td>False</td>\n",
       "    </tr>\n",
       "    <tr>\n",
       "      <th>419</th>\n",
       "      <td>FF11_TTE</td>\n",
       "      <td>TOTALENERGIES</td>\n",
       "      <td>2023-12-29 09:02:02</td>\n",
       "      <td>TTE</td>\n",
       "      <td>13</td>\n",
       "      <td>False</td>\n",
       "    </tr>\n",
       "    <tr>\n",
       "      <th>420</th>\n",
       "      <td>INEDS</td>\n",
       "      <td>FONCIERE INEA DS</td>\n",
       "      <td>2022-06-15 09:02:01</td>\n",
       "      <td>INEDS</td>\n",
       "      <td>12</td>\n",
       "      <td>False</td>\n",
       "    </tr>\n",
       "  </tbody>\n",
       "</table>\n",
       "<p>421 rows × 6 columns</p>\n",
       "</div>"
      ],
      "text/plain": [
       "        symbol               name           timestamp  ticker  mid    pea\n",
       "0        1rAAF   AIR FRANCE - KLM 2023-12-29 09:02:02      AF   11  False\n",
       "1       1rAAFA   AIR FRANCE - KLM 2023-12-29 09:02:02     AFA   11  False\n",
       "2       1rAENX           EURONEXT 2023-12-29 09:02:02     ENX   11  False\n",
       "3       1rAGTO            GEMALTO 2019-07-11 09:02:02     GTO   11  False\n",
       "4    1rARDSADT  ROYAL D SH DRP 21 2021-11-15 09:02:01  RDSADT   11  False\n",
       "..         ...                ...                 ...     ...  ...    ...\n",
       "416    FF11_FP      TOTALENERGIES 2021-08-06 09:02:01      FP   13  False\n",
       "417   FF11_SEV               SUEZ 2023-12-29 09:02:02     SEV   13  False\n",
       "418   FF11_SGO       SAINT-GOBAIN 2023-12-29 09:02:02     SGO   13  False\n",
       "419   FF11_TTE      TOTALENERGIES 2023-12-29 09:02:02     TTE   13  False\n",
       "420      INEDS   FONCIERE INEA DS 2022-06-15 09:02:01   INEDS   12  False\n",
       "\n",
       "[421 rows x 6 columns]"
      ]
     },
     "execution_count": 29,
     "metadata": {},
     "output_type": "execute_result"
    }
   ],
   "source": [
    "compA_companies"
   ]
  },
  {
   "cell_type": "code",
   "execution_count": 121,
   "metadata": {},
   "outputs": [],
   "source": [
    "# detection_intrus(compA_companies)"
   ]
  },
  {
   "cell_type": "code",
   "execution_count": 30,
   "metadata": {},
   "outputs": [
    {
     "data": {
      "text/plain": [
       "{'1rA', '1rP', 'ALF', 'FF1', 'INE'}"
      ]
     },
     "execution_count": 30,
     "metadata": {},
     "output_type": "execute_result"
    }
   ],
   "source": [
    "get_prefix(compA_companies)"
   ]
  },
  {
   "cell_type": "markdown",
   "metadata": {},
   "source": [
    "## CompB - Companies handling"
   ]
  },
  {
   "cell_type": "code",
   "execution_count": 32,
   "metadata": {},
   "outputs": [
    {
     "name": "stderr",
     "output_type": "stream",
     "text": [
      "100%|██████████| 1263/1263 [00:05<00:00, 238.41it/s]\n"
     ]
    }
   ],
   "source": [
    "dfs_compB = multi_read_df_from_paths(list(file_infos_df_companies_filtered[file_infos_df_companies_filtered[\"market\"] == \"compB\"] [\"path\"]))"
   ]
  },
  {
   "cell_type": "code",
   "execution_count": 33,
   "metadata": {},
   "outputs": [],
   "source": [
    "compB_companies = dfs_to_companie(dfs_compB, prefix_to_market_id=db.prefix_to_market_id ,default_mid=db.prefix_to_market_id[\"1rP\"])"
   ]
  },
  {
   "cell_type": "code",
   "execution_count": 34,
   "metadata": {},
   "outputs": [
    {
     "data": {
      "text/html": [
       "<div>\n",
       "<style scoped>\n",
       "    .dataframe tbody tr th:only-of-type {\n",
       "        vertical-align: middle;\n",
       "    }\n",
       "\n",
       "    .dataframe tbody tr th {\n",
       "        vertical-align: top;\n",
       "    }\n",
       "\n",
       "    .dataframe thead th {\n",
       "        text-align: right;\n",
       "    }\n",
       "</style>\n",
       "<table border=\"1\" class=\"dataframe\">\n",
       "  <thead>\n",
       "    <tr style=\"text-align: right;\">\n",
       "      <th></th>\n",
       "      <th>symbol</th>\n",
       "      <th>name</th>\n",
       "      <th>timestamp</th>\n",
       "      <th>ticker</th>\n",
       "      <th>mid</th>\n",
       "      <th>pea</th>\n",
       "    </tr>\n",
       "  </thead>\n",
       "  <tbody>\n",
       "    <tr>\n",
       "      <th>0</th>\n",
       "      <td>1rP03227</td>\n",
       "      <td>LATECOERE</td>\n",
       "      <td>2023-12-29 09:02:02</td>\n",
       "      <td>03227</td>\n",
       "      <td>12</td>\n",
       "      <td>False</td>\n",
       "    </tr>\n",
       "    <tr>\n",
       "      <th>1</th>\n",
       "      <td>1rP2MX</td>\n",
       "      <td>TERACT R PFD</td>\n",
       "      <td>2023-12-29 09:02:02</td>\n",
       "      <td>2MX</td>\n",
       "      <td>12</td>\n",
       "      <td>False</td>\n",
       "    </tr>\n",
       "    <tr>\n",
       "      <th>2</th>\n",
       "      <td>1rP5478</td>\n",
       "      <td>CLARANOVA</td>\n",
       "      <td>2021-11-08 09:02:01</td>\n",
       "      <td>5478</td>\n",
       "      <td>12</td>\n",
       "      <td>False</td>\n",
       "    </tr>\n",
       "    <tr>\n",
       "      <th>3</th>\n",
       "      <td>1rPAAA</td>\n",
       "      <td>ALAN ALLMAN ASSOCIATES</td>\n",
       "      <td>2023-12-29 09:02:02</td>\n",
       "      <td>AAA</td>\n",
       "      <td>12</td>\n",
       "      <td>False</td>\n",
       "    </tr>\n",
       "    <tr>\n",
       "      <th>4</th>\n",
       "      <td>1rPAAC</td>\n",
       "      <td>ACCOR ACQ COM R PFD</td>\n",
       "      <td>2021-06-07 09:02:01</td>\n",
       "      <td>AAC</td>\n",
       "      <td>12</td>\n",
       "      <td>False</td>\n",
       "    </tr>\n",
       "    <tr>\n",
       "      <th>...</th>\n",
       "      <td>...</td>\n",
       "      <td>...</td>\n",
       "      <td>...</td>\n",
       "      <td>...</td>\n",
       "      <td>...</td>\n",
       "      <td>...</td>\n",
       "    </tr>\n",
       "    <tr>\n",
       "      <th>391</th>\n",
       "      <td>1rPXFAB</td>\n",
       "      <td>X-FAB SILICON</td>\n",
       "      <td>2023-12-29 09:02:02</td>\n",
       "      <td>XFAB</td>\n",
       "      <td>12</td>\n",
       "      <td>False</td>\n",
       "    </tr>\n",
       "    <tr>\n",
       "      <th>392</th>\n",
       "      <td>1rPXIL</td>\n",
       "      <td>XILAM ANIMATION</td>\n",
       "      <td>2023-12-29 09:02:02</td>\n",
       "      <td>XIL</td>\n",
       "      <td>12</td>\n",
       "      <td>False</td>\n",
       "    </tr>\n",
       "    <tr>\n",
       "      <th>393</th>\n",
       "      <td>1rPYSYT</td>\n",
       "      <td>SALVEPORN01JAN22EX</td>\n",
       "      <td>2023-12-29 09:02:02</td>\n",
       "      <td>YSYT</td>\n",
       "      <td>12</td>\n",
       "      <td>False</td>\n",
       "    </tr>\n",
       "    <tr>\n",
       "      <th>394</th>\n",
       "      <td>FF11_AKA</td>\n",
       "      <td>AKKA TECHNOLOGIES</td>\n",
       "      <td>2022-02-01 09:02:01</td>\n",
       "      <td>AKA</td>\n",
       "      <td>13</td>\n",
       "      <td>False</td>\n",
       "    </tr>\n",
       "    <tr>\n",
       "      <th>395</th>\n",
       "      <td>FF11_VRAP</td>\n",
       "      <td>VRANKEN-POMMERY MO.</td>\n",
       "      <td>2023-01-31 09:02:01</td>\n",
       "      <td>VRAP</td>\n",
       "      <td>13</td>\n",
       "      <td>False</td>\n",
       "    </tr>\n",
       "  </tbody>\n",
       "</table>\n",
       "<p>396 rows × 6 columns</p>\n",
       "</div>"
      ],
      "text/plain": [
       "        symbol                    name           timestamp ticker  mid    pea\n",
       "0     1rP03227               LATECOERE 2023-12-29 09:02:02  03227   12  False\n",
       "1       1rP2MX            TERACT R PFD 2023-12-29 09:02:02    2MX   12  False\n",
       "2      1rP5478               CLARANOVA 2021-11-08 09:02:01   5478   12  False\n",
       "3       1rPAAA  ALAN ALLMAN ASSOCIATES 2023-12-29 09:02:02    AAA   12  False\n",
       "4       1rPAAC     ACCOR ACQ COM R PFD 2021-06-07 09:02:01    AAC   12  False\n",
       "..         ...                     ...                 ...    ...  ...    ...\n",
       "391    1rPXFAB           X-FAB SILICON 2023-12-29 09:02:02   XFAB   12  False\n",
       "392     1rPXIL         XILAM ANIMATION 2023-12-29 09:02:02    XIL   12  False\n",
       "393    1rPYSYT      SALVEPORN01JAN22EX 2023-12-29 09:02:02   YSYT   12  False\n",
       "394   FF11_AKA       AKKA TECHNOLOGIES 2022-02-01 09:02:01    AKA   13  False\n",
       "395  FF11_VRAP     VRANKEN-POMMERY MO. 2023-01-31 09:02:01   VRAP   13  False\n",
       "\n",
       "[396 rows x 6 columns]"
      ]
     },
     "execution_count": 34,
     "metadata": {},
     "output_type": "execute_result"
    }
   ],
   "source": [
    "compB_companies"
   ]
  },
  {
   "cell_type": "code",
   "execution_count": 35,
   "metadata": {},
   "outputs": [
    {
     "data": {
      "text/plain": [
       "{'1rP', 'FF1'}"
      ]
     },
     "execution_count": 35,
     "metadata": {},
     "output_type": "execute_result"
    }
   ],
   "source": [
    "get_prefix(compB_companies)"
   ]
  },
  {
   "cell_type": "markdown",
   "metadata": {},
   "source": [
    "## PEA PME - Companies Handling"
   ]
  },
  {
   "cell_type": "code",
   "execution_count": 36,
   "metadata": {},
   "outputs": [
    {
     "name": "stderr",
     "output_type": "stream",
     "text": [
      "100%|██████████| 766/766 [00:03<00:00, 201.57it/s]\n"
     ]
    }
   ],
   "source": [
    "dfs_peapme = multi_read_df_from_paths(list(file_infos_df_companies_filtered[file_infos_df_companies_filtered[\"market\"] == \"peapme\"] [\"path\"]))"
   ]
  },
  {
   "cell_type": "code",
   "execution_count": 37,
   "metadata": {},
   "outputs": [],
   "source": [
    "peapme_companies = dfs_to_companie(dfs_peapme, prefix_to_market_id=db.prefix_to_market_id ,default_mid=db.prefix_to_market_id[\"1rP\"], is_pea=True)"
   ]
  },
  {
   "cell_type": "code",
   "execution_count": 38,
   "metadata": {},
   "outputs": [
    {
     "data": {
      "text/html": [
       "<div>\n",
       "<style scoped>\n",
       "    .dataframe tbody tr th:only-of-type {\n",
       "        vertical-align: middle;\n",
       "    }\n",
       "\n",
       "    .dataframe tbody tr th {\n",
       "        vertical-align: top;\n",
       "    }\n",
       "\n",
       "    .dataframe thead th {\n",
       "        text-align: right;\n",
       "    }\n",
       "</style>\n",
       "<table border=\"1\" class=\"dataframe\">\n",
       "  <thead>\n",
       "    <tr style=\"text-align: right;\">\n",
       "      <th></th>\n",
       "      <th>symbol</th>\n",
       "      <th>name</th>\n",
       "      <th>timestamp</th>\n",
       "      <th>ticker</th>\n",
       "      <th>mid</th>\n",
       "      <th>pea</th>\n",
       "    </tr>\n",
       "  </thead>\n",
       "  <tbody>\n",
       "    <tr>\n",
       "      <th>0</th>\n",
       "      <td>1rAADUX</td>\n",
       "      <td>ADUX</td>\n",
       "      <td>2023-12-29 09:02:02</td>\n",
       "      <td>ADUX</td>\n",
       "      <td>11</td>\n",
       "      <td>True</td>\n",
       "    </tr>\n",
       "    <tr>\n",
       "      <th>1</th>\n",
       "      <td>1rABESI</td>\n",
       "      <td>BESI</td>\n",
       "      <td>2023-12-29 09:02:02</td>\n",
       "      <td>BESI</td>\n",
       "      <td>11</td>\n",
       "      <td>True</td>\n",
       "    </tr>\n",
       "    <tr>\n",
       "      <th>2</th>\n",
       "      <td>1rEPALANT</td>\n",
       "      <td>ANTEVENIO</td>\n",
       "      <td>2021-12-01 09:02:01</td>\n",
       "      <td>ALANT</td>\n",
       "      <td>12</td>\n",
       "      <td>True</td>\n",
       "    </tr>\n",
       "    <tr>\n",
       "      <th>3</th>\n",
       "      <td>1rEPALAQU</td>\n",
       "      <td>AQUILA</td>\n",
       "      <td>2023-12-29 09:02:02</td>\n",
       "      <td>ALAQU</td>\n",
       "      <td>12</td>\n",
       "      <td>True</td>\n",
       "    </tr>\n",
       "    <tr>\n",
       "      <th>4</th>\n",
       "      <td>1rEPALBDM</td>\n",
       "      <td>BD MULTI MEDIA</td>\n",
       "      <td>2023-12-29 09:02:02</td>\n",
       "      <td>ALBDM</td>\n",
       "      <td>12</td>\n",
       "      <td>True</td>\n",
       "    </tr>\n",
       "    <tr>\n",
       "      <th>...</th>\n",
       "      <td>...</td>\n",
       "      <td>...</td>\n",
       "      <td>...</td>\n",
       "      <td>...</td>\n",
       "      <td>...</td>\n",
       "      <td>...</td>\n",
       "    </tr>\n",
       "    <tr>\n",
       "      <th>678</th>\n",
       "      <td>FF11_EVS</td>\n",
       "      <td>EVS BROADCAST EQU</td>\n",
       "      <td>2023-12-29 09:02:02</td>\n",
       "      <td>EVS</td>\n",
       "      <td>13</td>\n",
       "      <td>True</td>\n",
       "    </tr>\n",
       "    <tr>\n",
       "      <th>679</th>\n",
       "      <td>FF11_GKTX</td>\n",
       "      <td>GENKYOTEX</td>\n",
       "      <td>2022-09-15 09:02:02</td>\n",
       "      <td>GKTX</td>\n",
       "      <td>13</td>\n",
       "      <td>True</td>\n",
       "    </tr>\n",
       "    <tr>\n",
       "      <th>680</th>\n",
       "      <td>FF11_KIN</td>\n",
       "      <td>KINEPOLIS GROUP</td>\n",
       "      <td>2023-12-29 09:02:02</td>\n",
       "      <td>KIN</td>\n",
       "      <td>13</td>\n",
       "      <td>True</td>\n",
       "    </tr>\n",
       "    <tr>\n",
       "      <th>681</th>\n",
       "      <td>FF11_MLMAZ</td>\n",
       "      <td>MAZARO</td>\n",
       "      <td>2023-12-29 09:02:02</td>\n",
       "      <td>MLMAZ</td>\n",
       "      <td>13</td>\n",
       "      <td>True</td>\n",
       "    </tr>\n",
       "    <tr>\n",
       "      <th>682</th>\n",
       "      <td>FF11_VRAP</td>\n",
       "      <td>VRANKEN-POMMERY MO.</td>\n",
       "      <td>2023-12-29 09:02:02</td>\n",
       "      <td>VRAP</td>\n",
       "      <td>13</td>\n",
       "      <td>True</td>\n",
       "    </tr>\n",
       "  </tbody>\n",
       "</table>\n",
       "<p>683 rows × 6 columns</p>\n",
       "</div>"
      ],
      "text/plain": [
       "         symbol                 name           timestamp ticker  mid   pea\n",
       "0       1rAADUX                 ADUX 2023-12-29 09:02:02   ADUX   11  True\n",
       "1       1rABESI                 BESI 2023-12-29 09:02:02   BESI   11  True\n",
       "2     1rEPALANT            ANTEVENIO 2021-12-01 09:02:01  ALANT   12  True\n",
       "3     1rEPALAQU               AQUILA 2023-12-29 09:02:02  ALAQU   12  True\n",
       "4     1rEPALBDM       BD MULTI MEDIA 2023-12-29 09:02:02  ALBDM   12  True\n",
       "..          ...                  ...                 ...    ...  ...   ...\n",
       "678    FF11_EVS    EVS BROADCAST EQU 2023-12-29 09:02:02    EVS   13  True\n",
       "679   FF11_GKTX            GENKYOTEX 2022-09-15 09:02:02   GKTX   13  True\n",
       "680    FF11_KIN      KINEPOLIS GROUP 2023-12-29 09:02:02    KIN   13  True\n",
       "681  FF11_MLMAZ               MAZARO 2023-12-29 09:02:02  MLMAZ   13  True\n",
       "682   FF11_VRAP  VRANKEN-POMMERY MO. 2023-12-29 09:02:02   VRAP   13  True\n",
       "\n",
       "[683 rows x 6 columns]"
      ]
     },
     "execution_count": 38,
     "metadata": {},
     "output_type": "execute_result"
    }
   ],
   "source": [
    "peapme_companies"
   ]
  },
  {
   "cell_type": "code",
   "execution_count": 39,
   "metadata": {},
   "outputs": [
    {
     "data": {
      "text/plain": [
       "{'1rA', '1rE', '1rP', 'FF1'}"
      ]
     },
     "execution_count": 39,
     "metadata": {},
     "output_type": "execute_result"
    }
   ],
   "source": [
    "get_prefix(peapme_companies)"
   ]
  },
  {
   "cell_type": "markdown",
   "metadata": {},
   "source": [
    "## Join companies"
   ]
  },
  {
   "cell_type": "code",
   "execution_count": 40,
   "metadata": {},
   "outputs": [],
   "source": [
    "df_companies = [amsterdam_companies, compA_companies, compB_companies, peapme_companies]"
   ]
  },
  {
   "cell_type": "code",
   "execution_count": 41,
   "metadata": {},
   "outputs": [],
   "source": [
    "df_companies = pd.concat(df_companies)\n",
    "df_companies.sort_values(by=\"timestamp\", inplace=True)\n",
    "df_companies.drop_duplicates(inplace=True)\n",
    "df_companies.drop_duplicates(subset=[\"symbol\"], keep=\"last\", inplace=True)"
   ]
  },
  {
   "cell_type": "markdown",
   "metadata": {},
   "source": [
    "### Check no duplicated"
   ]
  },
  {
   "cell_type": "code",
   "execution_count": 42,
   "metadata": {},
   "outputs": [
    {
     "data": {
      "text/html": [
       "<div>\n",
       "<style scoped>\n",
       "    .dataframe tbody tr th:only-of-type {\n",
       "        vertical-align: middle;\n",
       "    }\n",
       "\n",
       "    .dataframe tbody tr th {\n",
       "        vertical-align: top;\n",
       "    }\n",
       "\n",
       "    .dataframe thead th {\n",
       "        text-align: right;\n",
       "    }\n",
       "</style>\n",
       "<table border=\"1\" class=\"dataframe\">\n",
       "  <thead>\n",
       "    <tr style=\"text-align: right;\">\n",
       "      <th></th>\n",
       "      <th>symbol</th>\n",
       "      <th>name</th>\n",
       "      <th>timestamp</th>\n",
       "      <th>ticker</th>\n",
       "      <th>mid</th>\n",
       "      <th>pea</th>\n",
       "    </tr>\n",
       "  </thead>\n",
       "  <tbody>\n",
       "  </tbody>\n",
       "</table>\n",
       "</div>"
      ],
      "text/plain": [
       "Empty DataFrame\n",
       "Columns: [symbol, name, timestamp, ticker, mid, pea]\n",
       "Index: []"
      ]
     },
     "execution_count": 42,
     "metadata": {},
     "output_type": "execute_result"
    }
   ],
   "source": [
    "df_companies[df_companies.duplicated(subset=[\"symbol\"], keep=False)][:50]"
   ]
  },
  {
   "cell_type": "code",
   "execution_count": 43,
   "metadata": {},
   "outputs": [],
   "source": [
    "df_companies.drop(\"timestamp\", axis=1, inplace=True)"
   ]
  },
  {
   "cell_type": "code",
   "execution_count": 44,
   "metadata": {},
   "outputs": [],
   "source": [
    "df_companies.set_index(\"symbol\", inplace=True)"
   ]
  },
  {
   "cell_type": "code",
   "execution_count": 45,
   "metadata": {},
   "outputs": [
    {
     "data": {
      "text/html": [
       "<div>\n",
       "<style scoped>\n",
       "    .dataframe tbody tr th:only-of-type {\n",
       "        vertical-align: middle;\n",
       "    }\n",
       "\n",
       "    .dataframe tbody tr th {\n",
       "        vertical-align: top;\n",
       "    }\n",
       "\n",
       "    .dataframe thead th {\n",
       "        text-align: right;\n",
       "    }\n",
       "</style>\n",
       "<table border=\"1\" class=\"dataframe\">\n",
       "  <thead>\n",
       "    <tr style=\"text-align: right;\">\n",
       "      <th></th>\n",
       "      <th>name</th>\n",
       "      <th>ticker</th>\n",
       "      <th>mid</th>\n",
       "      <th>pea</th>\n",
       "    </tr>\n",
       "    <tr>\n",
       "      <th>symbol</th>\n",
       "      <th></th>\n",
       "      <th></th>\n",
       "      <th></th>\n",
       "      <th></th>\n",
       "    </tr>\n",
       "  </thead>\n",
       "  <tbody>\n",
       "    <tr>\n",
       "      <th>ARII</th>\n",
       "      <td>AMERICAN RAILCAR</td>\n",
       "      <td>ARII</td>\n",
       "      <td>14</td>\n",
       "      <td>False</td>\n",
       "    </tr>\n",
       "    <tr>\n",
       "      <th>INDU</th>\n",
       "      <td>INDUSTR ACQST-A-</td>\n",
       "      <td>INDU</td>\n",
       "      <td>14</td>\n",
       "      <td>False</td>\n",
       "    </tr>\n",
       "    <tr>\n",
       "      <th>INDUU</th>\n",
       "      <td>INDUSTREA ACQST UTS</td>\n",
       "      <td>INDUU</td>\n",
       "      <td>14</td>\n",
       "      <td>False</td>\n",
       "    </tr>\n",
       "    <tr>\n",
       "      <th>JTPY</th>\n",
       "      <td>JETPAY</td>\n",
       "      <td>JTPY</td>\n",
       "      <td>14</td>\n",
       "      <td>False</td>\n",
       "    </tr>\n",
       "    <tr>\n",
       "      <th>MMAC</th>\n",
       "      <td>MMA CAPITAL MANA</td>\n",
       "      <td>MMAC</td>\n",
       "      <td>14</td>\n",
       "      <td>False</td>\n",
       "    </tr>\n",
       "  </tbody>\n",
       "</table>\n",
       "</div>"
      ],
      "text/plain": [
       "                       name ticker  mid    pea\n",
       "symbol                                        \n",
       "ARII       AMERICAN RAILCAR   ARII   14  False\n",
       "INDU       INDUSTR ACQST-A-   INDU   14  False\n",
       "INDUU   INDUSTREA ACQST UTS  INDUU   14  False\n",
       "JTPY                 JETPAY   JTPY   14  False\n",
       "MMAC       MMA CAPITAL MANA   MMAC   14  False"
      ]
     },
     "execution_count": 45,
     "metadata": {},
     "output_type": "execute_result"
    }
   ],
   "source": [
    "df_companies.head()"
   ]
  },
  {
   "cell_type": "markdown",
   "metadata": {},
   "source": [
    "### Update companies table"
   ]
  },
  {
   "cell_type": "code",
   "execution_count": 137,
   "metadata": {},
   "outputs": [],
   "source": [
    "# db.clean_database()\n",
    "# db._setup_database()"
   ]
  },
  {
   "cell_type": "code",
   "execution_count": 46,
   "metadata": {},
   "outputs": [],
   "source": [
    "db.df_write(df_companies, \"companies\", commit=True)"
   ]
  },
  {
   "cell_type": "markdown",
   "metadata": {},
   "source": [
    "# Stocks"
   ]
  },
  {
   "cell_type": "code",
   "execution_count": 8,
   "metadata": {},
   "outputs": [
    {
     "name": "stderr",
     "output_type": "stream",
     "text": [
      "  0%|          | 0/1944 [00:00<?, ?it/s]"
     ]
    },
    {
     "name": "stderr",
     "output_type": "stream",
     "text": [
      "100%|██████████| 1944/1944 [00:20<00:00, 93.25it/s] \n"
     ]
    }
   ],
   "source": [
    "dfs = multi_read_df_from_paths(list(file_infos_df_filtered [\"path\"]))"
   ]
  },
  {
   "cell_type": "code",
   "execution_count": 9,
   "metadata": {},
   "outputs": [
    {
     "name": "stdout",
     "output_type": "stream",
     "text": [
      "0\n"
     ]
    }
   ],
   "source": [
    "df_stocks = dfs_to_stocks(dfs) "
   ]
  },
  {
   "cell_type": "code",
   "execution_count": 20,
   "metadata": {},
   "outputs": [
    {
     "data": {
      "text/html": [
       "<div>\n",
       "<style scoped>\n",
       "    .dataframe tbody tr th:only-of-type {\n",
       "        vertical-align: middle;\n",
       "    }\n",
       "\n",
       "    .dataframe tbody tr th {\n",
       "        vertical-align: top;\n",
       "    }\n",
       "\n",
       "    .dataframe thead th {\n",
       "        text-align: right;\n",
       "    }\n",
       "</style>\n",
       "<table border=\"1\" class=\"dataframe\">\n",
       "  <thead>\n",
       "    <tr style=\"text-align: right;\">\n",
       "      <th></th>\n",
       "      <th>level_0</th>\n",
       "      <th>symbol</th>\n",
       "      <th>timestamp</th>\n",
       "      <th>index</th>\n",
       "      <th>last</th>\n",
       "      <th>volume</th>\n",
       "    </tr>\n",
       "  </thead>\n",
       "  <tbody>\n",
       "    <tr>\n",
       "      <th>909</th>\n",
       "      <td>909</td>\n",
       "      <td>1rABESI</td>\n",
       "      <td>2021-01-01 09:02:00</td>\n",
       "      <td>825957.0</td>\n",
       "      <td>49.58</td>\n",
       "      <td>140312.0</td>\n",
       "    </tr>\n",
       "    <tr>\n",
       "      <th>910</th>\n",
       "      <td>910</td>\n",
       "      <td>1rABESI</td>\n",
       "      <td>2021-01-01 10:02:00</td>\n",
       "      <td>830626.0</td>\n",
       "      <td>49.58</td>\n",
       "      <td>140312.0</td>\n",
       "    </tr>\n",
       "    <tr>\n",
       "      <th>911</th>\n",
       "      <td>911</td>\n",
       "      <td>1rABESI</td>\n",
       "      <td>2021-01-01 11:02:00</td>\n",
       "      <td>835294.0</td>\n",
       "      <td>49.58</td>\n",
       "      <td>140312.0</td>\n",
       "    </tr>\n",
       "    <tr>\n",
       "      <th>912</th>\n",
       "      <td>912</td>\n",
       "      <td>1rABESI</td>\n",
       "      <td>2021-01-01 12:02:00</td>\n",
       "      <td>839963.0</td>\n",
       "      <td>49.58</td>\n",
       "      <td>140312.0</td>\n",
       "    </tr>\n",
       "    <tr>\n",
       "      <th>913</th>\n",
       "      <td>913</td>\n",
       "      <td>1rABESI</td>\n",
       "      <td>2021-01-01 13:02:00</td>\n",
       "      <td>844632.0</td>\n",
       "      <td>49.58</td>\n",
       "      <td>140312.0</td>\n",
       "    </tr>\n",
       "    <tr>\n",
       "      <th>...</th>\n",
       "      <td>...</td>\n",
       "      <td>...</td>\n",
       "      <td>...</td>\n",
       "      <td>...</td>\n",
       "      <td>...</td>\n",
       "      <td>...</td>\n",
       "    </tr>\n",
       "    <tr>\n",
       "      <th>2585943</th>\n",
       "      <td>2585943</td>\n",
       "      <td>ZYXI</td>\n",
       "      <td>2022-02-21 13:02:00</td>\n",
       "      <td>1467238.0</td>\n",
       "      <td>6.76</td>\n",
       "      <td>26149.0</td>\n",
       "    </tr>\n",
       "    <tr>\n",
       "      <th>2585944</th>\n",
       "      <td>2585944</td>\n",
       "      <td>ZYXI</td>\n",
       "      <td>2022-02-21 14:02:00</td>\n",
       "      <td>1473149.0</td>\n",
       "      <td>6.76</td>\n",
       "      <td>26149.0</td>\n",
       "    </tr>\n",
       "    <tr>\n",
       "      <th>2585945</th>\n",
       "      <td>2585945</td>\n",
       "      <td>ZYXI</td>\n",
       "      <td>2022-02-21 15:02:00</td>\n",
       "      <td>1479060.0</td>\n",
       "      <td>6.76</td>\n",
       "      <td>26149.0</td>\n",
       "    </tr>\n",
       "    <tr>\n",
       "      <th>2585946</th>\n",
       "      <td>2585946</td>\n",
       "      <td>ZYXI</td>\n",
       "      <td>2022-02-21 16:02:00</td>\n",
       "      <td>1484971.0</td>\n",
       "      <td>6.76</td>\n",
       "      <td>26149.0</td>\n",
       "    </tr>\n",
       "    <tr>\n",
       "      <th>2585947</th>\n",
       "      <td>2585947</td>\n",
       "      <td>ZYXI</td>\n",
       "      <td>2022-02-21 17:02:00</td>\n",
       "      <td>1490882.0</td>\n",
       "      <td>6.76</td>\n",
       "      <td>26149.0</td>\n",
       "    </tr>\n",
       "  </tbody>\n",
       "</table>\n",
       "<p>1062432 rows × 6 columns</p>\n",
       "</div>"
      ],
      "text/plain": [
       "         level_0   symbol           timestamp      index   last    volume\n",
       "909          909  1rABESI 2021-01-01 09:02:00   825957.0  49.58  140312.0\n",
       "910          910  1rABESI 2021-01-01 10:02:00   830626.0  49.58  140312.0\n",
       "911          911  1rABESI 2021-01-01 11:02:00   835294.0  49.58  140312.0\n",
       "912          912  1rABESI 2021-01-01 12:02:00   839963.0  49.58  140312.0\n",
       "913          913  1rABESI 2021-01-01 13:02:00   844632.0  49.58  140312.0\n",
       "...          ...      ...                 ...        ...    ...       ...\n",
       "2585943  2585943     ZYXI 2022-02-21 13:02:00  1467238.0   6.76   26149.0\n",
       "2585944  2585944     ZYXI 2022-02-21 14:02:00  1473149.0   6.76   26149.0\n",
       "2585945  2585945     ZYXI 2022-02-21 15:02:00  1479060.0   6.76   26149.0\n",
       "2585946  2585946     ZYXI 2022-02-21 16:02:00  1484971.0   6.76   26149.0\n",
       "2585947  2585947     ZYXI 2022-02-21 17:02:00  1490882.0   6.76   26149.0\n",
       "\n",
       "[1062432 rows x 6 columns]"
      ]
     },
     "execution_count": 20,
     "metadata": {},
     "output_type": "execute_result"
    }
   ],
   "source": [
    "df_stocks"
   ]
  },
  {
   "cell_type": "markdown",
   "metadata": {},
   "source": [
    "#### Show Nan "
   ]
  },
  {
   "cell_type": "code",
   "execution_count": 10,
   "metadata": {},
   "outputs": [
    {
     "data": {
      "text/plain": [
       "(Empty DataFrame\n",
       " Columns: [last, volume, timestamp]\n",
       " Index: [],\n",
       " Empty DataFrame\n",
       " Columns: [last, volume, timestamp]\n",
       " Index: [])"
      ]
     },
     "execution_count": 10,
     "metadata": {},
     "output_type": "execute_result"
    }
   ],
   "source": [
    "df_stocks[df_stocks['last'].isna()], df_stocks[df_stocks['volume'].isna()]"
   ]
  },
  {
   "cell_type": "markdown",
   "metadata": {},
   "source": [
    "#### Show negative values "
   ]
  },
  {
   "cell_type": "code",
   "execution_count": 11,
   "metadata": {},
   "outputs": [
    {
     "data": {
      "text/plain": [
       "(         last  volume           timestamp\n",
       " symbol                                   \n",
       " 1rPCDA  16.60  -12475 2020-04-07 12:02:02\n",
       " 1rPCDA  16.72  -10871 2020-04-07 13:02:02\n",
       " 1rPCDA  16.94   -9815 2020-04-07 14:02:02\n",
       " 1rPCDA  16.68   -9298 2020-04-07 15:02:01\n",
       " 1rPCDA  16.74   -9280 2020-04-07 16:02:01\n",
       " 1rPCDA  16.88   -8366 2020-04-07 17:02:02,\n",
       " Empty DataFrame\n",
       " Columns: [last, volume, timestamp]\n",
       " Index: [])"
      ]
     },
     "execution_count": 11,
     "metadata": {},
     "output_type": "execute_result"
    }
   ],
   "source": [
    "df_stocks[df_stocks['volume'] < 0], df_stocks[df_stocks['last'] < 0]"
   ]
  },
  {
   "cell_type": "code",
   "execution_count": 12,
   "metadata": {},
   "outputs": [],
   "source": [
    "df_stocks.reset_index(inplace=True)\n",
    "df_stocks.set_index(\"timestamp\", inplace=True)"
   ]
  },
  {
   "cell_type": "code",
   "execution_count": 13,
   "metadata": {},
   "outputs": [
    {
     "data": {
      "text/html": [
       "<div>\n",
       "<style scoped>\n",
       "    .dataframe tbody tr th:only-of-type {\n",
       "        vertical-align: middle;\n",
       "    }\n",
       "\n",
       "    .dataframe tbody tr th {\n",
       "        vertical-align: top;\n",
       "    }\n",
       "\n",
       "    .dataframe thead th {\n",
       "        text-align: right;\n",
       "    }\n",
       "</style>\n",
       "<table border=\"1\" class=\"dataframe\">\n",
       "  <thead>\n",
       "    <tr style=\"text-align: right;\">\n",
       "      <th></th>\n",
       "      <th>symbol</th>\n",
       "      <th>last</th>\n",
       "      <th>volume</th>\n",
       "    </tr>\n",
       "    <tr>\n",
       "      <th>timestamp</th>\n",
       "      <th></th>\n",
       "      <th></th>\n",
       "      <th></th>\n",
       "    </tr>\n",
       "  </thead>\n",
       "  <tbody>\n",
       "    <tr>\n",
       "      <th>2020-04-07 09:02:01</th>\n",
       "      <td>1rPCDA</td>\n",
       "      <td>16.12</td>\n",
       "      <td>876</td>\n",
       "    </tr>\n",
       "    <tr>\n",
       "      <th>2020-04-07 10:02:01</th>\n",
       "      <td>1rPCDA</td>\n",
       "      <td>16.36</td>\n",
       "      <td>2108</td>\n",
       "    </tr>\n",
       "    <tr>\n",
       "      <th>2020-04-07 11:02:01</th>\n",
       "      <td>1rPCDA</td>\n",
       "      <td>16.40</td>\n",
       "      <td>4414</td>\n",
       "    </tr>\n",
       "    <tr>\n",
       "      <th>2020-04-07 12:02:02</th>\n",
       "      <td>1rPCDA</td>\n",
       "      <td>16.60</td>\n",
       "      <td>-12475</td>\n",
       "    </tr>\n",
       "    <tr>\n",
       "      <th>2020-04-07 13:02:02</th>\n",
       "      <td>1rPCDA</td>\n",
       "      <td>16.72</td>\n",
       "      <td>-10871</td>\n",
       "    </tr>\n",
       "    <tr>\n",
       "      <th>2020-04-07 14:02:02</th>\n",
       "      <td>1rPCDA</td>\n",
       "      <td>16.94</td>\n",
       "      <td>-9815</td>\n",
       "    </tr>\n",
       "    <tr>\n",
       "      <th>2020-04-07 15:02:01</th>\n",
       "      <td>1rPCDA</td>\n",
       "      <td>16.68</td>\n",
       "      <td>-9298</td>\n",
       "    </tr>\n",
       "    <tr>\n",
       "      <th>2020-04-07 16:02:01</th>\n",
       "      <td>1rPCDA</td>\n",
       "      <td>16.74</td>\n",
       "      <td>-9280</td>\n",
       "    </tr>\n",
       "    <tr>\n",
       "      <th>2020-04-07 17:02:02</th>\n",
       "      <td>1rPCDA</td>\n",
       "      <td>16.88</td>\n",
       "      <td>-8366</td>\n",
       "    </tr>\n",
       "  </tbody>\n",
       "</table>\n",
       "</div>"
      ],
      "text/plain": [
       "                     symbol   last  volume\n",
       "timestamp                                 \n",
       "2020-04-07 09:02:01  1rPCDA  16.12     876\n",
       "2020-04-07 10:02:01  1rPCDA  16.36    2108\n",
       "2020-04-07 11:02:01  1rPCDA  16.40    4414\n",
       "2020-04-07 12:02:02  1rPCDA  16.60  -12475\n",
       "2020-04-07 13:02:02  1rPCDA  16.72  -10871\n",
       "2020-04-07 14:02:02  1rPCDA  16.94   -9815\n",
       "2020-04-07 15:02:01  1rPCDA  16.68   -9298\n",
       "2020-04-07 16:02:01  1rPCDA  16.74   -9280\n",
       "2020-04-07 17:02:02  1rPCDA  16.88   -8366"
      ]
     },
     "execution_count": 13,
     "metadata": {},
     "output_type": "execute_result"
    }
   ],
   "source": [
    "pcda = df_stocks[df_stocks[\"symbol\"]==\"1rPCDA\" ]\n",
    "pcda.loc[\"2020-04-07\"]"
   ]
  },
  {
   "cell_type": "markdown",
   "metadata": {},
   "source": [
    "#### Show zero values for volume"
   ]
  },
  {
   "cell_type": "code",
   "execution_count": 14,
   "metadata": {},
   "outputs": [
    {
     "data": {
      "text/html": [
       "<div>\n",
       "<style scoped>\n",
       "    .dataframe tbody tr th:only-of-type {\n",
       "        vertical-align: middle;\n",
       "    }\n",
       "\n",
       "    .dataframe tbody tr th {\n",
       "        vertical-align: top;\n",
       "    }\n",
       "\n",
       "    .dataframe thead th {\n",
       "        text-align: right;\n",
       "    }\n",
       "</style>\n",
       "<table border=\"1\" class=\"dataframe\">\n",
       "  <thead>\n",
       "    <tr style=\"text-align: right;\">\n",
       "      <th></th>\n",
       "      <th>symbol</th>\n",
       "      <th>last</th>\n",
       "      <th>volume</th>\n",
       "    </tr>\n",
       "    <tr>\n",
       "      <th>timestamp</th>\n",
       "      <th></th>\n",
       "      <th></th>\n",
       "      <th></th>\n",
       "    </tr>\n",
       "  </thead>\n",
       "  <tbody>\n",
       "    <tr>\n",
       "      <th>2019-01-15 09:02:02</th>\n",
       "      <td>ABII</td>\n",
       "      <td>78.25</td>\n",
       "      <td>0</td>\n",
       "    </tr>\n",
       "    <tr>\n",
       "      <th>2019-01-15 09:02:02</th>\n",
       "      <td>ACCL</td>\n",
       "      <td>12.51</td>\n",
       "      <td>0</td>\n",
       "    </tr>\n",
       "    <tr>\n",
       "      <th>2019-01-15 09:02:02</th>\n",
       "      <td>ACTL</td>\n",
       "      <td>20.95</td>\n",
       "      <td>0</td>\n",
       "    </tr>\n",
       "    <tr>\n",
       "      <th>2019-01-15 09:02:02</th>\n",
       "      <td>ADGF</td>\n",
       "      <td>10.78</td>\n",
       "      <td>0</td>\n",
       "    </tr>\n",
       "    <tr>\n",
       "      <th>2019-01-15 09:02:02</th>\n",
       "      <td>AGAM</td>\n",
       "      <td>21.20</td>\n",
       "      <td>0</td>\n",
       "    </tr>\n",
       "    <tr>\n",
       "      <th>...</th>\n",
       "      <td>...</td>\n",
       "      <td>...</td>\n",
       "      <td>...</td>\n",
       "    </tr>\n",
       "    <tr>\n",
       "      <th>2023-12-21 17:02:02</th>\n",
       "      <td>1rPMLUMG</td>\n",
       "      <td>2.40</td>\n",
       "      <td>0</td>\n",
       "    </tr>\n",
       "    <tr>\n",
       "      <th>2023-12-21 17:02:02</th>\n",
       "      <td>1rPALUPG</td>\n",
       "      <td>1.80</td>\n",
       "      <td>0</td>\n",
       "    </tr>\n",
       "    <tr>\n",
       "      <th>2023-12-21 17:02:02</th>\n",
       "      <td>1rPMLVAL</td>\n",
       "      <td>14.30</td>\n",
       "      <td>0</td>\n",
       "    </tr>\n",
       "    <tr>\n",
       "      <th>2023-12-21 17:02:02</th>\n",
       "      <td>1rPMLVSY</td>\n",
       "      <td>0.99</td>\n",
       "      <td>0</td>\n",
       "    </tr>\n",
       "    <tr>\n",
       "      <th>2023-12-21 17:02:02</th>\n",
       "      <td>1rPALVIA</td>\n",
       "      <td>12.80</td>\n",
       "      <td>0</td>\n",
       "    </tr>\n",
       "  </tbody>\n",
       "</table>\n",
       "<p>1530353 rows × 3 columns</p>\n",
       "</div>"
      ],
      "text/plain": [
       "                       symbol   last  volume\n",
       "timestamp                                   \n",
       "2019-01-15 09:02:02      ABII  78.25       0\n",
       "2019-01-15 09:02:02      ACCL  12.51       0\n",
       "2019-01-15 09:02:02      ACTL  20.95       0\n",
       "2019-01-15 09:02:02      ADGF  10.78       0\n",
       "2019-01-15 09:02:02      AGAM  21.20       0\n",
       "...                       ...    ...     ...\n",
       "2023-12-21 17:02:02  1rPMLUMG   2.40       0\n",
       "2023-12-21 17:02:02  1rPALUPG   1.80       0\n",
       "2023-12-21 17:02:02  1rPMLVAL  14.30       0\n",
       "2023-12-21 17:02:02  1rPMLVSY   0.99       0\n",
       "2023-12-21 17:02:02  1rPALVIA  12.80       0\n",
       "\n",
       "[1530353 rows x 3 columns]"
      ]
     },
     "execution_count": 14,
     "metadata": {},
     "output_type": "execute_result"
    }
   ],
   "source": [
    "df_stocks[df_stocks['volume'] == 0]"
   ]
  },
  {
   "cell_type": "markdown",
   "metadata": {},
   "source": [
    "#### Show negatives values for last"
   ]
  },
  {
   "cell_type": "code",
   "execution_count": 15,
   "metadata": {},
   "outputs": [
    {
     "data": {
      "text/html": [
       "<div>\n",
       "<style scoped>\n",
       "    .dataframe tbody tr th:only-of-type {\n",
       "        vertical-align: middle;\n",
       "    }\n",
       "\n",
       "    .dataframe tbody tr th {\n",
       "        vertical-align: top;\n",
       "    }\n",
       "\n",
       "    .dataframe thead th {\n",
       "        text-align: right;\n",
       "    }\n",
       "</style>\n",
       "<table border=\"1\" class=\"dataframe\">\n",
       "  <thead>\n",
       "    <tr style=\"text-align: right;\">\n",
       "      <th></th>\n",
       "      <th>symbol</th>\n",
       "      <th>last</th>\n",
       "      <th>volume</th>\n",
       "    </tr>\n",
       "    <tr>\n",
       "      <th>timestamp</th>\n",
       "      <th></th>\n",
       "      <th></th>\n",
       "      <th></th>\n",
       "    </tr>\n",
       "  </thead>\n",
       "  <tbody>\n",
       "  </tbody>\n",
       "</table>\n",
       "</div>"
      ],
      "text/plain": [
       "Empty DataFrame\n",
       "Columns: [symbol, last, volume]\n",
       "Index: []"
      ]
     },
     "execution_count": 15,
     "metadata": {},
     "output_type": "execute_result"
    }
   ],
   "source": [
    "df_stocks[df_stocks['last'] < 0]"
   ]
  },
  {
   "cell_type": "markdown",
   "metadata": {},
   "source": [
    "#### Show zero values for last"
   ]
  },
  {
   "cell_type": "code",
   "execution_count": 16,
   "metadata": {},
   "outputs": [
    {
     "data": {
      "text/html": [
       "<div>\n",
       "<style scoped>\n",
       "    .dataframe tbody tr th:only-of-type {\n",
       "        vertical-align: middle;\n",
       "    }\n",
       "\n",
       "    .dataframe tbody tr th {\n",
       "        vertical-align: top;\n",
       "    }\n",
       "\n",
       "    .dataframe thead th {\n",
       "        text-align: right;\n",
       "    }\n",
       "</style>\n",
       "<table border=\"1\" class=\"dataframe\">\n",
       "  <thead>\n",
       "    <tr style=\"text-align: right;\">\n",
       "      <th></th>\n",
       "      <th>symbol</th>\n",
       "      <th>last</th>\n",
       "      <th>volume</th>\n",
       "    </tr>\n",
       "    <tr>\n",
       "      <th>timestamp</th>\n",
       "      <th></th>\n",
       "      <th></th>\n",
       "      <th></th>\n",
       "    </tr>\n",
       "  </thead>\n",
       "  <tbody>\n",
       "    <tr>\n",
       "      <th>2019-01-15 09:02:02</th>\n",
       "      <td>ALZH</td>\n",
       "      <td>0.0</td>\n",
       "      <td>0</td>\n",
       "    </tr>\n",
       "    <tr>\n",
       "      <th>2019-01-15 09:02:02</th>\n",
       "      <td>AMCI</td>\n",
       "      <td>0.0</td>\n",
       "      <td>0</td>\n",
       "    </tr>\n",
       "    <tr>\n",
       "      <th>2019-01-15 09:02:02</th>\n",
       "      <td>ZLIG</td>\n",
       "      <td>0.0</td>\n",
       "      <td>0</td>\n",
       "    </tr>\n",
       "    <tr>\n",
       "      <th>2019-01-15 09:02:02</th>\n",
       "      <td>ASBC</td>\n",
       "      <td>0.0</td>\n",
       "      <td>0</td>\n",
       "    </tr>\n",
       "    <tr>\n",
       "      <th>2019-01-15 09:02:02</th>\n",
       "      <td>BECM</td>\n",
       "      <td>0.0</td>\n",
       "      <td>0</td>\n",
       "    </tr>\n",
       "    <tr>\n",
       "      <th>...</th>\n",
       "      <td>...</td>\n",
       "      <td>...</td>\n",
       "      <td>...</td>\n",
       "    </tr>\n",
       "    <tr>\n",
       "      <th>2023-12-21 17:02:02</th>\n",
       "      <td>1rPALGEC</td>\n",
       "      <td>0.0</td>\n",
       "      <td>14464536</td>\n",
       "    </tr>\n",
       "    <tr>\n",
       "      <th>2023-12-21 17:02:02</th>\n",
       "      <td>1rPMLGLA</td>\n",
       "      <td>0.0</td>\n",
       "      <td>0</td>\n",
       "    </tr>\n",
       "    <tr>\n",
       "      <th>2023-12-21 17:02:02</th>\n",
       "      <td>1rP03227</td>\n",
       "      <td>0.0</td>\n",
       "      <td>0</td>\n",
       "    </tr>\n",
       "    <tr>\n",
       "      <th>2023-12-21 17:02:02</th>\n",
       "      <td>1rPALNEV</td>\n",
       "      <td>0.0</td>\n",
       "      <td>31020359</td>\n",
       "    </tr>\n",
       "    <tr>\n",
       "      <th>2023-12-21 17:02:02</th>\n",
       "      <td>1rPALPHA</td>\n",
       "      <td>0.0</td>\n",
       "      <td>65413237</td>\n",
       "    </tr>\n",
       "  </tbody>\n",
       "</table>\n",
       "<p>60799 rows × 3 columns</p>\n",
       "</div>"
      ],
      "text/plain": [
       "                       symbol  last    volume\n",
       "timestamp                                    \n",
       "2019-01-15 09:02:02      ALZH   0.0         0\n",
       "2019-01-15 09:02:02      AMCI   0.0         0\n",
       "2019-01-15 09:02:02      ZLIG   0.0         0\n",
       "2019-01-15 09:02:02      ASBC   0.0         0\n",
       "2019-01-15 09:02:02      BECM   0.0         0\n",
       "...                       ...   ...       ...\n",
       "2023-12-21 17:02:02  1rPALGEC   0.0  14464536\n",
       "2023-12-21 17:02:02  1rPMLGLA   0.0         0\n",
       "2023-12-21 17:02:02  1rP03227   0.0         0\n",
       "2023-12-21 17:02:02  1rPALNEV   0.0  31020359\n",
       "2023-12-21 17:02:02  1rPALPHA   0.0  65413237\n",
       "\n",
       "[60799 rows x 3 columns]"
      ]
     },
     "execution_count": 16,
     "metadata": {},
     "output_type": "execute_result"
    }
   ],
   "source": [
    "df_stocks[df_stocks['last'] == 0]"
   ]
  },
  {
   "cell_type": "markdown",
   "metadata": {},
   "source": [
    "#### Show max and min values for last"
   ]
  },
  {
   "cell_type": "code",
   "execution_count": 17,
   "metadata": {},
   "outputs": [
    {
     "data": {
      "text/html": [
       "<div>\n",
       "<style scoped>\n",
       "    .dataframe tbody tr th:only-of-type {\n",
       "        vertical-align: middle;\n",
       "    }\n",
       "\n",
       "    .dataframe tbody tr th {\n",
       "        vertical-align: top;\n",
       "    }\n",
       "\n",
       "    .dataframe thead th {\n",
       "        text-align: right;\n",
       "    }\n",
       "</style>\n",
       "<table border=\"1\" class=\"dataframe\">\n",
       "  <thead>\n",
       "    <tr style=\"text-align: right;\">\n",
       "      <th></th>\n",
       "      <th>symbol</th>\n",
       "      <th>last</th>\n",
       "      <th>volume</th>\n",
       "    </tr>\n",
       "    <tr>\n",
       "      <th>timestamp</th>\n",
       "      <th></th>\n",
       "      <th></th>\n",
       "      <th></th>\n",
       "    </tr>\n",
       "  </thead>\n",
       "  <tbody>\n",
       "    <tr>\n",
       "      <th>2019-01-15 09:02:02</th>\n",
       "      <td>1rPMALA</td>\n",
       "      <td>8750.0</td>\n",
       "      <td>0</td>\n",
       "    </tr>\n",
       "  </tbody>\n",
       "</table>\n",
       "</div>"
      ],
      "text/plain": [
       "                      symbol    last  volume\n",
       "timestamp                                   \n",
       "2019-01-15 09:02:02  1rPMALA  8750.0       0"
      ]
     },
     "execution_count": 17,
     "metadata": {},
     "output_type": "execute_result"
    }
   ],
   "source": [
    "df_stocks[df_stocks['last'] == df_stocks['last'].max()].head(1)"
   ]
  },
  {
   "cell_type": "code",
   "execution_count": 18,
   "metadata": {},
   "outputs": [
    {
     "data": {
      "text/html": [
       "<div>\n",
       "<style scoped>\n",
       "    .dataframe tbody tr th:only-of-type {\n",
       "        vertical-align: middle;\n",
       "    }\n",
       "\n",
       "    .dataframe tbody tr th {\n",
       "        vertical-align: top;\n",
       "    }\n",
       "\n",
       "    .dataframe thead th {\n",
       "        text-align: right;\n",
       "    }\n",
       "</style>\n",
       "<table border=\"1\" class=\"dataframe\">\n",
       "  <thead>\n",
       "    <tr style=\"text-align: right;\">\n",
       "      <th></th>\n",
       "      <th>symbol</th>\n",
       "      <th>last</th>\n",
       "      <th>volume</th>\n",
       "    </tr>\n",
       "    <tr>\n",
       "      <th>timestamp</th>\n",
       "      <th></th>\n",
       "      <th></th>\n",
       "      <th></th>\n",
       "    </tr>\n",
       "  </thead>\n",
       "  <tbody>\n",
       "    <tr>\n",
       "      <th>2019-01-15 09:02:02</th>\n",
       "      <td>ALZH</td>\n",
       "      <td>0.0</td>\n",
       "      <td>0</td>\n",
       "    </tr>\n",
       "  </tbody>\n",
       "</table>\n",
       "</div>"
      ],
      "text/plain": [
       "                    symbol  last  volume\n",
       "timestamp                               \n",
       "2019-01-15 09:02:02   ALZH   0.0       0"
      ]
     },
     "execution_count": 18,
     "metadata": {},
     "output_type": "execute_result"
    }
   ],
   "source": [
    "df_stocks[df_stocks['last'] == df_stocks['last'].min()].head(1)"
   ]
  },
  {
   "cell_type": "markdown",
   "metadata": {},
   "source": [
    "#### Show the max and min value of the volume "
   ]
  },
  {
   "cell_type": "markdown",
   "metadata": {},
   "source": [
    "## Write To Database"
   ]
  },
  {
   "cell_type": "code",
   "execution_count": 12,
   "metadata": {},
   "outputs": [],
   "source": [
    "symbol_to_companies = {\n",
    "        v: k for k, v in dict(db.raw_query(\"SELECT id, symbol FROM companies\")).items()\n",
    "    }"
   ]
  },
  {
   "cell_type": "markdown",
   "metadata": {},
   "source": [
    "### Update Stocks (OLD WAY)"
   ]
  },
  {
   "cell_type": "code",
   "execution_count": 13,
   "metadata": {},
   "outputs": [],
   "source": [
    "df_stocks[\"cid\"] = df_stocks[\"symbol\"].apply(\n",
    "    lambda x: symbol_to_companies.get(x, None)\n",
    ")\n",
    "df_stocks.rename(columns={\"timestamp\": \"date\", \"last\": \"value\"}, inplace=True)\n",
    "df_stocks = df_stocks[[\"date\", \"cid\", \"value\", \"volume\"]]"
   ]
  },
  {
   "cell_type": "code",
   "execution_count": 14,
   "metadata": {},
   "outputs": [],
   "source": [
    "df_stocks[\"cid\"] = df_stocks['cid'].astype(np.int16)\n",
    "df_stocks['value'] = df_stocks['value'].astype(np.float32)\n",
    "df_stocks['volume'] = df_stocks['volume'].astype(np.int64)"
   ]
  },
  {
   "cell_type": "markdown",
   "metadata": {},
   "source": [
    "#### Bottleneck"
   ]
  },
  {
   "cell_type": "code",
   "execution_count": 51,
   "metadata": {},
   "outputs": [],
   "source": [
    "db.df_write(df_stocks, \"stocks\", index=False)"
   ]
  },
  {
   "cell_type": "markdown",
   "metadata": {},
   "source": [
    "#### NEW WAY"
   ]
  },
  {
   "cell_type": "code",
   "execution_count": 16,
   "metadata": {},
   "outputs": [],
   "source": [
    "chunks = np.array_split(df_stocks, 8)"
   ]
  },
  {
   "cell_type": "code",
   "execution_count": null,
   "metadata": {},
   "outputs": [],
   "source": [
    "with ThreadPoolExecutor(max_workers=8) as executor:\n",
    "    futures = [executor.submit(db.copy_from_stringio, chunk, \"stocks\") for chunk in chunks]\n",
    "    for future in futures:\n",
    "        future.result() "
   ]
  },
  {
   "cell_type": "code",
   "execution_count": 87,
   "metadata": {},
   "outputs": [],
   "source": [
    "db.copy_from_stringio(df_stocks, \"stocks\")"
   ]
  },
  {
   "cell_type": "markdown",
   "metadata": {},
   "source": [
    "# Days Stocks"
   ]
  },
  {
   "cell_type": "code",
   "execution_count": 92,
   "metadata": {},
   "outputs": [],
   "source": [
    "from datetime import datetime, timedelta, date\n",
    "\n",
    "dates_group = [\n",
    "    datetime.date(datetime(2019, 1, 1)),\n",
    "    datetime.date(datetime(2019, 1, 2)),\n",
    "]"
   ]
  },
  {
   "cell_type": "code",
   "execution_count": 114,
   "metadata": {},
   "outputs": [],
   "source": [
    "def update_daystocks(db, dates_group: list[date]):\n",
    "  db.execute(\n",
    "        f\"\"\"\n",
    "  INSERT INTO daystocks (date, cid, open, close, high, low, volume)\n",
    "  SELECT\n",
    "  DATE(date) AS date,\n",
    "  cid,\n",
    "  FIRST(value, date) AS open,\n",
    "  LAST(value, date) AS close,\n",
    "  MAX(value) AS high,\n",
    "  MIN(value) AS low,\n",
    "  LAST(volume, date) AS volume\n",
    "  FROM\n",
    "  stocks\n",
    "  WHERE\n",
    "  date > '{dates_group[0]}' and date < '{dates_group[1] +timedelta(days=1)}'\n",
    "  GROUP BY\n",
    "    cid,\n",
    "    DATE(date)\n",
    "  ORDER BY\n",
    "    DATE(date) DESC\n",
    "  \"\"\", commit = True\n",
    "    )"
   ]
  },
  {
   "cell_type": "code",
   "execution_count": 115,
   "metadata": {},
   "outputs": [
    {
     "name": "stdout",
     "output_type": "stream",
     "text": [
      "start\n",
      "commit\n"
     ]
    }
   ],
   "source": [
    "update_daystocks(db, dates_group)"
   ]
  },
  {
   "cell_type": "markdown",
   "metadata": {},
   "source": [
    "## Reset File done"
   ]
  },
  {
   "cell_type": "markdown",
   "metadata": {},
   "source": [
    "##### Select just 2023 december files"
   ]
  },
  {
   "cell_type": "code",
   "execution_count": null,
   "metadata": {},
   "outputs": [],
   "source": [
    "db.raw_query(\n",
    "    \"\"\"SELECT name\n",
    "FROM file_done\n",
    "WHERE EXTRACT(MONTH FROM TO_TIMESTAMP(RIGHT(name, 30), 'YYYY-MM-DD HH24:MI:SS')) = 12\n",
    "AND EXTRACT(YEAR FROM TO_TIMESTAMP(RIGHT(name, 30), 'YYYY-MM-DD HH24:MI:SS')) = 2023\n",
    "ORDER BY name DESC\"\"\"\n",
    ")"
   ]
  },
  {
   "cell_type": "markdown",
   "metadata": {},
   "source": [
    "## Python script"
   ]
  },
  {
   "cell_type": "code",
   "execution_count": 51,
   "metadata": {},
   "outputs": [],
   "source": [
    "db.clean_database()\n",
    "db._setup_database()"
   ]
  }
 ],
 "metadata": {
  "kernelspec": {
   "display_name": "big_data_bourse",
   "language": "python",
   "name": "python3"
  },
  "language_info": {
   "codemirror_mode": {
    "name": "ipython",
    "version": 3
   },
   "file_extension": ".py",
   "mimetype": "text/x-python",
   "name": "python",
   "nbconvert_exporter": "python",
   "pygments_lexer": "ipython3",
   "version": "3.10.12"
  }
 },
 "nbformat": 4,
 "nbformat_minor": 2
}
