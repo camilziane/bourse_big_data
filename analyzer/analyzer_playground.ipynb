{
 "cells": [
  {
   "cell_type": "code",
   "execution_count": 1,
   "metadata": {},
   "outputs": [],
   "source": [
    "%load_ext autoreload\n",
    "%autoreload 2"
   ]
  },
  {
   "cell_type": "code",
   "execution_count": 2,
   "metadata": {},
   "outputs": [
    {
     "name": "stdout",
     "output_type": "stream",
     "text": [
      "Logs of timescaledb_model go to ../data/bourse.log\n"
     ]
    }
   ],
   "source": [
    "import pandas as pd\n",
    "import numpy as np\n",
    "import timescaledb_model as tsdb\n",
    "from analyze import get_files_infos_df, store_file, get_files_infos_windows_df\n",
    "from tqdm import tqdm \n",
    "from utils import multi_read_df_from_paths\n",
    "from constant import DATA_PATH\n",
    "import os"
   ]
  },
  {
   "cell_type": "code",
   "execution_count": 3,
   "metadata": {},
   "outputs": [],
   "source": [
    "# files_info_path = os.path.join(DATA_PATH, 'files_infos.pkl')\n",
    "# files_infos_df = get_files_infos_df()\n",
    "# files_infos_df = get_files_infos_windows_df()  # for windows\n",
    "# files_infos_df.to_pickle(files_info_path)"
   ]
  },
  {
   "cell_type": "markdown",
   "metadata": {},
   "source": [
    "## Files Dataframe - Filtering\n",
    "1 hour for each Last day of Each month"
   ]
  },
  {
   "cell_type": "code",
   "execution_count": 4,
   "metadata": {},
   "outputs": [],
   "source": [
    "files_infos_df = get_files_infos_df(files_info_path)\n",
    "# files_infos_df = get_files_infos_windows_df(files_info_path) #for windows"
   ]
  },
  {
   "cell_type": "code",
   "execution_count": 240,
   "metadata": {},
   "outputs": [],
   "source": [
    "np.random.seed(42)\n",
    "dates_to_take = files_infos_df.groupby([files_infos_df[\"year_month\"]]).apply(lambda x :x.sample(n=1)).reset_index(drop=True)[\"date\"]\n",
    "file_infos_df_filtered = files_infos_df[files_infos_df[\"date\"].isin(dates_to_take)]"
   ]
  },
  {
   "cell_type": "code",
   "execution_count": 199,
   "metadata": {},
   "outputs": [],
   "source": [
    "file_infos_df_filtered[\"hour\"] = file_infos_df_filtered.index.hour\n",
    "file_infos_df_filtered = file_infos_df_filtered.groupby([file_infos_df_filtered[\"date\"], file_infos_df_filtered[\"hour\"], file_infos_df_filtered[\"market\"]]).first().reset_index()"
   ]
  },
  {
   "cell_type": "code",
   "execution_count": 200,
   "metadata": {},
   "outputs": [],
   "source": [
    "# dfs = multi_read_df_from_paths(list(file_infos_df_filtered[\"path\"]))"
   ]
  },
  {
   "cell_type": "code",
   "execution_count": null,
   "metadata": {},
   "outputs": [],
   "source": [
    "# prefixes = set()\n",
    "# for i, df in enumerate(dfs):\n",
    "#     current_prefixes = get_prefix(df)\n",
    "#     if not current_prefixes.issubset(prefixes):\n",
    "#         prefixes = prefixes.union(current_prefixes)\n",
    "#         # print(current_prefixes, i)\n",
    "# prefixes"
   ]
  },
  {
   "cell_type": "markdown",
   "metadata": {},
   "source": [
    "## PEA PME - Symbol NF handling"
   ]
  },
  {
   "cell_type": "markdown",
   "metadata": {},
   "source": [
    "### Check if every files from PEA PME have the same prefixes"
   ]
  },
  {
   "cell_type": "code",
   "execution_count": 213,
   "metadata": {},
   "outputs": [
    {
     "name": "stderr",
     "output_type": "stream",
     "text": [
      "100%|██████████| 34804/34804 [02:35<00:00, 224.47it/s]\n"
     ]
    }
   ],
   "source": [
    "dfs = multi_read_df_from_paths(list(file_infos_df_filtered[file_infos_df_filtered[\"market\"] == \"peapme\"] [\"path\"]))"
   ]
  },
  {
   "cell_type": "code",
   "execution_count": 203,
   "metadata": {},
   "outputs": [],
   "source": [
    "def get_prefix(df: pd.DataFrame, prefix_function = lambda x : x[0:3]) -> set:\n",
    "    df[\"prefix\"] = df[\"symbol\"].apply(prefix_function)\n",
    "    return set(df[\"prefix\"].unique())\n"
   ]
  },
  {
   "cell_type": "code",
   "execution_count": 205,
   "metadata": {},
   "outputs": [],
   "source": [
    "map_prefix_to_symbol_nf = {\n",
    "    \"1rP\": lambda x: x[3:].split(\"_\")[0] if len(x) != 15 else np.nan, #EuroNext Pars\n",
    "    \"1rA\": lambda x: x[3:], #EuroNext Amsterdam\n",
    "    \"1rE\": lambda x: x[4:], #EuroNext Paris Real Time \n",
    "    \"FF1\": lambda x: x.split(\"_\")[1][0:], #EuroNext Brussels\n",
    "}"
   ]
  },
  {
   "cell_type": "code",
   "execution_count": 206,
   "metadata": {},
   "outputs": [],
   "source": [
    "def filter_df(df: pd.DataFrame) -> pd.DataFrame:\n",
    "    df = df[df[\"last\"] != 0]\n",
    "    return df\n",
    "\n",
    "def add_symbol_nf_column(df: pd.DataFrame, map_prefix_to_symbol_nf: dict) -> pd.DataFrame:\n",
    "    df[\"prefix\"] = df[\"symbol\"].apply(lambda x: x[0:3])\n",
    "    df[\"symbol_nf\"] = df.apply(\n",
    "        lambda x: map_prefix_to_symbol_nf.get(x[\"prefix\"], lambda _: x[\"symbol\"])(x[\"symbol\"]),\n",
    "        axis=1,\n",
    "    )\n",
    "    return df"
   ]
  },
  {
   "cell_type": "code",
   "execution_count": 207,
   "metadata": {},
   "outputs": [],
   "source": [
    "df = filter_df(dfs[-1])\n",
    "df = add_symbol_nf_column(df, map_prefix_to_symbol_nf)"
   ]
  },
  {
   "cell_type": "code",
   "execution_count": 208,
   "metadata": {},
   "outputs": [
    {
     "data": {
      "text/html": [
       "<div>\n",
       "<style scoped>\n",
       "    .dataframe tbody tr th:only-of-type {\n",
       "        vertical-align: middle;\n",
       "    }\n",
       "\n",
       "    .dataframe tbody tr th {\n",
       "        vertical-align: top;\n",
       "    }\n",
       "\n",
       "    .dataframe thead th {\n",
       "        text-align: right;\n",
       "    }\n",
       "</style>\n",
       "<table border=\"1\" class=\"dataframe\">\n",
       "  <thead>\n",
       "    <tr style=\"text-align: right;\">\n",
       "      <th></th>\n",
       "      <th>last</th>\n",
       "      <th>volume</th>\n",
       "      <th>symbol</th>\n",
       "      <th>name</th>\n",
       "      <th>last_suffix</th>\n",
       "      <th>prefix</th>\n",
       "      <th>symbol_nf</th>\n",
       "      <th>len</th>\n",
       "    </tr>\n",
       "    <tr>\n",
       "      <th>symbol</th>\n",
       "      <th></th>\n",
       "      <th></th>\n",
       "      <th></th>\n",
       "      <th></th>\n",
       "      <th></th>\n",
       "      <th></th>\n",
       "      <th></th>\n",
       "      <th></th>\n",
       "    </tr>\n",
       "  </thead>\n",
       "  <tbody>\n",
       "    <tr>\n",
       "      <th>1rEPALMIL</th>\n",
       "      <td>23.600</td>\n",
       "      <td>0</td>\n",
       "      <td>1rEPALMIL</td>\n",
       "      <td>1000MERCIS</td>\n",
       "      <td>c</td>\n",
       "      <td>1rE</td>\n",
       "      <td>ALMIL</td>\n",
       "      <td>5</td>\n",
       "    </tr>\n",
       "    <tr>\n",
       "      <th>1rEPALMAS</th>\n",
       "      <td>0.020</td>\n",
       "      <td>0</td>\n",
       "      <td>1rEPALMAS</td>\n",
       "      <td>MASTRAD</td>\n",
       "      <td>s</td>\n",
       "      <td>1rE</td>\n",
       "      <td>ALMAS</td>\n",
       "      <td>5</td>\n",
       "    </tr>\n",
       "    <tr>\n",
       "      <th>1rPMLCLI</th>\n",
       "      <td>1.980</td>\n",
       "      <td>0</td>\n",
       "      <td>1rPMLCLI</td>\n",
       "      <td>MAISON CLIO</td>\n",
       "      <td>c</td>\n",
       "      <td>1rP</td>\n",
       "      <td>MLCLI</td>\n",
       "      <td>5</td>\n",
       "    </tr>\n",
       "    <tr>\n",
       "      <th>1rPMLMAD_OTC</th>\n",
       "      <td>7.500</td>\n",
       "      <td>0</td>\n",
       "      <td>1rPMLMAD_OTC</td>\n",
       "      <td>MADE</td>\n",
       "      <td>c</td>\n",
       "      <td>1rP</td>\n",
       "      <td>MLMAD</td>\n",
       "      <td>5</td>\n",
       "    </tr>\n",
       "    <tr>\n",
       "      <th>1rPALMII</th>\n",
       "      <td>3.720</td>\n",
       "      <td>601</td>\n",
       "      <td>1rPALMII</td>\n",
       "      <td>M2I</td>\n",
       "      <td>NaN</td>\n",
       "      <td>1rP</td>\n",
       "      <td>ALMII</td>\n",
       "      <td>5</td>\n",
       "    </tr>\n",
       "    <tr>\n",
       "      <th>...</th>\n",
       "      <td>...</td>\n",
       "      <td>...</td>\n",
       "      <td>...</td>\n",
       "      <td>...</td>\n",
       "      <td>...</td>\n",
       "      <td>...</td>\n",
       "      <td>...</td>\n",
       "      <td>...</td>\n",
       "    </tr>\n",
       "    <tr>\n",
       "      <th>1rPEQS</th>\n",
       "      <td>57.000</td>\n",
       "      <td>3914</td>\n",
       "      <td>1rPEQS</td>\n",
       "      <td>SRDEQUASENS</td>\n",
       "      <td>NaN</td>\n",
       "      <td>1rP</td>\n",
       "      <td>EQS</td>\n",
       "      <td>3</td>\n",
       "    </tr>\n",
       "    <tr>\n",
       "      <th>1rPIPH</th>\n",
       "      <td>2.295</td>\n",
       "      <td>108349</td>\n",
       "      <td>1rPIPH</td>\n",
       "      <td>SRDINNATE PHARMA</td>\n",
       "      <td>NaN</td>\n",
       "      <td>1rP</td>\n",
       "      <td>IPH</td>\n",
       "      <td>3</td>\n",
       "    </tr>\n",
       "    <tr>\n",
       "      <th>1rPGV</th>\n",
       "      <td>0.002</td>\n",
       "      <td>0</td>\n",
       "      <td>1rPGV</td>\n",
       "      <td>GENOMIC VISION</td>\n",
       "      <td>s</td>\n",
       "      <td>1rP</td>\n",
       "      <td>GV</td>\n",
       "      <td>2</td>\n",
       "    </tr>\n",
       "    <tr>\n",
       "      <th>1rPAB</th>\n",
       "      <td>2.920</td>\n",
       "      <td>38285</td>\n",
       "      <td>1rPAB</td>\n",
       "      <td>SRDAB SCIENCE</td>\n",
       "      <td>NaN</td>\n",
       "      <td>1rP</td>\n",
       "      <td>AB</td>\n",
       "      <td>2</td>\n",
       "    </tr>\n",
       "    <tr>\n",
       "      <th>1rPSX</th>\n",
       "      <td>11.500</td>\n",
       "      <td>0</td>\n",
       "      <td>1rPSX</td>\n",
       "      <td>CS GROUP</td>\n",
       "      <td>c</td>\n",
       "      <td>1rP</td>\n",
       "      <td>SX</td>\n",
       "      <td>2</td>\n",
       "    </tr>\n",
       "  </tbody>\n",
       "</table>\n",
       "<p>435 rows × 8 columns</p>\n",
       "</div>"
      ],
      "text/plain": [
       "                last  volume        symbol              name last_suffix  \\\n",
       "symbol                                                                     \n",
       "1rEPALMIL     23.600       0     1rEPALMIL        1000MERCIS           c   \n",
       "1rEPALMAS      0.020       0     1rEPALMAS           MASTRAD           s   \n",
       "1rPMLCLI       1.980       0      1rPMLCLI       MAISON CLIO           c   \n",
       "1rPMLMAD_OTC   7.500       0  1rPMLMAD_OTC              MADE           c   \n",
       "1rPALMII       3.720     601      1rPALMII               M2I         NaN   \n",
       "...              ...     ...           ...               ...         ...   \n",
       "1rPEQS        57.000    3914        1rPEQS       SRDEQUASENS         NaN   \n",
       "1rPIPH         2.295  108349        1rPIPH  SRDINNATE PHARMA         NaN   \n",
       "1rPGV          0.002       0         1rPGV    GENOMIC VISION           s   \n",
       "1rPAB          2.920   38285         1rPAB     SRDAB SCIENCE         NaN   \n",
       "1rPSX         11.500       0         1rPSX          CS GROUP           c   \n",
       "\n",
       "             prefix symbol_nf  len  \n",
       "symbol                              \n",
       "1rEPALMIL       1rE     ALMIL    5  \n",
       "1rEPALMAS       1rE     ALMAS    5  \n",
       "1rPMLCLI        1rP     MLCLI    5  \n",
       "1rPMLMAD_OTC    1rP     MLMAD    5  \n",
       "1rPALMII        1rP     ALMII    5  \n",
       "...             ...       ...  ...  \n",
       "1rPEQS          1rP       EQS    3  \n",
       "1rPIPH          1rP       IPH    3  \n",
       "1rPGV           1rP        GV    2  \n",
       "1rPAB           1rP        AB    2  \n",
       "1rPSX           1rP        SX    2  \n",
       "\n",
       "[435 rows x 8 columns]"
      ]
     },
     "execution_count": 208,
     "metadata": {},
     "output_type": "execute_result"
    }
   ],
   "source": [
    "df[\"len\"] = df[\"symbol_nf\"].apply(len)\n",
    "df.sort_values(\"len\", ascending=False)"
   ]
  },
  {
   "cell_type": "code",
   "execution_count": 215,
   "metadata": {},
   "outputs": [],
   "source": [
    "df_all_days = pd.concat(dfs)"
   ]
  },
  {
   "cell_type": "code",
   "execution_count": 222,
   "metadata": {},
   "outputs": [],
   "source": [
    "df_all_days_grouped = df_all_days.reset_index(drop=True).groupby([\"symbol\", \"name\"]).count()"
   ]
  },
  {
   "cell_type": "code",
   "execution_count": 252,
   "metadata": {},
   "outputs": [
    {
     "data": {
      "text/html": [
       "<div>\n",
       "<style scoped>\n",
       "    .dataframe tbody tr th:only-of-type {\n",
       "        vertical-align: middle;\n",
       "    }\n",
       "\n",
       "    .dataframe tbody tr th {\n",
       "        vertical-align: top;\n",
       "    }\n",
       "\n",
       "    .dataframe thead th {\n",
       "        text-align: right;\n",
       "    }\n",
       "</style>\n",
       "<table border=\"1\" class=\"dataframe\">\n",
       "  <thead>\n",
       "    <tr style=\"text-align: right;\">\n",
       "      <th></th>\n",
       "      <th>last</th>\n",
       "      <th>volume</th>\n",
       "      <th>last_suffix</th>\n",
       "      <th>name</th>\n",
       "    </tr>\n",
       "    <tr>\n",
       "      <th>symbol</th>\n",
       "      <th></th>\n",
       "      <th></th>\n",
       "      <th></th>\n",
       "      <th></th>\n",
       "    </tr>\n",
       "  </thead>\n",
       "  <tbody>\n",
       "    <tr>\n",
       "      <th>1rAADUX</th>\n",
       "      <td>34803</td>\n",
       "      <td>34803</td>\n",
       "      <td>5133</td>\n",
       "      <td>ADUX</td>\n",
       "    </tr>\n",
       "    <tr>\n",
       "      <th>1rABESI</th>\n",
       "      <td>34803</td>\n",
       "      <td>34803</td>\n",
       "      <td>3795</td>\n",
       "      <td>BESI</td>\n",
       "    </tr>\n",
       "    <tr>\n",
       "      <th>1rEPALANT</th>\n",
       "      <td>10844</td>\n",
       "      <td>10844</td>\n",
       "      <td>362</td>\n",
       "      <td>ANTEVENIO</td>\n",
       "    </tr>\n",
       "    <tr>\n",
       "      <th>1rEPALAQU</th>\n",
       "      <td>34782</td>\n",
       "      <td>34782</td>\n",
       "      <td>21699</td>\n",
       "      <td>AQUILA</td>\n",
       "    </tr>\n",
       "    <tr>\n",
       "      <th>1rEPALBDM</th>\n",
       "      <td>34775</td>\n",
       "      <td>34775</td>\n",
       "      <td>7336</td>\n",
       "      <td>BD MULTI MEDIA</td>\n",
       "    </tr>\n",
       "    <tr>\n",
       "      <th>...</th>\n",
       "      <td>...</td>\n",
       "      <td>...</td>\n",
       "      <td>...</td>\n",
       "      <td>...</td>\n",
       "    </tr>\n",
       "    <tr>\n",
       "      <th>FF11_EVS</th>\n",
       "      <td>34803</td>\n",
       "      <td>34803</td>\n",
       "      <td>2820</td>\n",
       "      <td>EVS BROADCAST EQU</td>\n",
       "    </tr>\n",
       "    <tr>\n",
       "      <th>FF11_GKTX</th>\n",
       "      <td>20058</td>\n",
       "      <td>20058</td>\n",
       "      <td>13762</td>\n",
       "      <td>GENKYOTEX</td>\n",
       "    </tr>\n",
       "    <tr>\n",
       "      <th>FF11_KIN</th>\n",
       "      <td>34803</td>\n",
       "      <td>34803</td>\n",
       "      <td>2680</td>\n",
       "      <td>KINEPOLIS GROUP</td>\n",
       "    </tr>\n",
       "    <tr>\n",
       "      <th>FF11_MLMAZ</th>\n",
       "      <td>21097</td>\n",
       "      <td>21097</td>\n",
       "      <td>18756</td>\n",
       "      <td>MAZARO</td>\n",
       "    </tr>\n",
       "    <tr>\n",
       "      <th>FF11_VRAP</th>\n",
       "      <td>34802</td>\n",
       "      <td>34802</td>\n",
       "      <td>5069</td>\n",
       "      <td>VRANKEN-POMMERY MO.</td>\n",
       "    </tr>\n",
       "  </tbody>\n",
       "</table>\n",
       "<p>683 rows × 4 columns</p>\n",
       "</div>"
      ],
      "text/plain": [
       "             last  volume  last_suffix                 name\n",
       "symbol                                                     \n",
       "1rAADUX     34803   34803         5133                 ADUX\n",
       "1rABESI     34803   34803         3795                 BESI\n",
       "1rEPALANT   10844   10844          362            ANTEVENIO\n",
       "1rEPALAQU   34782   34782        21699               AQUILA\n",
       "1rEPALBDM   34775   34775         7336       BD MULTI MEDIA\n",
       "...           ...     ...          ...                  ...\n",
       "FF11_EVS    34803   34803         2820    EVS BROADCAST EQU\n",
       "FF11_GKTX   20058   20058        13762            GENKYOTEX\n",
       "FF11_KIN    34803   34803         2680      KINEPOLIS GROUP\n",
       "FF11_MLMAZ  21097   21097        18756               MAZARO\n",
       "FF11_VRAP   34802   34802         5069  VRANKEN-POMMERY MO.\n",
       "\n",
       "[683 rows x 4 columns]"
      ]
     },
     "execution_count": 252,
     "metadata": {},
     "output_type": "execute_result"
    }
   ],
   "source": [
    "df_all_days_grouped[\"name\"] = df_all_days_grouped.index.get_level_values(1)\n",
    "df_filtered = df_all_days_grouped.groupby(df_all_days_grouped.index.get_level_values(0)).last()\n",
    "df_filtered"
   ]
  },
  {
   "cell_type": "code",
   "execution_count": null,
   "metadata": {},
   "outputs": [],
   "source": [
    "def pea_pme_df_to_companies(dfs: list[pd.DataFrame]):\n",
    "    #TODO\n",
    "    ..."
   ]
  },
  {
   "cell_type": "markdown",
   "metadata": {},
   "source": [
    "## CompA - Symbol NF handling"
   ]
  }
 ],
 "metadata": {
  "kernelspec": {
   "display_name": "big_data_bourse",
   "language": "python",
   "name": "python3"
  },
  "language_info": {
   "codemirror_mode": {
    "name": "ipython",
    "version": 3
   },
   "file_extension": ".py",
   "mimetype": "text/x-python",
   "name": "python",
   "nbconvert_exporter": "python",
   "pygments_lexer": "ipython3",
   "version": "3.10.12"
  }
 },
 "nbformat": 4,
 "nbformat_minor": 2
}
