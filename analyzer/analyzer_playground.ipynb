{
 "cells": [
  {
   "cell_type": "code",
   "execution_count": 1,
   "metadata": {},
   "outputs": [],
   "source": [
    "%load_ext autoreload\n",
    "%autoreload 2"
   ]
  },
  {
   "cell_type": "code",
   "execution_count": 3,
   "metadata": {},
   "outputs": [
    {
     "name": "stdout",
     "output_type": "stream",
     "text": [
      "Logs of timescaledb_model go to ../data/bourse.log\n"
     ]
    }
   ],
   "source": [
    "import pandas as pd\n",
    "import numpy as np\n",
    "import timescaledb_model as tsdb\n",
    "from analyze import get_files_infos_df, store_file, get_files_infos_windows_df\n",
    "from tqdm import tqdm \n",
    "from utils import multi_read_df_from_paths\n",
    "from constant import DATA_PATH\n",
    "import os"
   ]
  },
  {
   "cell_type": "code",
   "execution_count": 4,
   "metadata": {},
   "outputs": [],
   "source": [
    "files_info_path = os.path.join(DATA_PATH, 'files_infos.pkl')\n",
    "files_infos_df = get_files_infos_df()\n",
    "# files_infos_df = get_files_infos_windows_df()  # for windows\n",
    "files_infos_df.to_pickle(files_info_path)"
   ]
  },
  {
   "cell_type": "markdown",
   "metadata": {},
   "source": [
    "## Files Dataframe - Filtering\n",
    "1 hour for each Last day of Each month"
   ]
  },
  {
   "cell_type": "code",
   "execution_count": 5,
   "metadata": {},
   "outputs": [],
   "source": [
    "files_infos_df = get_files_infos_df(files_info_path)\n",
    "# files_infos_df = get_files_infos_windows_df(files_info_path) #for windows"
   ]
  },
  {
   "cell_type": "code",
   "execution_count": 6,
   "metadata": {},
   "outputs": [
    {
     "name": "stderr",
     "output_type": "stream",
     "text": [
      "/var/folders/lb/9z4xr9hd1013w3_cbsw1p6600000gn/T/ipykernel_34634/525646213.py:2: DeprecationWarning: DataFrameGroupBy.apply operated on the grouping columns. This behavior is deprecated, and in a future version of pandas the grouping columns will be excluded from the operation. Either pass `include_groups=False` to exclude the groupings or explicitly select the grouping columns after groupby to silence this warning.\n",
      "  dates_to_take = files_infos_df.groupby([files_infos_df[\"year_month\"]]).apply(lambda x :x.sample(n=1)).reset_index(drop=True)[\"date\"]\n"
     ]
    }
   ],
   "source": [
    "np.random.seed(0)\n",
    "dates_to_take = files_infos_df.groupby([files_infos_df[\"year_month\"]]).apply(lambda x :x.sample(n=1)).reset_index(drop=True)[\"date\"]\n",
    "file_infos_df_filtered = files_infos_df[files_infos_df[\"date\"].isin(dates_to_take)]"
   ]
  },
  {
   "cell_type": "code",
   "execution_count": 7,
   "metadata": {},
   "outputs": [
    {
     "name": "stderr",
     "output_type": "stream",
     "text": [
      "/var/folders/lb/9z4xr9hd1013w3_cbsw1p6600000gn/T/ipykernel_34634/3272020381.py:1: SettingWithCopyWarning: \n",
      "A value is trying to be set on a copy of a slice from a DataFrame.\n",
      "Try using .loc[row_indexer,col_indexer] = value instead\n",
      "\n",
      "See the caveats in the documentation: https://pandas.pydata.org/pandas-docs/stable/user_guide/indexing.html#returning-a-view-versus-a-copy\n",
      "  file_infos_df_filtered[\"hour\"] = file_infos_df_filtered.index.hour\n"
     ]
    }
   ],
   "source": [
    "file_infos_df_filtered[\"hour\"] = file_infos_df_filtered.index.hour\n",
    "file_infos_df_filtered = file_infos_df_filtered.groupby([file_infos_df_filtered[\"date\"], file_infos_df_filtered[\"hour\"], file_infos_df_filtered[\"market\"]]).first().reset_index()"
   ]
  },
  {
   "cell_type": "code",
   "execution_count": 8,
   "metadata": {},
   "outputs": [],
   "source": [
    "# dfs = multi_read_df_from_paths(list(file_infos_df_filtered[\"path\"]))"
   ]
  },
  {
   "cell_type": "markdown",
   "metadata": {},
   "source": [
    "## PEA PME - Symbol NF handling"
   ]
  },
  {
   "cell_type": "markdown",
   "metadata": {},
   "source": [
    "### Check if every files from PEA PME have the same prefixes"
   ]
  },
  {
   "cell_type": "code",
   "execution_count": 9,
   "metadata": {},
   "outputs": [
    {
     "name": "stderr",
     "output_type": "stream",
     "text": [
      " 22%|██▏       | 71/324 [00:00<00:00, 705.55it/s]"
     ]
    },
    {
     "name": "stderr",
     "output_type": "stream",
     "text": [
      "100%|██████████| 324/324 [00:02<00:00, 149.59it/s]\n"
     ]
    }
   ],
   "source": [
    "dfs = multi_read_df_from_paths(list(file_infos_df_filtered[file_infos_df_filtered[\"market\"] == \"peapme\"] [\"path\"]))"
   ]
  },
  {
   "cell_type": "code",
   "execution_count": 10,
   "metadata": {},
   "outputs": [],
   "source": [
    "def get_prefix(df: pd.DataFrame, prefix_function = lambda x : x[0:3]) -> set:\n",
    "    df[\"prefix\"] = df[\"symbol\"].apply(prefix_function)\n",
    "    return set(df[\"prefix\"].unique())\n"
   ]
  },
  {
   "cell_type": "code",
   "execution_count": 11,
   "metadata": {},
   "outputs": [],
   "source": [
    "# prefixes = set()\n",
    "# for i, df in enumerate(dfs):\n",
    "#     current_prefixes = get_prefix(df)\n",
    "#     if not current_prefixes.issubset(prefixes):\n",
    "#         prefixes = prefixes.union(current_prefixes)\n",
    "#         # print(current_prefixes, i)\n",
    "# prefixes"
   ]
  },
  {
   "cell_type": "code",
   "execution_count": 12,
   "metadata": {},
   "outputs": [],
   "source": [
    "map_prefix_to_symbol_nf = {\n",
    "    \"1rP\": lambda x: x[3:].split(\"_\")[0] if len(x) != 15 else np.nan,\n",
    "    \"1rA\": lambda x: x[3:],\n",
    "    \"1rE\": lambda x: x[4:],\n",
    "    \"FF1\": lambda x: x.split(\"_\")[1][0:],\n",
    "}"
   ]
  },
  {
   "cell_type": "code",
   "execution_count": 13,
   "metadata": {},
   "outputs": [],
   "source": [
    "def filter_df(df: pd.DataFrame) -> pd.DataFrame:\n",
    "    df = df[df[\"last\"] != 0]\n",
    "    return df\n",
    "\n",
    "def add_symbol_nf_column(df: pd.DataFrame, map_prefix_to_symbol_nf: dict) -> pd.DataFrame:\n",
    "    df[\"prefix\"] = df[\"symbol\"].apply(lambda x: x[0:3])\n",
    "    df[\"symbol_nf\"] = df.apply(\n",
    "        lambda x: map_prefix_to_symbol_nf.get(x[\"prefix\"], lambda _: x[\"symbol\"])(x[\"symbol\"]),\n",
    "        axis=1,\n",
    "    )\n",
    "    return df"
   ]
  },
  {
   "cell_type": "code",
   "execution_count": 14,
   "metadata": {},
   "outputs": [],
   "source": [
    "df = filter_df(dfs[0])\n",
    "df = add_symbol_nf_column(df, map_prefix_to_symbol_nf)\n",
    "symbol_nfs = set(df[\"symbol_nf\"].unique())"
   ]
  },
  {
   "cell_type": "code",
   "execution_count": 15,
   "metadata": {},
   "outputs": [
    {
     "data": {
      "text/html": [
       "<div>\n",
       "<style scoped>\n",
       "    .dataframe tbody tr th:only-of-type {\n",
       "        vertical-align: middle;\n",
       "    }\n",
       "\n",
       "    .dataframe tbody tr th {\n",
       "        vertical-align: top;\n",
       "    }\n",
       "\n",
       "    .dataframe thead th {\n",
       "        text-align: right;\n",
       "    }\n",
       "</style>\n",
       "<table border=\"1\" class=\"dataframe\">\n",
       "  <thead>\n",
       "    <tr style=\"text-align: right;\">\n",
       "      <th></th>\n",
       "      <th>last</th>\n",
       "      <th>volume</th>\n",
       "      <th>symbol</th>\n",
       "      <th>name</th>\n",
       "      <th>last_suffix</th>\n",
       "      <th>prefix</th>\n",
       "      <th>symbol_nf</th>\n",
       "      <th>len</th>\n",
       "    </tr>\n",
       "    <tr>\n",
       "      <th>symbol</th>\n",
       "      <th></th>\n",
       "      <th></th>\n",
       "      <th></th>\n",
       "      <th></th>\n",
       "      <th></th>\n",
       "      <th></th>\n",
       "      <th></th>\n",
       "      <th></th>\n",
       "    </tr>\n",
       "  </thead>\n",
       "  <tbody>\n",
       "    <tr>\n",
       "      <th>1rPALGAUXX</th>\n",
       "      <td>0.115</td>\n",
       "      <td>0</td>\n",
       "      <td>1rPALGAUXX</td>\n",
       "      <td>GAUSSIN</td>\n",
       "      <td>c</td>\n",
       "      <td>1rP</td>\n",
       "      <td>ALGAUXX</td>\n",
       "      <td>7</td>\n",
       "    </tr>\n",
       "    <tr>\n",
       "      <th>1rEPALMIL</th>\n",
       "      <td>18.950</td>\n",
       "      <td>0</td>\n",
       "      <td>1rEPALMIL</td>\n",
       "      <td>1000MERCIS</td>\n",
       "      <td>c</td>\n",
       "      <td>1rE</td>\n",
       "      <td>ALMIL</td>\n",
       "      <td>5</td>\n",
       "    </tr>\n",
       "    <tr>\n",
       "      <th>1rPMLCLI</th>\n",
       "      <td>2.020</td>\n",
       "      <td>0</td>\n",
       "      <td>1rPMLCLI</td>\n",
       "      <td>MAISON CLIO</td>\n",
       "      <td>c</td>\n",
       "      <td>1rP</td>\n",
       "      <td>MLCLI</td>\n",
       "      <td>5</td>\n",
       "    </tr>\n",
       "    <tr>\n",
       "      <th>1rPMEDCL</th>\n",
       "      <td>13.300</td>\n",
       "      <td>4195</td>\n",
       "      <td>1rPMEDCL</td>\n",
       "      <td>MEDINCELL</td>\n",
       "      <td>NaN</td>\n",
       "      <td>1rP</td>\n",
       "      <td>MEDCL</td>\n",
       "      <td>5</td>\n",
       "    </tr>\n",
       "    <tr>\n",
       "      <th>1rPALMED</th>\n",
       "      <td>6.900</td>\n",
       "      <td>0</td>\n",
       "      <td>1rPALMED</td>\n",
       "      <td>MEDICREA INTERN.</td>\n",
       "      <td>c</td>\n",
       "      <td>1rP</td>\n",
       "      <td>ALMED</td>\n",
       "      <td>5</td>\n",
       "    </tr>\n",
       "    <tr>\n",
       "      <th>...</th>\n",
       "      <td>...</td>\n",
       "      <td>...</td>\n",
       "      <td>...</td>\n",
       "      <td>...</td>\n",
       "      <td>...</td>\n",
       "      <td>...</td>\n",
       "      <td>...</td>\n",
       "      <td>...</td>\n",
       "    </tr>\n",
       "    <tr>\n",
       "      <th>1rPIVA</th>\n",
       "      <td>12.740</td>\n",
       "      <td>6925</td>\n",
       "      <td>1rPIVA</td>\n",
       "      <td>INVENTIVA</td>\n",
       "      <td>NaN</td>\n",
       "      <td>1rP</td>\n",
       "      <td>IVA</td>\n",
       "      <td>3</td>\n",
       "    </tr>\n",
       "    <tr>\n",
       "      <th>1rPHF</th>\n",
       "      <td>4.950</td>\n",
       "      <td>2170</td>\n",
       "      <td>1rPHF</td>\n",
       "      <td>HF COMPANY</td>\n",
       "      <td>NaN</td>\n",
       "      <td>1rP</td>\n",
       "      <td>HF</td>\n",
       "      <td>2</td>\n",
       "    </tr>\n",
       "    <tr>\n",
       "      <th>1rPGV</th>\n",
       "      <td>0.804</td>\n",
       "      <td>792116</td>\n",
       "      <td>1rPGV</td>\n",
       "      <td>GENOMIC VISION</td>\n",
       "      <td>c</td>\n",
       "      <td>1rP</td>\n",
       "      <td>GV</td>\n",
       "      <td>2</td>\n",
       "    </tr>\n",
       "    <tr>\n",
       "      <th>1rPAB</th>\n",
       "      <td>16.020</td>\n",
       "      <td>19801</td>\n",
       "      <td>1rPAB</td>\n",
       "      <td>AB SCIENCE</td>\n",
       "      <td>NaN</td>\n",
       "      <td>1rP</td>\n",
       "      <td>AB</td>\n",
       "      <td>2</td>\n",
       "    </tr>\n",
       "    <tr>\n",
       "      <th>1rPSX</th>\n",
       "      <td>3.740</td>\n",
       "      <td>598</td>\n",
       "      <td>1rPSX</td>\n",
       "      <td>CS GROUP</td>\n",
       "      <td>NaN</td>\n",
       "      <td>1rP</td>\n",
       "      <td>SX</td>\n",
       "      <td>2</td>\n",
       "    </tr>\n",
       "  </tbody>\n",
       "</table>\n",
       "<p>486 rows × 8 columns</p>\n",
       "</div>"
      ],
      "text/plain": [
       "              last  volume      symbol              name last_suffix prefix  \\\n",
       "symbol                                                                        \n",
       "1rPALGAUXX   0.115       0  1rPALGAUXX           GAUSSIN           c    1rP   \n",
       "1rEPALMIL   18.950       0   1rEPALMIL        1000MERCIS           c    1rE   \n",
       "1rPMLCLI     2.020       0    1rPMLCLI       MAISON CLIO           c    1rP   \n",
       "1rPMEDCL    13.300    4195    1rPMEDCL         MEDINCELL         NaN    1rP   \n",
       "1rPALMED     6.900       0    1rPALMED  MEDICREA INTERN.           c    1rP   \n",
       "...            ...     ...         ...               ...         ...    ...   \n",
       "1rPIVA      12.740    6925      1rPIVA         INVENTIVA         NaN    1rP   \n",
       "1rPHF        4.950    2170       1rPHF        HF COMPANY         NaN    1rP   \n",
       "1rPGV        0.804  792116       1rPGV    GENOMIC VISION           c    1rP   \n",
       "1rPAB       16.020   19801       1rPAB        AB SCIENCE         NaN    1rP   \n",
       "1rPSX        3.740     598       1rPSX          CS GROUP         NaN    1rP   \n",
       "\n",
       "           symbol_nf  len  \n",
       "symbol                     \n",
       "1rPALGAUXX   ALGAUXX    7  \n",
       "1rEPALMIL      ALMIL    5  \n",
       "1rPMLCLI       MLCLI    5  \n",
       "1rPMEDCL       MEDCL    5  \n",
       "1rPALMED       ALMED    5  \n",
       "...              ...  ...  \n",
       "1rPIVA           IVA    3  \n",
       "1rPHF             HF    2  \n",
       "1rPGV             GV    2  \n",
       "1rPAB             AB    2  \n",
       "1rPSX             SX    2  \n",
       "\n",
       "[486 rows x 8 columns]"
      ]
     },
     "execution_count": 15,
     "metadata": {},
     "output_type": "execute_result"
    }
   ],
   "source": [
    "df[\"len\"] = df[\"symbol_nf\"].apply(len)\n",
    "df.sort_values(\"len\", ascending=False)"
   ]
  },
  {
   "cell_type": "code",
   "execution_count": 23,
   "metadata": {},
   "outputs": [
    {
     "data": {
      "text/plain": [
       "last_suffix\n",
       "c    297\n",
       "s      7\n",
       "Name: count, dtype: int64"
      ]
     },
     "execution_count": 23,
     "metadata": {},
     "output_type": "execute_result"
    }
   ],
   "source": [
    "df[\"last_suffix\"].value_counts()"
   ]
  },
  {
   "cell_type": "markdown",
   "metadata": {},
   "source": [
    "## CompA - Symbol NF handling"
   ]
  },
  {
   "cell_type": "code",
   "execution_count": null,
   "metadata": {},
   "outputs": [],
   "source": []
  }
 ],
 "metadata": {
  "kernelspec": {
   "display_name": "big_data_bourse",
   "language": "python",
   "name": "python3"
  },
  "language_info": {
   "codemirror_mode": {
    "name": "ipython",
    "version": 3
   },
   "file_extension": ".py",
   "mimetype": "text/x-python",
   "name": "python",
   "nbconvert_exporter": "python",
   "pygments_lexer": "ipython3",
   "version": "3.10.12"
  }
 },
 "nbformat": 4,
 "nbformat_minor": 2
}
