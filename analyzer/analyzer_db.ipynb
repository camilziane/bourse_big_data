{
 "cells": [
  {
   "cell_type": "code",
   "execution_count": 2,
   "metadata": {},
   "outputs": [
    {
     "name": "stdout",
     "output_type": "stream",
     "text": [
      "The autoreload extension is already loaded. To reload it, use:\n",
      "  %reload_ext autoreload\n"
     ]
    }
   ],
   "source": [
    "%load_ext autoreload\n",
    "%autoreload 2"
   ]
  },
  {
   "cell_type": "code",
   "execution_count": 19,
   "metadata": {},
   "outputs": [
    {
     "name": "stdout",
     "output_type": "stream",
     "text": [
      "Logs of timescaledb_model go to ../data/bourse.log\n"
     ]
    }
   ],
   "source": [
    "from constant import IS_DOCKER\n",
    "import timescaledb_model as tsdb\n",
    "db = (\n",
    "    tsdb.TimescaleStockMarketModel(\"bourse\", \"ricou\", \"db\", \"monmdp\")\n",
    "    if IS_DOCKER\n",
    "    else tsdb.TimescaleStockMarketModel(\"bourse\", \"ricou\", \"localhost\", \"monmdp\")\n",
    ")"
   ]
  },
  {
   "cell_type": "code",
   "execution_count": 20,
   "metadata": {},
   "outputs": [],
   "source": [
    "db.clean_database()"
   ]
  },
  {
   "cell_type": "code",
   "execution_count": 21,
   "metadata": {},
   "outputs": [],
   "source": [
    "db._setup_database()"
   ]
  }
 ],
 "metadata": {
  "kernelspec": {
   "display_name": "bourse_analyse_big_data",
   "language": "python",
   "name": "python3"
  },
  "language_info": {
   "codemirror_mode": {
    "name": "ipython",
    "version": 3
   },
   "file_extension": ".py",
   "mimetype": "text/x-python",
   "name": "python",
   "nbconvert_exporter": "python",
   "pygments_lexer": "ipython3",
   "version": "3.10.12"
  }
 },
 "nbformat": 4,
 "nbformat_minor": 2
}
